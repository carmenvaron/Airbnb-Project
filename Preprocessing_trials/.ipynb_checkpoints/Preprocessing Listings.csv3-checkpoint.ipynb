{
 "cells": [
  {
   "cell_type": "code",
   "execution_count": 1,
   "metadata": {},
   "outputs": [],
   "source": [
    "%matplotlib inline\n",
    "import matplotlib.pyplot as plt\n",
    "import numpy as np\n",
    "import pandas as pd\n",
    "import io\n",
    "import os\n",
    "import math"
   ]
  },
  {
   "cell_type": "code",
   "execution_count": 2,
   "metadata": {},
   "outputs": [
    {
     "name": "stdout",
     "output_type": "stream",
     "text": [
      "'Preprocessing Listings.csv2.ipynb'  'Preprocessing Listings.csv.ipynb'\r\n",
      "'Preprocessing Listings.csv3.ipynb'\r\n"
     ]
    }
   ],
   "source": [
    "! ls $PWD"
   ]
  },
  {
   "cell_type": "code",
   "execution_count": 9,
   "metadata": {},
   "outputs": [],
   "source": [
    "listingsOr = pd.read_csv('../Data/listings.csv')"
   ]
  },
  {
   "cell_type": "markdown",
   "metadata": {},
   "source": [
    "# We start studying and cleaning listings df"
   ]
  },
  {
   "cell_type": "code",
   "execution_count": 10,
   "metadata": {},
   "outputs": [
    {
     "data": {
      "text/html": [
       "<div>\n",
       "<style scoped>\n",
       "    .dataframe tbody tr th:only-of-type {\n",
       "        vertical-align: middle;\n",
       "    }\n",
       "\n",
       "    .dataframe tbody tr th {\n",
       "        vertical-align: top;\n",
       "    }\n",
       "\n",
       "    .dataframe thead th {\n",
       "        text-align: right;\n",
       "    }\n",
       "</style>\n",
       "<table border=\"1\" class=\"dataframe\">\n",
       "  <thead>\n",
       "    <tr style=\"text-align: right;\">\n",
       "      <th></th>\n",
       "      <th>id</th>\n",
       "      <th>scrape_id</th>\n",
       "      <th>thumbnail_url</th>\n",
       "      <th>medium_url</th>\n",
       "      <th>xl_picture_url</th>\n",
       "      <th>host_id</th>\n",
       "      <th>host_acceptance_rate</th>\n",
       "      <th>host_listings_count</th>\n",
       "      <th>host_total_listings_count</th>\n",
       "      <th>latitude</th>\n",
       "      <th>...</th>\n",
       "      <th>review_scores_rating</th>\n",
       "      <th>review_scores_accuracy</th>\n",
       "      <th>review_scores_cleanliness</th>\n",
       "      <th>review_scores_checkin</th>\n",
       "      <th>review_scores_communication</th>\n",
       "      <th>review_scores_location</th>\n",
       "      <th>review_scores_value</th>\n",
       "      <th>jurisdiction_names</th>\n",
       "      <th>calculated_host_listings_count</th>\n",
       "      <th>reviews_per_month</th>\n",
       "    </tr>\n",
       "  </thead>\n",
       "  <tbody>\n",
       "    <tr>\n",
       "      <th>count</th>\n",
       "      <td>1.631300e+04</td>\n",
       "      <td>1.631300e+04</td>\n",
       "      <td>0.0</td>\n",
       "      <td>0.0</td>\n",
       "      <td>0.0</td>\n",
       "      <td>1.631300e+04</td>\n",
       "      <td>0.0</td>\n",
       "      <td>16284.000000</td>\n",
       "      <td>16284.000000</td>\n",
       "      <td>16313.000000</td>\n",
       "      <td>...</td>\n",
       "      <td>13118.000000</td>\n",
       "      <td>13105.000000</td>\n",
       "      <td>13111.000000</td>\n",
       "      <td>13089.000000</td>\n",
       "      <td>13104.000000</td>\n",
       "      <td>13083.000000</td>\n",
       "      <td>13082.000000</td>\n",
       "      <td>0.0</td>\n",
       "      <td>16313.000000</td>\n",
       "      <td>13261.000000</td>\n",
       "    </tr>\n",
       "    <tr>\n",
       "      <th>mean</th>\n",
       "      <td>1.406692e+07</td>\n",
       "      <td>2.018012e+13</td>\n",
       "      <td>NaN</td>\n",
       "      <td>NaN</td>\n",
       "      <td>NaN</td>\n",
       "      <td>5.516152e+07</td>\n",
       "      <td>NaN</td>\n",
       "      <td>13.053058</td>\n",
       "      <td>13.053058</td>\n",
       "      <td>40.420583</td>\n",
       "      <td>...</td>\n",
       "      <td>92.426666</td>\n",
       "      <td>9.484624</td>\n",
       "      <td>9.378003</td>\n",
       "      <td>9.667431</td>\n",
       "      <td>9.658501</td>\n",
       "      <td>9.578766</td>\n",
       "      <td>9.248433</td>\n",
       "      <td>NaN</td>\n",
       "      <td>8.575921</td>\n",
       "      <td>2.062498</td>\n",
       "    </tr>\n",
       "    <tr>\n",
       "      <th>std</th>\n",
       "      <td>6.700650e+06</td>\n",
       "      <td>4.355602e+00</td>\n",
       "      <td>NaN</td>\n",
       "      <td>NaN</td>\n",
       "      <td>NaN</td>\n",
       "      <td>4.934384e+07</td>\n",
       "      <td>NaN</td>\n",
       "      <td>48.033478</td>\n",
       "      <td>48.033478</td>\n",
       "      <td>0.020241</td>\n",
       "      <td>...</td>\n",
       "      <td>8.857210</td>\n",
       "      <td>0.892461</td>\n",
       "      <td>0.975935</td>\n",
       "      <td>0.765794</td>\n",
       "      <td>0.797749</td>\n",
       "      <td>0.751881</td>\n",
       "      <td>0.945927</td>\n",
       "      <td>NaN</td>\n",
       "      <td>22.955640</td>\n",
       "      <td>2.641989</td>\n",
       "    </tr>\n",
       "    <tr>\n",
       "      <th>min</th>\n",
       "      <td>1.862800e+04</td>\n",
       "      <td>2.018012e+13</td>\n",
       "      <td>NaN</td>\n",
       "      <td>NaN</td>\n",
       "      <td>NaN</td>\n",
       "      <td>5.154000e+03</td>\n",
       "      <td>NaN</td>\n",
       "      <td>0.000000</td>\n",
       "      <td>0.000000</td>\n",
       "      <td>40.321048</td>\n",
       "      <td>...</td>\n",
       "      <td>20.000000</td>\n",
       "      <td>2.000000</td>\n",
       "      <td>2.000000</td>\n",
       "      <td>2.000000</td>\n",
       "      <td>2.000000</td>\n",
       "      <td>2.000000</td>\n",
       "      <td>2.000000</td>\n",
       "      <td>NaN</td>\n",
       "      <td>1.000000</td>\n",
       "      <td>0.020000</td>\n",
       "    </tr>\n",
       "    <tr>\n",
       "      <th>25%</th>\n",
       "      <td>8.791775e+06</td>\n",
       "      <td>2.018012e+13</td>\n",
       "      <td>NaN</td>\n",
       "      <td>NaN</td>\n",
       "      <td>NaN</td>\n",
       "      <td>1.096953e+07</td>\n",
       "      <td>NaN</td>\n",
       "      <td>1.000000</td>\n",
       "      <td>1.000000</td>\n",
       "      <td>40.409933</td>\n",
       "      <td>...</td>\n",
       "      <td>90.000000</td>\n",
       "      <td>9.000000</td>\n",
       "      <td>9.000000</td>\n",
       "      <td>10.000000</td>\n",
       "      <td>10.000000</td>\n",
       "      <td>9.000000</td>\n",
       "      <td>9.000000</td>\n",
       "      <td>NaN</td>\n",
       "      <td>1.000000</td>\n",
       "      <td>0.510000</td>\n",
       "    </tr>\n",
       "    <tr>\n",
       "      <th>50%</th>\n",
       "      <td>1.584329e+07</td>\n",
       "      <td>2.018012e+13</td>\n",
       "      <td>NaN</td>\n",
       "      <td>NaN</td>\n",
       "      <td>NaN</td>\n",
       "      <td>3.890332e+07</td>\n",
       "      <td>NaN</td>\n",
       "      <td>2.000000</td>\n",
       "      <td>2.000000</td>\n",
       "      <td>40.418763</td>\n",
       "      <td>...</td>\n",
       "      <td>95.000000</td>\n",
       "      <td>10.000000</td>\n",
       "      <td>10.000000</td>\n",
       "      <td>10.000000</td>\n",
       "      <td>10.000000</td>\n",
       "      <td>10.000000</td>\n",
       "      <td>9.000000</td>\n",
       "      <td>NaN</td>\n",
       "      <td>2.000000</td>\n",
       "      <td>1.360000</td>\n",
       "    </tr>\n",
       "    <tr>\n",
       "      <th>75%</th>\n",
       "      <td>1.955322e+07</td>\n",
       "      <td>2.018012e+13</td>\n",
       "      <td>NaN</td>\n",
       "      <td>NaN</td>\n",
       "      <td>NaN</td>\n",
       "      <td>9.618825e+07</td>\n",
       "      <td>NaN</td>\n",
       "      <td>6.000000</td>\n",
       "      <td>6.000000</td>\n",
       "      <td>40.427577</td>\n",
       "      <td>...</td>\n",
       "      <td>98.000000</td>\n",
       "      <td>10.000000</td>\n",
       "      <td>10.000000</td>\n",
       "      <td>10.000000</td>\n",
       "      <td>10.000000</td>\n",
       "      <td>10.000000</td>\n",
       "      <td>10.000000</td>\n",
       "      <td>NaN</td>\n",
       "      <td>5.000000</td>\n",
       "      <td>2.990000</td>\n",
       "    </tr>\n",
       "    <tr>\n",
       "      <th>max</th>\n",
       "      <td>2.277218e+07</td>\n",
       "      <td>2.018012e+13</td>\n",
       "      <td>NaN</td>\n",
       "      <td>NaN</td>\n",
       "      <td>NaN</td>\n",
       "      <td>1.681233e+08</td>\n",
       "      <td>NaN</td>\n",
       "      <td>733.000000</td>\n",
       "      <td>733.000000</td>\n",
       "      <td>40.604738</td>\n",
       "      <td>...</td>\n",
       "      <td>100.000000</td>\n",
       "      <td>10.000000</td>\n",
       "      <td>10.000000</td>\n",
       "      <td>10.000000</td>\n",
       "      <td>10.000000</td>\n",
       "      <td>10.000000</td>\n",
       "      <td>10.000000</td>\n",
       "      <td>NaN</td>\n",
       "      <td>179.000000</td>\n",
       "      <td>155.740000</td>\n",
       "    </tr>\n",
       "  </tbody>\n",
       "</table>\n",
       "<p>8 rows × 34 columns</p>\n",
       "</div>"
      ],
      "text/plain": [
       "                 id     scrape_id  thumbnail_url  medium_url  xl_picture_url  \\\n",
       "count  1.631300e+04  1.631300e+04            0.0         0.0             0.0   \n",
       "mean   1.406692e+07  2.018012e+13            NaN         NaN             NaN   \n",
       "std    6.700650e+06  4.355602e+00            NaN         NaN             NaN   \n",
       "min    1.862800e+04  2.018012e+13            NaN         NaN             NaN   \n",
       "25%    8.791775e+06  2.018012e+13            NaN         NaN             NaN   \n",
       "50%    1.584329e+07  2.018012e+13            NaN         NaN             NaN   \n",
       "75%    1.955322e+07  2.018012e+13            NaN         NaN             NaN   \n",
       "max    2.277218e+07  2.018012e+13            NaN         NaN             NaN   \n",
       "\n",
       "            host_id  host_acceptance_rate  host_listings_count  \\\n",
       "count  1.631300e+04                   0.0         16284.000000   \n",
       "mean   5.516152e+07                   NaN            13.053058   \n",
       "std    4.934384e+07                   NaN            48.033478   \n",
       "min    5.154000e+03                   NaN             0.000000   \n",
       "25%    1.096953e+07                   NaN             1.000000   \n",
       "50%    3.890332e+07                   NaN             2.000000   \n",
       "75%    9.618825e+07                   NaN             6.000000   \n",
       "max    1.681233e+08                   NaN           733.000000   \n",
       "\n",
       "       host_total_listings_count      latitude        ...          \\\n",
       "count               16284.000000  16313.000000        ...           \n",
       "mean                   13.053058     40.420583        ...           \n",
       "std                    48.033478      0.020241        ...           \n",
       "min                     0.000000     40.321048        ...           \n",
       "25%                     1.000000     40.409933        ...           \n",
       "50%                     2.000000     40.418763        ...           \n",
       "75%                     6.000000     40.427577        ...           \n",
       "max                   733.000000     40.604738        ...           \n",
       "\n",
       "       review_scores_rating  review_scores_accuracy  \\\n",
       "count          13118.000000            13105.000000   \n",
       "mean              92.426666                9.484624   \n",
       "std                8.857210                0.892461   \n",
       "min               20.000000                2.000000   \n",
       "25%               90.000000                9.000000   \n",
       "50%               95.000000               10.000000   \n",
       "75%               98.000000               10.000000   \n",
       "max              100.000000               10.000000   \n",
       "\n",
       "       review_scores_cleanliness  review_scores_checkin  \\\n",
       "count               13111.000000           13089.000000   \n",
       "mean                    9.378003               9.667431   \n",
       "std                     0.975935               0.765794   \n",
       "min                     2.000000               2.000000   \n",
       "25%                     9.000000              10.000000   \n",
       "50%                    10.000000              10.000000   \n",
       "75%                    10.000000              10.000000   \n",
       "max                    10.000000              10.000000   \n",
       "\n",
       "       review_scores_communication  review_scores_location  \\\n",
       "count                 13104.000000            13083.000000   \n",
       "mean                      9.658501                9.578766   \n",
       "std                       0.797749                0.751881   \n",
       "min                       2.000000                2.000000   \n",
       "25%                      10.000000                9.000000   \n",
       "50%                      10.000000               10.000000   \n",
       "75%                      10.000000               10.000000   \n",
       "max                      10.000000               10.000000   \n",
       "\n",
       "       review_scores_value  jurisdiction_names  \\\n",
       "count         13082.000000                 0.0   \n",
       "mean              9.248433                 NaN   \n",
       "std               0.945927                 NaN   \n",
       "min               2.000000                 NaN   \n",
       "25%               9.000000                 NaN   \n",
       "50%               9.000000                 NaN   \n",
       "75%              10.000000                 NaN   \n",
       "max              10.000000                 NaN   \n",
       "\n",
       "       calculated_host_listings_count  reviews_per_month  \n",
       "count                    16313.000000       13261.000000  \n",
       "mean                         8.575921           2.062498  \n",
       "std                         22.955640           2.641989  \n",
       "min                          1.000000           0.020000  \n",
       "25%                          1.000000           0.510000  \n",
       "50%                          2.000000           1.360000  \n",
       "75%                          5.000000           2.990000  \n",
       "max                        179.000000         155.740000  \n",
       "\n",
       "[8 rows x 34 columns]"
      ]
     },
     "execution_count": 10,
     "metadata": {},
     "output_type": "execute_result"
    }
   ],
   "source": [
    "listingsOr.describe()"
   ]
  },
  {
   "cell_type": "code",
   "execution_count": 11,
   "metadata": {},
   "outputs": [],
   "source": [
    "#Potential columns to drop:\n",
    "columns_to_drop = ['listing_url','scrape_id', 'last_scraped', 'scrape_id', 'last_scraped', 'name', \n",
    "                   'experiences_offered', 'picture_url','host_url', 'host_name','host_thumbnail_url', \n",
    "                   'host_picture_url', 'host_location','summary', 'space', 'description', 'neighbourhood', \n",
    "                   'neighbourhood_group_cleansed','city','state', 'zipcode', 'market', 'smart_location',\n",
    "                   'neighborhood_overview','notes', 'transit', 'access', 'interaction', 'house_rules', \n",
    "                   'host_id', 'host_about', 'license', 'requires_license', 'host_neighbourhood','host_verifications',\n",
    "                   'street', 'country_code', 'is_location_exact', 'guests_included', 'calendar_updated', \n",
    "                   'has_availability','calendar_last_scraped', 'host_total_listings_count', 'maximum_nights','country']\n",
    "#remove for Nan\n",
    "rows_to_drop=['bedrooms','bathrooms','beds','review_scores_value', 'latitude', 'longitude', 'neighbourhood_cleansed']"
   ]
  },
  {
   "cell_type": "code",
   "execution_count": 12,
   "metadata": {},
   "outputs": [],
   "source": [
    "listings = listingsOr.copy()"
   ]
  },
  {
   "cell_type": "code",
   "execution_count": 13,
   "metadata": {},
   "outputs": [],
   "source": [
    "#We delete all columns that are all NaN\n",
    "listings=listings.dropna(axis=1,how='all')"
   ]
  },
  {
   "cell_type": "code",
   "execution_count": 14,
   "metadata": {},
   "outputs": [],
   "source": [
    "#for column in columns_to_drop:\n",
    "listings=listings.drop(columns_to_drop,axis=1)"
   ]
  },
  {
   "cell_type": "code",
   "execution_count": 15,
   "metadata": {},
   "outputs": [],
   "source": [
    "listings=listings.dropna(axis=0,how='any',subset=rows_to_drop)"
   ]
  },
  {
   "cell_type": "code",
   "execution_count": 16,
   "metadata": {},
   "outputs": [
    {
     "data": {
      "text/plain": [
       "(13048, 48)"
      ]
     },
     "execution_count": 16,
     "metadata": {},
     "output_type": "execute_result"
    }
   ],
   "source": [
    "listings.shape"
   ]
  },
  {
   "cell_type": "markdown",
   "metadata": {},
   "source": [
    "### We make sure there are no null values in the features we are going to use"
   ]
  },
  {
   "cell_type": "code",
   "execution_count": 17,
   "metadata": {
    "scrolled": true
   },
   "outputs": [
    {
     "data": {
      "text/plain": [
       "id                                      0\n",
       "host_since                             18\n",
       "host_response_time                   1242\n",
       "host_response_rate                   1242\n",
       "host_is_superhost                      18\n",
       "host_listings_count                    18\n",
       "host_has_profile_pic                   18\n",
       "host_identity_verified                 18\n",
       "neighbourhood_cleansed                  0\n",
       "latitude                                0\n",
       "longitude                               0\n",
       "property_type                           0\n",
       "room_type                               0\n",
       "accommodates                            0\n",
       "bathrooms                               0\n",
       "bedrooms                                0\n",
       "beds                                    0\n",
       "bed_type                                0\n",
       "amenities                               0\n",
       "square_feet                         12636\n",
       "price                                   0\n",
       "weekly_price                        10477\n",
       "monthly_price                       10628\n",
       "security_deposit                     4575\n",
       "cleaning_fee                         3333\n",
       "extra_people                            0\n",
       "minimum_nights                          0\n",
       "availability_30                         0\n",
       "availability_60                         0\n",
       "availability_90                         0\n",
       "availability_365                        0\n",
       "number_of_reviews                       0\n",
       "first_review                            0\n",
       "last_review                             0\n",
       "review_scores_rating                    1\n",
       "review_scores_accuracy                  5\n",
       "review_scores_cleanliness               3\n",
       "review_scores_checkin                   1\n",
       "review_scores_communication             1\n",
       "review_scores_location                  1\n",
       "review_scores_value                     0\n",
       "instant_bookable                        0\n",
       "is_business_travel_ready                0\n",
       "cancellation_policy                     0\n",
       "require_guest_profile_picture           0\n",
       "require_guest_phone_verification        0\n",
       "calculated_host_listings_count          0\n",
       "reviews_per_month                       0\n",
       "dtype: int64"
      ]
     },
     "execution_count": 17,
     "metadata": {},
     "output_type": "execute_result"
    }
   ],
   "source": [
    "listings.isnull().sum()"
   ]
  },
  {
   "cell_type": "code",
   "execution_count": 18,
   "metadata": {},
   "outputs": [],
   "source": [
    "#We supose null values are no superhost\n",
    "listings['host_is_superhost'].fillna('f', inplace=True)\n",
    "#listings['host_is_superhost']=np.where(listings['host_is_superhost']=='f', 0, 1)"
   ]
  },
  {
   "cell_type": "code",
   "execution_count": 19,
   "metadata": {},
   "outputs": [],
   "source": [
    "#We supose null values are no picture\n",
    "listings['host_has_profile_pic'].fillna('f', inplace=True)\n",
    "#listings['host_has_profile_pic']=np.where(listings['host_has_profile_pic']=='f', 0, 1)"
   ]
  },
  {
   "cell_type": "code",
   "execution_count": 20,
   "metadata": {},
   "outputs": [],
   "source": [
    "#We supose null values are no identity verified\n",
    "listings['host_identity_verified'].fillna('f', inplace=True)\n",
    "#listings['host_identity_verified']=np.where(listings['host_identity_verified']=='f', 0, 1)"
   ]
  },
  {
   "cell_type": "code",
   "execution_count": 21,
   "metadata": {},
   "outputs": [],
   "source": [
    "#We would remove square_feet column as there are too many missing values, but we are not going to use this column\n",
    "#listings=listings.drop('square_feet', axis=1)"
   ]
  },
  {
   "cell_type": "code",
   "execution_count": 22,
   "metadata": {},
   "outputs": [],
   "source": [
    "#We convert weekly price and monthly price to boolean, as there are too many missing values,\n",
    "#and being missing might mean that they do not have a different price\n",
    "listings['weekly_price']=(listings['weekly_price'].str.replace(r'[^\\d.]','').astype(float))\n",
    "listings['weekly_price'].fillna(0, inplace=True)\n",
    "listings['weekly_price']=np.where(listings['weekly_price']>0, 't', 'f')"
   ]
  },
  {
   "cell_type": "code",
   "execution_count": 23,
   "metadata": {},
   "outputs": [],
   "source": [
    "listings['monthly_price']=(listings['monthly_price'].str.replace(r'[^\\d.]','').astype(float))\n",
    "listings['monthly_price'].fillna(0, inplace=True)\n",
    "listings['monthly_price']=np.where(listings['monthly_price']>0, 't', 'f')"
   ]
  },
  {
   "cell_type": "code",
   "execution_count": 24,
   "metadata": {},
   "outputs": [],
   "source": [
    "#We supose having missing fee might mean there is no fee\n",
    "listings['security_deposit']=(listings['security_deposit'].str.replace(r'[^\\d.]','').astype(float))\n",
    "listings['security_deposit'].fillna(0, inplace=True)\n",
    "listings['cleaning_fee']=(listings['cleaning_fee'].str.replace(r'[^\\d.]','').astype(float))\n",
    "listings['cleaning_fee'].fillna(0, inplace=True)"
   ]
  },
  {
   "cell_type": "code",
   "execution_count": 25,
   "metadata": {},
   "outputs": [],
   "source": [
    "#We remove all rows where any of the \"scores\" columns is missing\n",
    "reviewScoresColums = listings.filter(regex='review_scores.*').columns\n",
    "listings=listings.dropna(axis=0,how='any', subset=reviewScoresColums)"
   ]
  },
  {
   "cell_type": "code",
   "execution_count": 26,
   "metadata": {},
   "outputs": [],
   "source": [
    "#We supose if there is no information about the number of houses rented by the host, it is at least for sure 1\n",
    "listings['host_listings_count'].fillna(1, inplace=True)"
   ]
  },
  {
   "cell_type": "code",
   "execution_count": 27,
   "metadata": {},
   "outputs": [],
   "source": [
    "#We fill the missing values with the mean and the mode\n",
    "listings['host_response_rate']=(listings['host_response_rate'].str.replace(\"%\",'').astype(float))/100\n",
    "listings['host_response_rate'].fillna(listings['host_response_rate'].median(),inplace=True)\n",
    "listings['host_response_time'].fillna('within an hour',inplace=True)"
   ]
  },
  {
   "cell_type": "code",
   "execution_count": 28,
   "metadata": {},
   "outputs": [
    {
     "data": {
      "text/plain": [
       "id                                      0\n",
       "host_since                             18\n",
       "host_response_time                      0\n",
       "host_response_rate                      0\n",
       "host_is_superhost                       0\n",
       "host_listings_count                     0\n",
       "host_has_profile_pic                    0\n",
       "host_identity_verified                  0\n",
       "neighbourhood_cleansed                  0\n",
       "latitude                                0\n",
       "longitude                               0\n",
       "property_type                           0\n",
       "room_type                               0\n",
       "accommodates                            0\n",
       "bathrooms                               0\n",
       "bedrooms                                0\n",
       "beds                                    0\n",
       "bed_type                                0\n",
       "amenities                               0\n",
       "square_feet                         12631\n",
       "price                                   0\n",
       "weekly_price                            0\n",
       "monthly_price                           0\n",
       "security_deposit                        0\n",
       "cleaning_fee                            0\n",
       "extra_people                            0\n",
       "minimum_nights                          0\n",
       "availability_30                         0\n",
       "availability_60                         0\n",
       "availability_90                         0\n",
       "availability_365                        0\n",
       "number_of_reviews                       0\n",
       "first_review                            0\n",
       "last_review                             0\n",
       "review_scores_rating                    0\n",
       "review_scores_accuracy                  0\n",
       "review_scores_cleanliness               0\n",
       "review_scores_checkin                   0\n",
       "review_scores_communication             0\n",
       "review_scores_location                  0\n",
       "review_scores_value                     0\n",
       "instant_bookable                        0\n",
       "is_business_travel_ready                0\n",
       "cancellation_policy                     0\n",
       "require_guest_profile_picture           0\n",
       "require_guest_phone_verification        0\n",
       "calculated_host_listings_count          0\n",
       "reviews_per_month                       0\n",
       "dtype: int64"
      ]
     },
     "execution_count": 28,
     "metadata": {},
     "output_type": "execute_result"
    }
   ],
   "source": [
    "#Only missing values in host_since and square_feet columns\n",
    "listings.isnull().sum()"
   ]
  },
  {
   "cell_type": "code",
   "execution_count": 29,
   "metadata": {},
   "outputs": [],
   "source": [
    "listings = listings.reset_index()"
   ]
  },
  {
   "cell_type": "markdown",
   "metadata": {},
   "source": [
    "### We check the data types are right"
   ]
  },
  {
   "cell_type": "code",
   "execution_count": 30,
   "metadata": {
    "scrolled": true
   },
   "outputs": [
    {
     "data": {
      "text/plain": [
       "index                                 int64\n",
       "id                                    int64\n",
       "host_since                           object\n",
       "host_response_time                   object\n",
       "host_response_rate                  float64\n",
       "host_is_superhost                    object\n",
       "host_listings_count                 float64\n",
       "host_has_profile_pic                 object\n",
       "host_identity_verified               object\n",
       "neighbourhood_cleansed               object\n",
       "latitude                            float64\n",
       "longitude                           float64\n",
       "property_type                        object\n",
       "room_type                            object\n",
       "accommodates                          int64\n",
       "bathrooms                           float64\n",
       "bedrooms                            float64\n",
       "beds                                float64\n",
       "bed_type                             object\n",
       "amenities                            object\n",
       "square_feet                         float64\n",
       "price                                object\n",
       "weekly_price                         object\n",
       "monthly_price                        object\n",
       "security_deposit                    float64\n",
       "cleaning_fee                        float64\n",
       "extra_people                         object\n",
       "minimum_nights                        int64\n",
       "availability_30                       int64\n",
       "availability_60                       int64\n",
       "availability_90                       int64\n",
       "availability_365                      int64\n",
       "number_of_reviews                     int64\n",
       "first_review                         object\n",
       "last_review                          object\n",
       "review_scores_rating                float64\n",
       "review_scores_accuracy              float64\n",
       "review_scores_cleanliness           float64\n",
       "review_scores_checkin               float64\n",
       "review_scores_communication         float64\n",
       "review_scores_location              float64\n",
       "review_scores_value                 float64\n",
       "instant_bookable                     object\n",
       "is_business_travel_ready             object\n",
       "cancellation_policy                  object\n",
       "require_guest_profile_picture        object\n",
       "require_guest_phone_verification     object\n",
       "calculated_host_listings_count        int64\n",
       "reviews_per_month                   float64\n",
       "dtype: object"
      ]
     },
     "execution_count": 30,
     "metadata": {},
     "output_type": "execute_result"
    }
   ],
   "source": [
    "listings.dtypes"
   ]
  },
  {
   "cell_type": "markdown",
   "metadata": {},
   "source": [
    "#### Numeric variables"
   ]
  },
  {
   "cell_type": "code",
   "execution_count": 31,
   "metadata": {},
   "outputs": [],
   "source": [
    "numeric_features = ['id','latitude', 'longitude','host_response_rate','host_listings_count', 'accommodates', 'bathrooms',\n",
    "       'bedrooms', 'beds', 'price', 'security_deposit', 'cleaning_fee', 'extra_people',\n",
    "       'minimum_nights', 'availability_30', 'availability_60',\n",
    "       'availability_90', 'availability_365', 'number_of_reviews','review_scores_rating',\n",
    "       'review_scores_accuracy', 'review_scores_cleanliness',\n",
    "       'review_scores_checkin', 'review_scores_communication',\n",
    "       'review_scores_location', 'review_scores_value','calculated_host_listings_count', 'reviews_per_month']"
   ]
  },
  {
   "cell_type": "code",
   "execution_count": 32,
   "metadata": {},
   "outputs": [],
   "source": [
    "listings['price']=(listings['price'].str.replace(r'[^\\d.]','').astype(float))"
   ]
  },
  {
   "cell_type": "code",
   "execution_count": 33,
   "metadata": {},
   "outputs": [],
   "source": [
    "listings['extra_people']=(listings['extra_people'].str.replace(r'[^\\d.]','').astype(float))"
   ]
  },
  {
   "cell_type": "code",
   "execution_count": 34,
   "metadata": {},
   "outputs": [
    {
     "data": {
      "text/plain": [
       "(13042, 49)"
      ]
     },
     "execution_count": 34,
     "metadata": {},
     "output_type": "execute_result"
    }
   ],
   "source": [
    "listings.shape"
   ]
  },
  {
   "cell_type": "markdown",
   "metadata": {},
   "source": [
    "#### Amenities"
   ]
  },
  {
   "cell_type": "code",
   "execution_count": 35,
   "metadata": {},
   "outputs": [],
   "source": [
    "listings['amenities'] = listings['amenities'].map(\n",
    "    lambda amns: \"|\".join([amn.replace(\"}\", \"\").replace(\"{\", \"\").replace('\"', \"\")\\\n",
    "                           for amn in amns.split(\",\")])\n",
    ")"
   ]
  },
  {
   "cell_type": "code",
   "execution_count": 36,
   "metadata": {},
   "outputs": [],
   "source": [
    "amenities = np.unique(np.concatenate(listings['amenities'].map(lambda amns: amns.split(\"|\")).values))[1:-2] \n",
    "#First amenity is empty string and last 2 say \"translation missing\"\n",
    "amenities_matrix = np.array([listings['amenities'].map(lambda amns: 1 if amn in amns else 0) for amn in amenities])"
   ]
  },
  {
   "cell_type": "code",
   "execution_count": 37,
   "metadata": {},
   "outputs": [],
   "source": [
    "Amenities_columns =np.array([\"Amen_\" + amenity  for amenity in amenities])"
   ]
  },
  {
   "cell_type": "code",
   "execution_count": 38,
   "metadata": {},
   "outputs": [
    {
     "data": {
      "text/plain": [
       "array(['Amen_ toilet', 'Amen_24-hour check-in',\n",
       "       'Amen_Accessible-height bed', 'Amen_Accessible-height toilet',\n",
       "       'Amen_Air conditioning', 'Amen_BBQ grill', 'Amen_Baby bath',\n",
       "       'Amen_Baby monitor', 'Amen_Babysitter recommendations',\n",
       "       'Amen_Bathtub', 'Amen_Bathtub with shower chair',\n",
       "       'Amen_Beach essentials', 'Amen_Bed linens', 'Amen_Breakfast',\n",
       "       'Amen_Buzzer/wireless intercom', 'Amen_Cable TV',\n",
       "       'Amen_Carbon monoxide detector', 'Amen_Cat(s)',\n",
       "       'Amen_Changing table', 'Amen_Children’s books and toys',\n",
       "       'Amen_Children’s dinnerware', 'Amen_Cleaning before checkout',\n",
       "       'Amen_Coffee maker', 'Amen_Cooking basics', 'Amen_Crib',\n",
       "       'Amen_Disabled parking spot', 'Amen_Dishes and silverware',\n",
       "       'Amen_Dishwasher', 'Amen_Dog(s)', 'Amen_Doorman', 'Amen_Dryer',\n",
       "       'Amen_EV charger', 'Amen_Elevator', 'Amen_Essentials',\n",
       "       'Amen_Ethernet connection', 'Amen_Extra pillows and blankets',\n",
       "       'Amen_Family/kid friendly', 'Amen_Fire extinguisher',\n",
       "       'Amen_Fireplace guards', 'Amen_Firm mattress',\n",
       "       'Amen_First aid kit', 'Amen_Fixed grab bars for shower',\n",
       "       'Amen_Flat path to front door', 'Amen_Free parking on premises',\n",
       "       'Amen_Free parking on street', 'Amen_Game console',\n",
       "       'Amen_Garden or backyard', 'Amen_Ground floor access', 'Amen_Gym',\n",
       "       'Amen_Hair dryer', 'Amen_Handheld shower head', 'Amen_Hangers',\n",
       "       'Amen_Heating', 'Amen_High chair', 'Amen_Host greets you',\n",
       "       'Amen_Hot tub', 'Amen_Hot water', 'Amen_Hot water kettle',\n",
       "       'Amen_Indoor fireplace', 'Amen_Internet', 'Amen_Iron',\n",
       "       'Amen_Keypad', 'Amen_Kitchen', 'Amen_Lake access',\n",
       "       'Amen_Laptop friendly workspace', 'Amen_Lock on bedroom door',\n",
       "       'Amen_Lockbox', 'Amen_Long term stays allowed',\n",
       "       'Amen_Luggage dropoff allowed', 'Amen_Microwave', 'Amen_Other',\n",
       "       'Amen_Other pet(s)', 'Amen_Outlet covers', 'Amen_Oven',\n",
       "       'Amen_Pack ’n Play/travel crib', 'Amen_Paid parking off premises',\n",
       "       'Amen_Patio or balcony', 'Amen_Pets allowed',\n",
       "       'Amen_Pets live on this property', 'Amen_Pocket wifi', 'Amen_Pool',\n",
       "       'Amen_Private bathroom', 'Amen_Private entrance',\n",
       "       'Amen_Private living room', 'Amen_Refrigerator',\n",
       "       'Amen_Roll-in shower with chair', 'Amen_Room-darkening shades',\n",
       "       'Amen_Safety card', 'Amen_Self Check-In', 'Amen_Shampoo',\n",
       "       'Amen_Single level home', 'Amen_Ski in/Ski out', 'Amen_Smart lock',\n",
       "       'Amen_Smoke detector', 'Amen_Smoking allowed', 'Amen_Stair gates',\n",
       "       'Amen_Step-free access', 'Amen_Stove', 'Amen_Suitable for events',\n",
       "       'Amen_TV', 'Amen_Table corner guards', 'Amen_Washer',\n",
       "       'Amen_Washer / Dryer', 'Amen_Waterfront',\n",
       "       'Amen_Well-lit path to entrance', 'Amen_Wheelchair accessible',\n",
       "       'Amen_Wide clearance to bed', 'Amen_Wide clearance to shower',\n",
       "       'Amen_Wide doorway', 'Amen_Wide entryway',\n",
       "       'Amen_Wide hallway clearance', 'Amen_Window guards',\n",
       "       'Amen_Wireless Internet'], dtype='<U31')"
      ]
     },
     "execution_count": 38,
     "metadata": {},
     "output_type": "execute_result"
    }
   ],
   "source": [
    "Amenities_columns"
   ]
  },
  {
   "cell_type": "code",
   "execution_count": 39,
   "metadata": {},
   "outputs": [],
   "source": [
    "Amenities_DF = pd.DataFrame(data=amenities_matrix.T, columns=Amenities_columns)\n",
    "#As there are too many different amenities, we keep only the 2 ones that we consider could make a difference (this\n",
    "#coud be investigated deeper)\n",
    "Amenities_DF['Wifi'] = Amenities_DF[['Amen_Wireless Internet','Amen_Internet','Amen_Pocket wifi']].max(axis=1)\n",
    "Amenities_DF['Parking']=Amenities_DF['Amen_Paid parking off premises']"
   ]
  },
  {
   "cell_type": "markdown",
   "metadata": {},
   "source": [
    "#### Categorical variables"
   ]
  },
  {
   "cell_type": "code",
   "execution_count": 40,
   "metadata": {},
   "outputs": [],
   "source": [
    "categorical_features = ['neighbourhood_cleansed', 'property_type', 'bed_type','room_type','cancellation_policy']"
   ]
  },
  {
   "cell_type": "code",
   "execution_count": 41,
   "metadata": {},
   "outputs": [],
   "source": [
    "features = pd.concat([listings[numeric_features],listings[categorical_features],Amenities_DF['Wifi'],Amenities_DF['Parking']], axis=1)"
   ]
  },
  {
   "cell_type": "markdown",
   "metadata": {},
   "source": [
    "#### Boolean categories"
   ]
  },
  {
   "cell_type": "code",
   "execution_count": 42,
   "metadata": {},
   "outputs": [],
   "source": [
    "for tf_feature in ['host_is_superhost', 'host_identity_verified', 'host_has_profile_pic',\n",
    "                   'instant_bookable','require_guest_profile_picture', 'require_guest_phone_verification', \n",
    "                   'weekly_price', 'monthly_price', 'is_business_travel_ready', \n",
    "                   'require_guest_profile_picture', 'require_guest_phone_verification']:\n",
    "    features[tf_feature] = listings[tf_feature].map(lambda s: 0 if s == \"f\" else 1)"
   ]
  },
  {
   "cell_type": "code",
   "execution_count": 43,
   "metadata": {},
   "outputs": [],
   "source": [
    "features.to_csv('../Data/listings_cleanTotal.csv', index=False)"
   ]
  }
 ],
 "metadata": {
  "kernelspec": {
   "display_name": "Python 3",
   "language": "python",
   "name": "python3"
  },
  "language_info": {
   "codemirror_mode": {
    "name": "ipython",
    "version": 3
   },
   "file_extension": ".py",
   "mimetype": "text/x-python",
   "name": "python",
   "nbconvert_exporter": "python",
   "pygments_lexer": "ipython3",
   "version": "3.5.4"
  }
 },
 "nbformat": 4,
 "nbformat_minor": 2
}
