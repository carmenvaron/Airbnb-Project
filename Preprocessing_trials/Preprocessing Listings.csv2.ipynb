{
 "cells": [
  {
   "cell_type": "code",
   "execution_count": 73,
   "metadata": {},
   "outputs": [],
   "source": [
    "%matplotlib inline\n",
    "import matplotlib.pyplot as plt\n",
    "import numpy as np\n",
    "import pandas as pd\n",
    "import io\n",
    "import os\n",
    "import math"
   ]
  },
  {
   "cell_type": "code",
   "execution_count": 74,
   "metadata": {},
   "outputs": [
    {
     "name": "stdout",
     "output_type": "stream",
     "text": [
      "'Preprocessing Listings.csv2.ipynb'  'Preprocessing Listings.csv.ipynb'\r\n",
      "'Preprocessing Listings.csv3.ipynb'\r\n"
     ]
    }
   ],
   "source": [
    "! ls $PWD"
   ]
  },
  {
   "cell_type": "code",
   "execution_count": 75,
   "metadata": {},
   "outputs": [],
   "source": [
    "#calendarOr = pd.read_csv('../Airbnb-Project/Data/calendar.csv')\n",
    "listingsOr = pd.read_csv('../Data/listings.csv')\n",
    "#reviewsOr = pd.read_csv('../Airbnb-Project/Data/reviews.csv')"
   ]
  },
  {
   "cell_type": "markdown",
   "metadata": {},
   "source": [
    "# We start studying and cleaning listings df"
   ]
  },
  {
   "cell_type": "code",
   "execution_count": 76,
   "metadata": {},
   "outputs": [],
   "source": [
    "#Potential columns to drop:\n",
    "columns_to_drop = ['listing_url','scrape_id', 'last_scraped', 'scrape_id', 'last_scraped', 'name', \n",
    "                   'experiences_offered', 'picture_url','host_url', 'host_name','host_thumbnail_url', \n",
    "                   'host_picture_url', 'host_location','summary', 'space', 'description', 'neighbourhood', \n",
    "                   'neighbourhood_group_cleansed','city','state', 'zipcode', 'market', 'smart_location',\n",
    "                   'neighborhood_overview','notes', 'transit', 'access', 'interaction', 'house_rules', \n",
    "                   'host_id', 'host_about', 'license', 'requires_license', 'host_neighbourhood','host_verifications',\n",
    "                   'street', 'country_code', 'is_location_exact', 'guests_included', 'calendar_updated', \n",
    "                   'has_availability','calendar_last_scraped', 'host_total_listings_count', 'maximum_nights','country']\n",
    "#remove for Nan\n",
    "rows_to_drop=['bedrooms','bathrooms','beds','review_scores_value', 'latitude', 'longitude', 'neighbourhood_cleansed']"
   ]
  },
  {
   "cell_type": "code",
   "execution_count": 77,
   "metadata": {},
   "outputs": [],
   "source": [
    "#We delete all columns that are all NaN\n",
    "listings=listingsOr.dropna(axis=1,how='all')"
   ]
  },
  {
   "cell_type": "code",
   "execution_count": 78,
   "metadata": {},
   "outputs": [],
   "source": [
    "#for column in columns_to_drop:\n",
    "listings=listings.drop(columns_to_drop,axis=1)"
   ]
  },
  {
   "cell_type": "code",
   "execution_count": 79,
   "metadata": {},
   "outputs": [],
   "source": [
    "listings=listings.dropna(axis=0,how='any',subset=rows_to_drop)"
   ]
  },
  {
   "cell_type": "code",
   "execution_count": 80,
   "metadata": {},
   "outputs": [
    {
     "data": {
      "text/plain": [
       "(13048, 48)"
      ]
     },
     "execution_count": 80,
     "metadata": {},
     "output_type": "execute_result"
    }
   ],
   "source": [
    "listings.shape"
   ]
  },
  {
   "cell_type": "markdown",
   "metadata": {},
   "source": [
    "### We make sure there are no null values in the features we are going to use"
   ]
  },
  {
   "cell_type": "code",
   "execution_count": 81,
   "metadata": {
    "scrolled": true
   },
   "outputs": [
    {
     "data": {
      "text/plain": [
       "id                                      0\n",
       "host_since                             18\n",
       "host_response_time                   1242\n",
       "host_response_rate                   1242\n",
       "host_is_superhost                      18\n",
       "host_listings_count                    18\n",
       "host_has_profile_pic                   18\n",
       "host_identity_verified                 18\n",
       "neighbourhood_cleansed                  0\n",
       "latitude                                0\n",
       "longitude                               0\n",
       "property_type                           0\n",
       "room_type                               0\n",
       "accommodates                            0\n",
       "bathrooms                               0\n",
       "bedrooms                                0\n",
       "beds                                    0\n",
       "bed_type                                0\n",
       "amenities                               0\n",
       "square_feet                         12636\n",
       "price                                   0\n",
       "weekly_price                        10477\n",
       "monthly_price                       10628\n",
       "security_deposit                     4575\n",
       "cleaning_fee                         3333\n",
       "extra_people                            0\n",
       "minimum_nights                          0\n",
       "availability_30                         0\n",
       "availability_60                         0\n",
       "availability_90                         0\n",
       "availability_365                        0\n",
       "number_of_reviews                       0\n",
       "first_review                            0\n",
       "last_review                             0\n",
       "review_scores_rating                    1\n",
       "review_scores_accuracy                  5\n",
       "review_scores_cleanliness               3\n",
       "review_scores_checkin                   1\n",
       "review_scores_communication             1\n",
       "review_scores_location                  1\n",
       "review_scores_value                     0\n",
       "instant_bookable                        0\n",
       "is_business_travel_ready                0\n",
       "cancellation_policy                     0\n",
       "require_guest_profile_picture           0\n",
       "require_guest_phone_verification        0\n",
       "calculated_host_listings_count          0\n",
       "reviews_per_month                       0\n",
       "dtype: int64"
      ]
     },
     "execution_count": 81,
     "metadata": {},
     "output_type": "execute_result"
    }
   ],
   "source": [
    "listings.isnull().sum()"
   ]
  },
  {
   "cell_type": "code",
   "execution_count": 82,
   "metadata": {},
   "outputs": [],
   "source": [
    "#We supose null values are no superhost\n",
    "listings['host_is_superhost'].fillna('f', inplace=True)\n",
    "#listings['host_is_superhost']=np.where(listings['host_is_superhost']=='f', 0, 1)"
   ]
  },
  {
   "cell_type": "code",
   "execution_count": 83,
   "metadata": {},
   "outputs": [],
   "source": [
    "#We supose null values are no picture\n",
    "listings['host_has_profile_pic'].fillna('f', inplace=True)\n",
    "#listings['host_has_profile_pic']=np.where(listings['host_has_profile_pic']=='f', 0, 1)"
   ]
  },
  {
   "cell_type": "code",
   "execution_count": 84,
   "metadata": {},
   "outputs": [],
   "source": [
    "#We supose null values are no identity verified\n",
    "listings['host_identity_verified'].fillna('f', inplace=True)\n",
    "#listings['host_identity_verified']=np.where(listings['host_identity_verified']=='f', 0, 1)"
   ]
  },
  {
   "cell_type": "code",
   "execution_count": 85,
   "metadata": {},
   "outputs": [],
   "source": [
    "#We would remove square_feet column as there are too many missing values, but we are not going to use this column\n",
    "#listings=listings.drop('square_feet', axis=1)"
   ]
  },
  {
   "cell_type": "code",
   "execution_count": 86,
   "metadata": {},
   "outputs": [],
   "source": [
    "#We convert weekly price and monthly price to boolean, as there are too many missing values,\n",
    "#and being missing might mean that they do not have a different price\n",
    "listings['weekly_price']=(listings['weekly_price'].str.replace(r'[^\\d.]','').astype(float))\n",
    "listings['weekly_price'].fillna(0, inplace=True)\n",
    "listings['weekly_price']=np.where(listings['weekly_price']>0, 't', 'f')"
   ]
  },
  {
   "cell_type": "code",
   "execution_count": 87,
   "metadata": {},
   "outputs": [],
   "source": [
    "listings['monthly_price']=(listings['monthly_price'].str.replace(r'[^\\d.]','').astype(float))\n",
    "listings['monthly_price'].fillna(0, inplace=True)\n",
    "listings['monthly_price']=np.where(listings['monthly_price']>0, 't', 'f')"
   ]
  },
  {
   "cell_type": "code",
   "execution_count": 88,
   "metadata": {},
   "outputs": [],
   "source": [
    "#We supose having missing fee might mean there is no fee\n",
    "listings['security_deposit']=(listings['security_deposit'].str.replace(r'[^\\d.]','').astype(float))\n",
    "listings['security_deposit'].fillna(0, inplace=True)\n",
    "listings['cleaning_fee']=(listings['cleaning_fee'].str.replace(r'[^\\d.]','').astype(float))\n",
    "listings['cleaning_fee'].fillna(0, inplace=True)"
   ]
  },
  {
   "cell_type": "code",
   "execution_count": 89,
   "metadata": {},
   "outputs": [],
   "source": [
    "#We remove all rows where any of the \"scores\" columns is missing\n",
    "reviewScoresColums = listings.filter(regex='review_scores.*').columns\n",
    "listings=listings.dropna(axis=0,how='any', subset=reviewScoresColums)"
   ]
  },
  {
   "cell_type": "code",
   "execution_count": 90,
   "metadata": {},
   "outputs": [],
   "source": [
    "#We supose if there is no information about the number of houses rented by the host, it is at least for sure 1\n",
    "listings['host_listings_count'].fillna(1, inplace=True)"
   ]
  },
  {
   "cell_type": "code",
   "execution_count": 91,
   "metadata": {},
   "outputs": [],
   "source": [
    "#We fill the missing values with the mean and the mode\n",
    "listings['host_response_rate']=(listings['host_response_rate'].str.replace(\"%\",'').astype(float))/100\n",
    "listings['host_response_rate'].fillna(listings['host_response_rate'].median(),inplace=True)\n",
    "listings['host_response_time'].fillna('within an hour',inplace=True)"
   ]
  },
  {
   "cell_type": "code",
   "execution_count": 20,
   "metadata": {},
   "outputs": [
    {
     "name": "stdout",
     "output_type": "stream",
     "text": [
      "['Entire home/apt' 'Private room' 'Shared room']\n"
     ]
    }
   ],
   "source": [
    "print(listings['room_type'].unique())\n",
    "#We only keep Entire home/apt\n",
    "listings = listings[listings['room_type']=='Entire home/apt'].drop('room_type', axis=1)"
   ]
  },
  {
   "cell_type": "code",
   "execution_count": 21,
   "metadata": {},
   "outputs": [
    {
     "data": {
      "text/plain": [
       "id                                     0\n",
       "host_since                            16\n",
       "host_response_time                     0\n",
       "host_response_rate                     0\n",
       "host_is_superhost                      0\n",
       "host_listings_count                    0\n",
       "host_has_profile_pic                   0\n",
       "host_identity_verified                 0\n",
       "neighbourhood_cleansed                 0\n",
       "latitude                               0\n",
       "longitude                              0\n",
       "property_type                          0\n",
       "accommodates                           0\n",
       "bathrooms                              0\n",
       "bedrooms                               0\n",
       "beds                                   0\n",
       "bed_type                               0\n",
       "amenities                              0\n",
       "square_feet                         8293\n",
       "price                                  0\n",
       "weekly_price                           0\n",
       "monthly_price                          0\n",
       "security_deposit                       0\n",
       "cleaning_fee                           0\n",
       "extra_people                           0\n",
       "minimum_nights                         0\n",
       "availability_30                        0\n",
       "availability_60                        0\n",
       "availability_90                        0\n",
       "availability_365                       0\n",
       "number_of_reviews                      0\n",
       "first_review                           0\n",
       "last_review                            0\n",
       "review_scores_rating                   0\n",
       "review_scores_accuracy                 0\n",
       "review_scores_cleanliness              0\n",
       "review_scores_checkin                  0\n",
       "review_scores_communication            0\n",
       "review_scores_location                 0\n",
       "review_scores_value                    0\n",
       "instant_bookable                       0\n",
       "is_business_travel_ready               0\n",
       "cancellation_policy                    0\n",
       "require_guest_profile_picture          0\n",
       "require_guest_phone_verification       0\n",
       "calculated_host_listings_count         0\n",
       "reviews_per_month                      0\n",
       "dtype: int64"
      ]
     },
     "execution_count": 21,
     "metadata": {},
     "output_type": "execute_result"
    }
   ],
   "source": [
    "#Only missing values in host_since and square_feet columns\n",
    "listings.isnull().sum()"
   ]
  },
  {
   "cell_type": "code",
   "execution_count": 22,
   "metadata": {},
   "outputs": [],
   "source": [
    "listings = listings.reset_index()"
   ]
  },
  {
   "cell_type": "markdown",
   "metadata": {},
   "source": [
    "### We check the data types are right"
   ]
  },
  {
   "cell_type": "code",
   "execution_count": 23,
   "metadata": {
    "scrolled": true
   },
   "outputs": [
    {
     "data": {
      "text/plain": [
       "index                                 int64\n",
       "id                                    int64\n",
       "host_since                           object\n",
       "host_response_time                   object\n",
       "host_response_rate                  float64\n",
       "host_is_superhost                    object\n",
       "host_listings_count                 float64\n",
       "host_has_profile_pic                 object\n",
       "host_identity_verified               object\n",
       "neighbourhood_cleansed               object\n",
       "latitude                            float64\n",
       "longitude                           float64\n",
       "property_type                        object\n",
       "accommodates                          int64\n",
       "bathrooms                           float64\n",
       "bedrooms                            float64\n",
       "beds                                float64\n",
       "bed_type                             object\n",
       "amenities                            object\n",
       "square_feet                         float64\n",
       "price                                object\n",
       "weekly_price                         object\n",
       "monthly_price                        object\n",
       "security_deposit                    float64\n",
       "cleaning_fee                        float64\n",
       "extra_people                         object\n",
       "minimum_nights                        int64\n",
       "availability_30                       int64\n",
       "availability_60                       int64\n",
       "availability_90                       int64\n",
       "availability_365                      int64\n",
       "number_of_reviews                     int64\n",
       "first_review                         object\n",
       "last_review                          object\n",
       "review_scores_rating                float64\n",
       "review_scores_accuracy              float64\n",
       "review_scores_cleanliness           float64\n",
       "review_scores_checkin               float64\n",
       "review_scores_communication         float64\n",
       "review_scores_location              float64\n",
       "review_scores_value                 float64\n",
       "instant_bookable                     object\n",
       "is_business_travel_ready             object\n",
       "cancellation_policy                  object\n",
       "require_guest_profile_picture        object\n",
       "require_guest_phone_verification     object\n",
       "calculated_host_listings_count        int64\n",
       "reviews_per_month                   float64\n",
       "dtype: object"
      ]
     },
     "execution_count": 23,
     "metadata": {},
     "output_type": "execute_result"
    }
   ],
   "source": [
    "listings.dtypes"
   ]
  },
  {
   "cell_type": "markdown",
   "metadata": {},
   "source": [
    "#### Numeric variables"
   ]
  },
  {
   "cell_type": "code",
   "execution_count": 24,
   "metadata": {},
   "outputs": [],
   "source": [
    "numeric_features = ['id','latitude', 'longitude','host_response_rate','host_listings_count', 'accommodates', 'bathrooms',\n",
    "       'bedrooms', 'beds', 'price', 'security_deposit', 'cleaning_fee', 'extra_people',\n",
    "       'minimum_nights', 'availability_30', 'availability_60',\n",
    "       'availability_90', 'availability_365', 'number_of_reviews','review_scores_rating',\n",
    "       'review_scores_accuracy', 'review_scores_cleanliness',\n",
    "       'review_scores_checkin', 'review_scores_communication',\n",
    "       'review_scores_location', 'review_scores_value','calculated_host_listings_count', 'reviews_per_month']"
   ]
  },
  {
   "cell_type": "code",
   "execution_count": 25,
   "metadata": {},
   "outputs": [],
   "source": [
    "listings['price']=(listings['price'].str.replace(r'[^\\d.]','').astype(float))"
   ]
  },
  {
   "cell_type": "code",
   "execution_count": 26,
   "metadata": {},
   "outputs": [],
   "source": [
    "listings['extra_people']=(listings['extra_people'].str.replace(r'[^\\d.]','').astype(float))"
   ]
  },
  {
   "cell_type": "code",
   "execution_count": 27,
   "metadata": {},
   "outputs": [
    {
     "data": {
      "text/plain": [
       "(8586, 48)"
      ]
     },
     "execution_count": 27,
     "metadata": {},
     "output_type": "execute_result"
    }
   ],
   "source": [
    "listings.shape"
   ]
  },
  {
   "cell_type": "markdown",
   "metadata": {},
   "source": [
    "#### Amenities"
   ]
  },
  {
   "cell_type": "code",
   "execution_count": 28,
   "metadata": {},
   "outputs": [],
   "source": [
    "listings['amenities'] = listings['amenities'].map(\n",
    "    lambda amns: \"|\".join([amn.replace(\"}\", \"\").replace(\"{\", \"\").replace('\"', \"\")\\\n",
    "                           for amn in amns.split(\",\")])\n",
    ")"
   ]
  },
  {
   "cell_type": "code",
   "execution_count": 29,
   "metadata": {},
   "outputs": [],
   "source": [
    "amenities = np.unique(np.concatenate(listings['amenities'].map(lambda amns: amns.split(\"|\")).values))[1:-2] \n",
    "#First amenity is empty string and last 2 say \"translation missing\"\n",
    "amenities_matrix = np.array([listings['amenities'].map(lambda amns: 1 if amn in amns else 0) for amn in amenities])"
   ]
  },
  {
   "cell_type": "code",
   "execution_count": 30,
   "metadata": {},
   "outputs": [],
   "source": [
    "Amenities_columns =np.array([\"Amen_\" + amenity  for amenity in amenities])"
   ]
  },
  {
   "cell_type": "code",
   "execution_count": 31,
   "metadata": {},
   "outputs": [
    {
     "data": {
      "text/plain": [
       "array(['Amen_ toilet', 'Amen_24-hour check-in',\n",
       "       'Amen_Accessible-height bed', 'Amen_Accessible-height toilet',\n",
       "       'Amen_Air conditioning', 'Amen_BBQ grill', 'Amen_Baby bath',\n",
       "       'Amen_Baby monitor', 'Amen_Babysitter recommendations',\n",
       "       'Amen_Bathtub', 'Amen_Bathtub with shower chair',\n",
       "       'Amen_Beach essentials', 'Amen_Bed linens', 'Amen_Breakfast',\n",
       "       'Amen_Buzzer/wireless intercom', 'Amen_Cable TV',\n",
       "       'Amen_Carbon monoxide detector', 'Amen_Cat(s)',\n",
       "       'Amen_Changing table', 'Amen_Children’s books and toys',\n",
       "       'Amen_Children’s dinnerware', 'Amen_Cleaning before checkout',\n",
       "       'Amen_Coffee maker', 'Amen_Cooking basics', 'Amen_Crib',\n",
       "       'Amen_Disabled parking spot', 'Amen_Dishes and silverware',\n",
       "       'Amen_Dishwasher', 'Amen_Dog(s)', 'Amen_Doorman', 'Amen_Dryer',\n",
       "       'Amen_EV charger', 'Amen_Elevator', 'Amen_Essentials',\n",
       "       'Amen_Ethernet connection', 'Amen_Extra pillows and blankets',\n",
       "       'Amen_Family/kid friendly', 'Amen_Fire extinguisher',\n",
       "       'Amen_Fireplace guards', 'Amen_Firm mattress',\n",
       "       'Amen_First aid kit', 'Amen_Fixed grab bars for shower',\n",
       "       'Amen_Flat path to front door', 'Amen_Free parking on premises',\n",
       "       'Amen_Game console', 'Amen_Garden or backyard',\n",
       "       'Amen_Ground floor access', 'Amen_Gym', 'Amen_Hair dryer',\n",
       "       'Amen_Handheld shower head', 'Amen_Hangers', 'Amen_Heating',\n",
       "       'Amen_High chair', 'Amen_Host greets you', 'Amen_Hot tub',\n",
       "       'Amen_Hot water', 'Amen_Hot water kettle', 'Amen_Indoor fireplace',\n",
       "       'Amen_Internet', 'Amen_Iron', 'Amen_Keypad', 'Amen_Kitchen',\n",
       "       'Amen_Lake access', 'Amen_Laptop friendly workspace',\n",
       "       'Amen_Lock on bedroom door', 'Amen_Lockbox',\n",
       "       'Amen_Long term stays allowed', 'Amen_Luggage dropoff allowed',\n",
       "       'Amen_Microwave', 'Amen_Other', 'Amen_Other pet(s)',\n",
       "       'Amen_Outlet covers', 'Amen_Oven', 'Amen_Pack ’n Play/travel crib',\n",
       "       'Amen_Paid parking off premises', 'Amen_Patio or balcony',\n",
       "       'Amen_Pets allowed', 'Amen_Pets live on this property',\n",
       "       'Amen_Pocket wifi', 'Amen_Pool', 'Amen_Private entrance',\n",
       "       'Amen_Private living room', 'Amen_Refrigerator',\n",
       "       'Amen_Roll-in shower with chair', 'Amen_Room-darkening shades',\n",
       "       'Amen_Safety card', 'Amen_Self Check-In', 'Amen_Shampoo',\n",
       "       'Amen_Single level home', 'Amen_Ski in/Ski out', 'Amen_Smart lock',\n",
       "       'Amen_Smoke detector', 'Amen_Smoking allowed', 'Amen_Stair gates',\n",
       "       'Amen_Step-free access', 'Amen_Stove', 'Amen_Suitable for events',\n",
       "       'Amen_TV', 'Amen_Table corner guards', 'Amen_Washer',\n",
       "       'Amen_Washer / Dryer', 'Amen_Waterfront',\n",
       "       'Amen_Well-lit path to entrance', 'Amen_Wheelchair accessible',\n",
       "       'Amen_Wide clearance to bed', 'Amen_Wide clearance to shower',\n",
       "       'Amen_Wide doorway', 'Amen_Wide entryway',\n",
       "       'Amen_Wide hallway clearance', 'Amen_Window guards',\n",
       "       'Amen_Wireless Internet'], dtype='<U31')"
      ]
     },
     "execution_count": 31,
     "metadata": {},
     "output_type": "execute_result"
    }
   ],
   "source": [
    "Amenities_columns"
   ]
  },
  {
   "cell_type": "markdown",
   "metadata": {},
   "source": [
    "#### Categorical variables"
   ]
  },
  {
   "cell_type": "code",
   "execution_count": 71,
   "metadata": {},
   "outputs": [],
   "source": [
    "categorical_features = ['neighbourhood_cleansed', 'property_type', 'bed_type']"
   ]
  },
  {
   "cell_type": "code",
   "execution_count": 92,
   "metadata": {},
   "outputs": [],
   "source": [
    "features = pd.concat([listings[numeric_features],listings[categorical_features],pd.DataFrame(data=amenities_matrix.T, columns=Amenities_columns)], axis=1)"
   ]
  },
  {
   "cell_type": "code",
   "execution_count": 34,
   "metadata": {},
   "outputs": [
    {
     "data": {
      "text/plain": [
       "(8586, 142)"
      ]
     },
     "execution_count": 34,
     "metadata": {},
     "output_type": "execute_result"
    }
   ],
   "source": [
    "features.shape"
   ]
  },
  {
   "cell_type": "markdown",
   "metadata": {},
   "source": [
    "#### Boolean categories"
   ]
  },
  {
   "cell_type": "code",
   "execution_count": 35,
   "metadata": {},
   "outputs": [],
   "source": [
    "for tf_feature in ['host_is_superhost', 'host_identity_verified', 'host_has_profile_pic',\n",
    "                   'instant_bookable','require_guest_profile_picture', 'require_guest_phone_verification', \n",
    "                   'weekly_price', 'monthly_price', 'is_business_travel_ready', \n",
    "                   'require_guest_profile_picture', 'require_guest_phone_verification','cancellation_policy']:\n",
    "    features[tf_feature] = listings[tf_feature].map(lambda s: 0 if s == \"f\" else 1)"
   ]
  },
  {
   "cell_type": "code",
   "execution_count": 36,
   "metadata": {},
   "outputs": [
    {
     "data": {
      "text/plain": [
       "(8586, 151)"
      ]
     },
     "execution_count": 36,
     "metadata": {},
     "output_type": "execute_result"
    }
   ],
   "source": [
    "features.shape"
   ]
  },
  {
   "cell_type": "code",
   "execution_count": 37,
   "metadata": {},
   "outputs": [],
   "source": [
    "features.to_csv('../Data/listings_clean.csv', index=False)"
   ]
  }
 ],
 "metadata": {
  "kernelspec": {
   "display_name": "Python 3",
   "language": "python",
   "name": "python3"
  },
  "language_info": {
   "codemirror_mode": {
    "name": "ipython",
    "version": 3
   },
   "file_extension": ".py",
   "mimetype": "text/x-python",
   "name": "python",
   "nbconvert_exporter": "python",
   "pygments_lexer": "ipython3",
   "version": "3.5.4"
  }
 },
 "nbformat": 4,
 "nbformat_minor": 2
}
