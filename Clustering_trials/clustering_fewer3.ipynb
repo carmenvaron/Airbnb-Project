{
 "cells": [
  {
   "cell_type": "code",
   "execution_count": 1,
   "metadata": {},
   "outputs": [],
   "source": [
    "%matplotlib inline\n",
    "import matplotlib.pyplot as plt\n",
    "import numpy as np\n",
    "import pandas as pd\n",
    "import io\n",
    "import os\n",
    "import math\n",
    "from sklearn.metrics import silhouette_samples,silhouette_score\n",
    "from sklearn import preprocessing\n",
    "from scipy.spatial import distance\n",
    "from scipy.spatial.distance import cdist\n",
    "from sklearn.decomposition import PCA\n",
    "import random \n",
    "random.seed(33)"
   ]
  },
  {
   "cell_type": "code",
   "execution_count": 2,
   "metadata": {},
   "outputs": [],
   "source": [
    "listings = pd.read_csv('../Data/listings_clean.csv', index_col=0)"
   ]
  },
  {
   "cell_type": "code",
   "execution_count": 3,
   "metadata": {},
   "outputs": [],
   "source": [
    "numerical_features = ['latitude', 'longitude', 'accommodates', 'bathrooms','bedrooms', 'beds']"
   ]
  },
  {
   "cell_type": "code",
   "execution_count": 4,
   "metadata": {},
   "outputs": [],
   "source": [
    "boolean_features = ['instant_bookable', 'is_business_travel_ready']"
   ]
  },
  {
   "cell_type": "code",
   "execution_count": 5,
   "metadata": {},
   "outputs": [],
   "source": [
    "categorical_features = ['neighbourhood_cleansed', 'property_type', 'bed_type']\n",
    "listings_categorical = pd.get_dummies(listings[categorical_features], columns=categorical_features, \n",
    "                            prefix=[\"Neigh\", \"Property\", \"Bed\"])"
   ]
  },
  {
   "cell_type": "code",
   "execution_count": 6,
   "metadata": {},
   "outputs": [],
   "source": [
    "listingsCluster = pd.concat([listings[numerical_features],listings[categorical_features],listings[boolean_features]], axis=1)"
   ]
  },
  {
   "cell_type": "code",
   "execution_count": 7,
   "metadata": {},
   "outputs": [
    {
     "data": {
      "text/html": [
       "<div>\n",
       "<style scoped>\n",
       "    .dataframe tbody tr th:only-of-type {\n",
       "        vertical-align: middle;\n",
       "    }\n",
       "\n",
       "    .dataframe tbody tr th {\n",
       "        vertical-align: top;\n",
       "    }\n",
       "\n",
       "    .dataframe thead th {\n",
       "        text-align: right;\n",
       "    }\n",
       "</style>\n",
       "<table border=\"1\" class=\"dataframe\">\n",
       "  <thead>\n",
       "    <tr style=\"text-align: right;\">\n",
       "      <th></th>\n",
       "      <th>latitude</th>\n",
       "      <th>longitude</th>\n",
       "      <th>accommodates</th>\n",
       "      <th>bathrooms</th>\n",
       "      <th>bedrooms</th>\n",
       "      <th>beds</th>\n",
       "      <th>neighbourhood_cleansed</th>\n",
       "      <th>property_type</th>\n",
       "      <th>bed_type</th>\n",
       "      <th>instant_bookable</th>\n",
       "      <th>is_business_travel_ready</th>\n",
       "    </tr>\n",
       "    <tr>\n",
       "      <th>id</th>\n",
       "      <th></th>\n",
       "      <th></th>\n",
       "      <th></th>\n",
       "      <th></th>\n",
       "      <th></th>\n",
       "      <th></th>\n",
       "      <th></th>\n",
       "      <th></th>\n",
       "      <th></th>\n",
       "      <th></th>\n",
       "      <th></th>\n",
       "    </tr>\n",
       "  </thead>\n",
       "  <tbody>\n",
       "    <tr>\n",
       "      <th>18628</th>\n",
       "      <td>40.424715</td>\n",
       "      <td>-3.698638</td>\n",
       "      <td>2</td>\n",
       "      <td>1.0</td>\n",
       "      <td>0.0</td>\n",
       "      <td>1.0</td>\n",
       "      <td>Justicia</td>\n",
       "      <td>Apartment</td>\n",
       "      <td>Pull-out Sofa</td>\n",
       "      <td>1</td>\n",
       "      <td>0</td>\n",
       "    </tr>\n",
       "    <tr>\n",
       "      <th>19864</th>\n",
       "      <td>40.413418</td>\n",
       "      <td>-3.706838</td>\n",
       "      <td>2</td>\n",
       "      <td>1.0</td>\n",
       "      <td>0.0</td>\n",
       "      <td>1.0</td>\n",
       "      <td>Embajadores</td>\n",
       "      <td>Apartment</td>\n",
       "      <td>Pull-out Sofa</td>\n",
       "      <td>1</td>\n",
       "      <td>0</td>\n",
       "    </tr>\n",
       "    <tr>\n",
       "      <th>21512</th>\n",
       "      <td>40.424920</td>\n",
       "      <td>-3.713446</td>\n",
       "      <td>2</td>\n",
       "      <td>1.0</td>\n",
       "      <td>0.0</td>\n",
       "      <td>1.0</td>\n",
       "      <td>Argüelles</td>\n",
       "      <td>Apartment</td>\n",
       "      <td>Pull-out Sofa</td>\n",
       "      <td>0</td>\n",
       "      <td>0</td>\n",
       "    </tr>\n",
       "    <tr>\n",
       "      <th>23021</th>\n",
       "      <td>40.423417</td>\n",
       "      <td>-3.712456</td>\n",
       "      <td>10</td>\n",
       "      <td>3.0</td>\n",
       "      <td>4.0</td>\n",
       "      <td>5.0</td>\n",
       "      <td>Argüelles</td>\n",
       "      <td>Apartment</td>\n",
       "      <td>Real Bed</td>\n",
       "      <td>0</td>\n",
       "      <td>0</td>\n",
       "    </tr>\n",
       "    <tr>\n",
       "      <th>24805</th>\n",
       "      <td>40.422022</td>\n",
       "      <td>-3.703954</td>\n",
       "      <td>3</td>\n",
       "      <td>1.0</td>\n",
       "      <td>0.0</td>\n",
       "      <td>2.0</td>\n",
       "      <td>Universidad</td>\n",
       "      <td>Apartment</td>\n",
       "      <td>Real Bed</td>\n",
       "      <td>0</td>\n",
       "      <td>0</td>\n",
       "    </tr>\n",
       "  </tbody>\n",
       "</table>\n",
       "</div>"
      ],
      "text/plain": [
       "        latitude  longitude  accommodates  bathrooms  bedrooms  beds  \\\n",
       "id                                                                     \n",
       "18628  40.424715  -3.698638             2        1.0       0.0   1.0   \n",
       "19864  40.413418  -3.706838             2        1.0       0.0   1.0   \n",
       "21512  40.424920  -3.713446             2        1.0       0.0   1.0   \n",
       "23021  40.423417  -3.712456            10        3.0       4.0   5.0   \n",
       "24805  40.422022  -3.703954             3        1.0       0.0   2.0   \n",
       "\n",
       "      neighbourhood_cleansed property_type       bed_type  instant_bookable  \\\n",
       "id                                                                            \n",
       "18628               Justicia     Apartment  Pull-out Sofa                 1   \n",
       "19864            Embajadores     Apartment  Pull-out Sofa                 1   \n",
       "21512              Argüelles     Apartment  Pull-out Sofa                 0   \n",
       "23021              Argüelles     Apartment       Real Bed                 0   \n",
       "24805            Universidad     Apartment       Real Bed                 0   \n",
       "\n",
       "       is_business_travel_ready  \n",
       "id                               \n",
       "18628                         0  \n",
       "19864                         0  \n",
       "21512                         0  \n",
       "23021                         0  \n",
       "24805                         0  "
      ]
     },
     "execution_count": 7,
     "metadata": {},
     "output_type": "execute_result"
    }
   ],
   "source": [
    "listingsCluster.head()"
   ]
  },
  {
   "cell_type": "code",
   "execution_count": 8,
   "metadata": {},
   "outputs": [
    {
     "data": {
      "text/plain": [
       "latitude                    0\n",
       "longitude                   0\n",
       "accommodates                0\n",
       "bathrooms                   0\n",
       "bedrooms                    0\n",
       "beds                        0\n",
       "neighbourhood_cleansed      0\n",
       "property_type               0\n",
       "bed_type                    0\n",
       "instant_bookable            0\n",
       "is_business_travel_ready    0\n",
       "dtype: int64"
      ]
     },
     "execution_count": 8,
     "metadata": {},
     "output_type": "execute_result"
    }
   ],
   "source": [
    "listingsCluster.isnull().sum()"
   ]
  },
  {
   "cell_type": "code",
   "execution_count": 9,
   "metadata": {},
   "outputs": [],
   "source": [
    "to_categorical = categorical_features + boolean_features\n",
    "indCatColumns = [listingsCluster.columns.get_loc(col) for col in to_categorical]"
   ]
  },
  {
   "cell_type": "code",
   "execution_count": 10,
   "metadata": {},
   "outputs": [],
   "source": [
    "from sklearn.preprocessing import RobustScaler\n",
    "RS = RobustScaler()"
   ]
  },
  {
   "cell_type": "code",
   "execution_count": 11,
   "metadata": {},
   "outputs": [],
   "source": [
    "listingsCluster[numerical_features] = RS.fit_transform(listingsCluster[numerical_features])"
   ]
  },
  {
   "cell_type": "code",
   "execution_count": 12,
   "metadata": {},
   "outputs": [
    {
     "data": {
      "text/html": [
       "<div>\n",
       "<style scoped>\n",
       "    .dataframe tbody tr th:only-of-type {\n",
       "        vertical-align: middle;\n",
       "    }\n",
       "\n",
       "    .dataframe tbody tr th {\n",
       "        vertical-align: top;\n",
       "    }\n",
       "\n",
       "    .dataframe thead th {\n",
       "        text-align: right;\n",
       "    }\n",
       "</style>\n",
       "<table border=\"1\" class=\"dataframe\">\n",
       "  <thead>\n",
       "    <tr style=\"text-align: right;\">\n",
       "      <th></th>\n",
       "      <th>latitude</th>\n",
       "      <th>longitude</th>\n",
       "      <th>accommodates</th>\n",
       "      <th>bathrooms</th>\n",
       "      <th>bedrooms</th>\n",
       "      <th>beds</th>\n",
       "      <th>instant_bookable</th>\n",
       "      <th>is_business_travel_ready</th>\n",
       "    </tr>\n",
       "  </thead>\n",
       "  <tbody>\n",
       "    <tr>\n",
       "      <th>count</th>\n",
       "      <td>8.586000e+03</td>\n",
       "      <td>8.586000e+03</td>\n",
       "      <td>8586.000000</td>\n",
       "      <td>8586.000000</td>\n",
       "      <td>8586.000000</td>\n",
       "      <td>8586.000000</td>\n",
       "      <td>8586.000000</td>\n",
       "      <td>8586.000000</td>\n",
       "    </tr>\n",
       "    <tr>\n",
       "      <th>mean</th>\n",
       "      <td>1.526813e-01</td>\n",
       "      <td>3.135931e-01</td>\n",
       "      <td>0.066562</td>\n",
       "      <td>0.248777</td>\n",
       "      <td>0.479385</td>\n",
       "      <td>0.201025</td>\n",
       "      <td>0.556138</td>\n",
       "      <td>0.063359</td>\n",
       "    </tr>\n",
       "    <tr>\n",
       "      <th>std</th>\n",
       "      <td>1.118500e+00</td>\n",
       "      <td>1.670191e+00</td>\n",
       "      <td>0.966366</td>\n",
       "      <td>0.512864</td>\n",
       "      <td>0.957383</td>\n",
       "      <td>0.766550</td>\n",
       "      <td>0.496867</td>\n",
       "      <td>0.243622</td>\n",
       "    </tr>\n",
       "    <tr>\n",
       "      <th>min</th>\n",
       "      <td>-5.753218e+00</td>\n",
       "      <td>-1.201677e+01</td>\n",
       "      <td>-1.500000</td>\n",
       "      <td>-1.000000</td>\n",
       "      <td>-1.000000</td>\n",
       "      <td>-0.500000</td>\n",
       "      <td>0.000000</td>\n",
       "      <td>0.000000</td>\n",
       "    </tr>\n",
       "    <tr>\n",
       "      <th>25%</th>\n",
       "      <td>-4.771182e-01</td>\n",
       "      <td>-4.703298e-01</td>\n",
       "      <td>-0.500000</td>\n",
       "      <td>0.000000</td>\n",
       "      <td>0.000000</td>\n",
       "      <td>-0.500000</td>\n",
       "      <td>0.000000</td>\n",
       "      <td>0.000000</td>\n",
       "    </tr>\n",
       "    <tr>\n",
       "      <th>50%</th>\n",
       "      <td>2.397762e-13</td>\n",
       "      <td>-1.997035e-14</td>\n",
       "      <td>0.000000</td>\n",
       "      <td>0.000000</td>\n",
       "      <td>0.000000</td>\n",
       "      <td>0.000000</td>\n",
       "      <td>1.000000</td>\n",
       "      <td>0.000000</td>\n",
       "    </tr>\n",
       "    <tr>\n",
       "      <th>75%</th>\n",
       "      <td>5.228818e-01</td>\n",
       "      <td>5.296702e-01</td>\n",
       "      <td>0.500000</td>\n",
       "      <td>0.000000</td>\n",
       "      <td>1.000000</td>\n",
       "      <td>0.500000</td>\n",
       "      <td>1.000000</td>\n",
       "      <td>0.000000</td>\n",
       "    </tr>\n",
       "    <tr>\n",
       "      <th>max</th>\n",
       "      <td>1.261458e+01</td>\n",
       "      <td>1.425931e+01</td>\n",
       "      <td>6.000000</td>\n",
       "      <td>5.000000</td>\n",
       "      <td>9.000000</td>\n",
       "      <td>7.500000</td>\n",
       "      <td>1.000000</td>\n",
       "      <td>1.000000</td>\n",
       "    </tr>\n",
       "  </tbody>\n",
       "</table>\n",
       "</div>"
      ],
      "text/plain": [
       "           latitude     longitude  accommodates    bathrooms     bedrooms  \\\n",
       "count  8.586000e+03  8.586000e+03   8586.000000  8586.000000  8586.000000   \n",
       "mean   1.526813e-01  3.135931e-01      0.066562     0.248777     0.479385   \n",
       "std    1.118500e+00  1.670191e+00      0.966366     0.512864     0.957383   \n",
       "min   -5.753218e+00 -1.201677e+01     -1.500000    -1.000000    -1.000000   \n",
       "25%   -4.771182e-01 -4.703298e-01     -0.500000     0.000000     0.000000   \n",
       "50%    2.397762e-13 -1.997035e-14      0.000000     0.000000     0.000000   \n",
       "75%    5.228818e-01  5.296702e-01      0.500000     0.000000     1.000000   \n",
       "max    1.261458e+01  1.425931e+01      6.000000     5.000000     9.000000   \n",
       "\n",
       "              beds  instant_bookable  is_business_travel_ready  \n",
       "count  8586.000000       8586.000000               8586.000000  \n",
       "mean      0.201025          0.556138                  0.063359  \n",
       "std       0.766550          0.496867                  0.243622  \n",
       "min      -0.500000          0.000000                  0.000000  \n",
       "25%      -0.500000          0.000000                  0.000000  \n",
       "50%       0.000000          1.000000                  0.000000  \n",
       "75%       0.500000          1.000000                  0.000000  \n",
       "max       7.500000          1.000000                  1.000000  "
      ]
     },
     "execution_count": 12,
     "metadata": {},
     "output_type": "execute_result"
    }
   ],
   "source": [
    "listingsCluster.describe()"
   ]
  },
  {
   "cell_type": "code",
   "execution_count": 13,
   "metadata": {},
   "outputs": [
    {
     "name": "stdout",
     "output_type": "stream",
     "text": [
      "Requirement already up-to-date: kmodes in /home/dsc/anaconda3/lib/python3.5/site-packages (0.9)\r\n",
      "Requirement not upgraded as not directly required: scipy>=0.13.3 in /home/dsc/anaconda3/lib/python3.5/site-packages (from kmodes) (1.0.1)\r\n",
      "Requirement not upgraded as not directly required: scikit-learn<0.20.0,>=0.19.0 in /home/dsc/anaconda3/lib/python3.5/site-packages (from kmodes) (0.19.1)\r\n",
      "Requirement not upgraded as not directly required: numpy>=1.10.4 in /home/dsc/anaconda3/lib/python3.5/site-packages (from kmodes) (1.14.3)\r\n"
     ]
    }
   ],
   "source": [
    "! pip install --upgrade kmodes"
   ]
  },
  {
   "cell_type": "code",
   "execution_count": 14,
   "metadata": {},
   "outputs": [],
   "source": [
    "from kmodes.kprototypes import KPrototypes"
   ]
  },
  {
   "cell_type": "code",
   "execution_count": 15,
   "metadata": {},
   "outputs": [],
   "source": [
    "for cat_col in categorical_features:\n",
    "    listingsCluster[cat_col] = preprocessing.LabelEncoder().fit_transform(listingsCluster[cat_col])"
   ]
  },
  {
   "cell_type": "code",
   "execution_count": 16,
   "metadata": {},
   "outputs": [],
   "source": [
    "X = listingsCluster.values"
   ]
  },
  {
   "cell_type": "code",
   "execution_count": 17,
   "metadata": {},
   "outputs": [],
   "source": [
    "def distance_dissim(X,Y,gamma,categorical):\n",
    "    no_categorical = [i for i in range(len(X)) if i not in categorical]\n",
    "    Xnum = np.asanyarray([X[ii] for ii in no_categorical]).astype(np.float64)\n",
    "    Ynum = np.asanyarray([Y[ii] for ii in no_categorical]).astype(np.float64)\n",
    "    Xcat = np.asanyarray([X[ii] for ii in categorical])\n",
    "    Ycat = np.asanyarray([Y[ii] for ii in categorical])\n",
    "    \n",
    "    distance_dissim = distance.euclidean(Xnum, Ynum) + gamma * np.sum(Xcat != Ycat)\n",
    "    \n",
    "    return distance_dissim"
   ]
  },
  {
   "cell_type": "code",
   "execution_count": 18,
   "metadata": {},
   "outputs": [
    {
     "name": "stdout",
     "output_type": "stream",
     "text": [
      "Init: initializing centroids\n",
      "Init: initializing clusters\n",
      "Starting iterations...\n",
      "Run: 1, iteration: 1/100, moves: 0, ncost: 64617.31337055105\n",
      "Init: initializing centroids\n",
      "Init: initializing clusters\n",
      "Starting iterations...\n",
      "Run: 1, iteration: 1/100, moves: 699, ncost: 50944.90928473061\n",
      "Run: 1, iteration: 2/100, moves: 345, ncost: 50634.476075384475\n",
      "Run: 1, iteration: 3/100, moves: 263, ncost: 50332.43533432491\n",
      "Run: 1, iteration: 4/100, moves: 219, ncost: 50005.58038436123\n",
      "Run: 1, iteration: 5/100, moves: 138, ncost: 49792.049015464734\n",
      "Run: 1, iteration: 6/100, moves: 77, ncost: 49722.1029087929\n",
      "Run: 1, iteration: 7/100, moves: 31, ncost: 49710.15755629834\n",
      "Run: 1, iteration: 8/100, moves: 3, ncost: 49710.04154726069\n",
      "Run: 1, iteration: 9/100, moves: 0, ncost: 49710.04154726069\n",
      "Init: initializing centroids\n",
      "Init: initializing clusters\n",
      "Starting iterations...\n",
      "Run: 1, iteration: 1/100, moves: 2188, ncost: 39825.80954729527\n",
      "Run: 1, iteration: 2/100, moves: 374, ncost: 39662.097246759615\n",
      "Run: 1, iteration: 3/100, moves: 92, ncost: 39649.57360472768\n",
      "Run: 1, iteration: 4/100, moves: 35, ncost: 39647.9469995204\n",
      "Run: 1, iteration: 5/100, moves: 12, ncost: 39647.75708614922\n",
      "Run: 1, iteration: 6/100, moves: 2, ncost: 39647.74953392563\n",
      "Run: 1, iteration: 7/100, moves: 0, ncost: 39647.74953392563\n",
      "Init: initializing centroids\n",
      "Init: initializing clusters\n",
      "Starting iterations...\n",
      "Run: 1, iteration: 1/100, moves: 2727, ncost: 39751.65421073615\n",
      "Run: 1, iteration: 2/100, moves: 1793, ncost: 37216.11020964726\n",
      "Run: 1, iteration: 3/100, moves: 892, ncost: 36424.480862335884\n",
      "Run: 1, iteration: 4/100, moves: 321, ncost: 36285.30600620764\n",
      "Run: 1, iteration: 5/100, moves: 88, ncost: 36272.65377780891\n",
      "Run: 1, iteration: 6/100, moves: 35, ncost: 36268.928197539964\n",
      "Run: 1, iteration: 7/100, moves: 20, ncost: 36266.45372098033\n",
      "Run: 1, iteration: 8/100, moves: 15, ncost: 36265.25955567875\n",
      "Run: 1, iteration: 9/100, moves: 18, ncost: 36263.13729804506\n",
      "Run: 1, iteration: 10/100, moves: 15, ncost: 36261.57278527163\n",
      "Run: 1, iteration: 11/100, moves: 15, ncost: 36259.62333881437\n",
      "Run: 1, iteration: 12/100, moves: 20, ncost: 36256.27697375021\n",
      "Run: 1, iteration: 13/100, moves: 31, ncost: 36249.21910765326\n",
      "Run: 1, iteration: 14/100, moves: 36, ncost: 36231.536196943765\n",
      "Run: 1, iteration: 15/100, moves: 91, ncost: 36089.85733172685\n",
      "Run: 1, iteration: 16/100, moves: 105, ncost: 36000.116921562796\n",
      "Run: 1, iteration: 17/100, moves: 87, ncost: 35959.46919655503\n",
      "Run: 1, iteration: 18/100, moves: 119, ncost: 35924.702341628305\n",
      "Run: 1, iteration: 19/100, moves: 77, ncost: 35906.3627711489\n",
      "Run: 1, iteration: 20/100, moves: 43, ncost: 35894.04463520734\n",
      "Run: 1, iteration: 21/100, moves: 28, ncost: 35887.23905565855\n",
      "Run: 1, iteration: 22/100, moves: 7, ncost: 35886.53516459543\n",
      "Run: 1, iteration: 23/100, moves: 0, ncost: 35886.53516459543\n",
      "Init: initializing centroids\n",
      "Init: initializing clusters\n",
      "Starting iterations...\n",
      "Run: 1, iteration: 1/100, moves: 1497, ncost: 35312.33628873783\n",
      "Run: 1, iteration: 2/100, moves: 547, ncost: 35041.527775119546\n",
      "Run: 1, iteration: 3/100, moves: 165, ncost: 34973.370222482816\n",
      "Run: 1, iteration: 4/100, moves: 183, ncost: 34781.087627172594\n",
      "Run: 1, iteration: 5/100, moves: 218, ncost: 34628.268798435296\n",
      "Run: 1, iteration: 6/100, moves: 208, ncost: 34501.82836684519\n",
      "Run: 1, iteration: 7/100, moves: 122, ncost: 34443.7647725561\n",
      "Run: 1, iteration: 8/100, moves: 101, ncost: 34332.32071685811\n",
      "Run: 1, iteration: 9/100, moves: 151, ncost: 33810.2566938498\n",
      "Run: 1, iteration: 10/100, moves: 189, ncost: 33492.08767857564\n",
      "Run: 1, iteration: 11/100, moves: 141, ncost: 33404.436050412165\n",
      "Run: 1, iteration: 12/100, moves: 61, ncost: 33395.18908691602\n",
      "Run: 1, iteration: 13/100, moves: 14, ncost: 33394.767288151\n",
      "Run: 1, iteration: 14/100, moves: 1, ncost: 33394.75544355869\n",
      "Run: 1, iteration: 15/100, moves: 0, ncost: 33394.75544355869\n",
      "Init: initializing centroids\n",
      "Init: initializing clusters\n",
      "Starting iterations...\n",
      "Run: 1, iteration: 1/100, moves: 2107, ncost: 32518.241475987328\n",
      "Run: 1, iteration: 2/100, moves: 693, ncost: 32196.988015314015\n",
      "Run: 1, iteration: 3/100, moves: 370, ncost: 31952.017128953048\n",
      "Run: 1, iteration: 4/100, moves: 247, ncost: 31796.923419851828\n",
      "Run: 1, iteration: 5/100, moves: 202, ncost: 31656.1775968253\n",
      "Run: 1, iteration: 6/100, moves: 169, ncost: 31574.044391753167\n",
      "Run: 1, iteration: 7/100, moves: 100, ncost: 31537.686689078706\n",
      "Run: 1, iteration: 8/100, moves: 59, ncost: 31527.53452086341\n",
      "Run: 1, iteration: 9/100, moves: 27, ncost: 31525.829192538105\n",
      "Run: 1, iteration: 10/100, moves: 13, ncost: 31524.881864291277\n",
      "Run: 1, iteration: 11/100, moves: 3, ncost: 31524.770875868122\n",
      "Run: 1, iteration: 12/100, moves: 1, ncost: 31524.763382443274\n",
      "Run: 1, iteration: 13/100, moves: 0, ncost: 31524.763382443274\n",
      "Init: initializing centroids\n",
      "Init: initializing clusters\n",
      "Starting iterations...\n",
      "Run: 1, iteration: 1/100, moves: 3000, ncost: 30643.236593042882\n",
      "Run: 1, iteration: 2/100, moves: 1326, ncost: 30031.46770154593\n",
      "Run: 1, iteration: 3/100, moves: 718, ncost: 29562.792216302307\n",
      "Run: 1, iteration: 4/100, moves: 599, ncost: 29078.665007452648\n",
      "Run: 1, iteration: 5/100, moves: 337, ncost: 28951.35686174322\n",
      "Run: 1, iteration: 6/100, moves: 179, ncost: 28929.621668996515\n",
      "Run: 1, iteration: 7/100, moves: 97, ncost: 28925.414572874324\n",
      "Run: 1, iteration: 8/100, moves: 42, ncost: 28924.43203100444\n",
      "Run: 1, iteration: 9/100, moves: 17, ncost: 28924.261638356562\n",
      "Run: 1, iteration: 10/100, moves: 9, ncost: 28924.163255138315\n",
      "Run: 1, iteration: 11/100, moves: 7, ncost: 28924.07528862412\n",
      "Run: 1, iteration: 12/100, moves: 7, ncost: 28924.041342770393\n",
      "Run: 1, iteration: 13/100, moves: 2, ncost: 28924.03487535241\n",
      "Run: 1, iteration: 14/100, moves: 1, ncost: 28924.033719674047\n",
      "Run: 1, iteration: 15/100, moves: 0, ncost: 28924.033719674047\n",
      "Init: initializing centroids\n",
      "Init: initializing clusters\n",
      "Starting iterations...\n",
      "Run: 1, iteration: 1/100, moves: 2523, ncost: 29747.549507729324\n",
      "Run: 1, iteration: 2/100, moves: 798, ncost: 29246.45705948548\n",
      "Run: 1, iteration: 3/100, moves: 779, ncost: 28117.902793771384\n",
      "Run: 1, iteration: 4/100, moves: 791, ncost: 27135.60106825873\n",
      "Run: 1, iteration: 5/100, moves: 421, ncost: 26950.09449733622\n",
      "Run: 1, iteration: 6/100, moves: 468, ncost: 26512.86670801235\n",
      "Run: 1, iteration: 7/100, moves: 932, ncost: 25989.267954996674\n",
      "Run: 1, iteration: 8/100, moves: 809, ncost: 25697.06499686724\n",
      "Run: 1, iteration: 9/100, moves: 524, ncost: 25553.807512837175\n",
      "Run: 1, iteration: 10/100, moves: 298, ncost: 25498.610862835427\n",
      "Run: 1, iteration: 11/100, moves: 128, ncost: 25488.540176719413\n",
      "Run: 1, iteration: 12/100, moves: 74, ncost: 25486.00179138201\n",
      "Run: 1, iteration: 13/100, moves: 29, ncost: 25485.441737571593\n",
      "Run: 1, iteration: 14/100, moves: 13, ncost: 25485.367025877676\n",
      "Run: 1, iteration: 15/100, moves: 3, ncost: 25485.358674612038\n",
      "Run: 1, iteration: 16/100, moves: 0, ncost: 25485.358674612038\n",
      "Init: initializing centroids\n",
      "Init: initializing clusters\n",
      "Starting iterations...\n",
      "Run: 1, iteration: 1/100, moves: 2268, ncost: 25677.600295608445\n",
      "Run: 1, iteration: 2/100, moves: 682, ncost: 25384.005840001188\n",
      "Run: 1, iteration: 3/100, moves: 192, ncost: 25315.341725756454\n",
      "Run: 1, iteration: 4/100, moves: 116, ncost: 25291.185718959085\n",
      "Run: 1, iteration: 5/100, moves: 76, ncost: 25276.87985226545\n",
      "Run: 1, iteration: 6/100, moves: 82, ncost: 25262.433851197125\n",
      "Run: 1, iteration: 7/100, moves: 75, ncost: 25247.011449864367\n",
      "Run: 1, iteration: 8/100, moves: 74, ncost: 25227.220612812136\n",
      "Run: 1, iteration: 9/100, moves: 103, ncost: 25185.302162278622\n",
      "Run: 1, iteration: 10/100, moves: 115, ncost: 25144.98784104752\n",
      "Run: 1, iteration: 11/100, moves: 68, ncost: 25131.647480733063\n",
      "Run: 1, iteration: 12/100, moves: 41, ncost: 25124.05575111652\n",
      "Run: 1, iteration: 13/100, moves: 62, ncost: 25111.154270429182\n",
      "Run: 1, iteration: 14/100, moves: 30, ncost: 25108.350126007113\n",
      "Run: 1, iteration: 15/100, moves: 31, ncost: 25104.053314024957\n",
      "Run: 1, iteration: 16/100, moves: 32, ncost: 25098.01507836364\n",
      "Run: 1, iteration: 17/100, moves: 29, ncost: 25091.88307817539\n",
      "Run: 1, iteration: 18/100, moves: 30, ncost: 25087.124349797443\n",
      "Run: 1, iteration: 19/100, moves: 36, ncost: 25074.62987870144\n",
      "Run: 1, iteration: 20/100, moves: 37, ncost: 25065.812570801765\n"
     ]
    },
    {
     "name": "stdout",
     "output_type": "stream",
     "text": [
      "Run: 1, iteration: 21/100, moves: 25, ncost: 25062.288613751876\n",
      "Run: 1, iteration: 22/100, moves: 14, ncost: 25060.418900036108\n",
      "Run: 1, iteration: 23/100, moves: 5, ncost: 25060.060891498\n",
      "Run: 1, iteration: 24/100, moves: 8, ncost: 25058.478932617345\n",
      "Run: 1, iteration: 25/100, moves: 18, ncost: 25055.688528334005\n",
      "Run: 1, iteration: 26/100, moves: 19, ncost: 25051.98031714603\n",
      "Run: 1, iteration: 27/100, moves: 25, ncost: 25049.721474042635\n",
      "Run: 1, iteration: 28/100, moves: 5, ncost: 25049.55608464471\n",
      "Run: 1, iteration: 29/100, moves: 8, ncost: 25046.42289164045\n",
      "Run: 1, iteration: 30/100, moves: 11, ncost: 25044.294188832344\n",
      "Run: 1, iteration: 31/100, moves: 4, ncost: 25044.140839973978\n",
      "Run: 1, iteration: 32/100, moves: 0, ncost: 25044.140839973978\n"
     ]
    }
   ],
   "source": [
    "meandist=[]\n",
    "clusters = range(1,10)\n",
    "\n",
    "for k in clusters:\n",
    "    model = KPrototypes(n_clusters=k, init='Huang', n_init=1, verbose=2)\n",
    "    model_fit = model.fit(X, categorical = indCatColumns)\n",
    "    clusassign= model_fit.predict(X, categorical = indCatColumns)\n",
    "    centroids = list()\n",
    "    for i in range(k):\n",
    "        centroids.append(list())\n",
    "        centroids[i] = np.append(model_fit.cluster_centroids_[0][i], model_fit.cluster_centroids_[1][i])\n",
    "    meandist.append(sum(np.min(cdist(X,centroids, metric=lambda X,Y: distance_dissim(X,Y,gamma = model_fit.gamma,categorical = indCatColumns)),axis=1))/listingsCluster.shape[0])"
   ]
  },
  {
   "cell_type": "code",
   "execution_count": 19,
   "metadata": {},
   "outputs": [
    {
     "data": {
      "image/png": "[encoded data removed]",
      "text/plain": [
       "<matplotlib.figure.Figure at 0x7f1c2b1bd710>"
      ]
     },
     "metadata": {},
     "output_type": "display_data"
    }
   ],
   "source": [
    "plt.plot(clusters,meandist)\n",
    "plt.xlabel(\"Number of clusters\")\n",
    "plt.ylabel(\"Average distance\")\n",
    "plt.title(\"Selecting k with the Elbow method\")\n",
    "plt.show()"
   ]
  },
  {
   "cell_type": "code",
   "execution_count": 20,
   "metadata": {},
   "outputs": [],
   "source": [
    "#According to the Elbow method, we could consider 3 clusters and maybe 5 and 8 clusters"
   ]
  },
  {
   "cell_type": "code",
   "execution_count": 21,
   "metadata": {},
   "outputs": [
    {
     "name": "stdout",
     "output_type": "stream",
     "text": [
      "Init: initializing centroids\n",
      "Init: initializing clusters\n",
      "Starting iterations...\n",
      "Run: 1, iteration: 1/100, moves: 4270, ncost: 44207.408357530236\n",
      "Run: 1, iteration: 2/100, moves: 1882, ncost: 40079.71924423144\n",
      "Run: 1, iteration: 3/100, moves: 422, ncost: 39675.403030112604\n",
      "Run: 1, iteration: 4/100, moves: 88, ncost: 39652.8328628479\n",
      "Run: 1, iteration: 5/100, moves: 15, ncost: 39652.244259453655\n",
      "Run: 1, iteration: 6/100, moves: 3, ncost: 39652.220336804174\n",
      "Run: 1, iteration: 7/100, moves: 0, ncost: 39652.220336804174\n"
     ]
    }
   ],
   "source": [
    "model3 = KPrototypes(n_clusters=3, init='Huang', n_init=1, verbose=2)\n",
    "model_fit3 = model3.fit(X, categorical = indCatColumns)\n",
    "clusassign3= model_fit3.predict(X, categorical = indCatColumns)\n",
    "listings['Cluster3'] = model_fit3.labels_"
   ]
  },
  {
   "cell_type": "code",
   "execution_count": 22,
   "metadata": {
    "scrolled": true
   },
   "outputs": [
    {
     "data": {
      "image/png": "[encoded data removed]",
      "text/plain": [
       "<matplotlib.figure.Figure at 0x7f1c2adb2278>"
      ]
     },
     "metadata": {},
     "output_type": "display_data"
    }
   ],
   "source": [
    "plt.scatter(listings['latitude'], listings['longitude'], c = model_fit3.labels_.astype(np.float))\n",
    "plt.show()"
   ]
  },
  {
   "cell_type": "code",
   "execution_count": 23,
   "metadata": {
    "scrolled": true
   },
   "outputs": [
    {
     "name": "stdout",
     "output_type": "stream",
     "text": [
      "Init: initializing centroids\n",
      "Init: initializing clusters\n",
      "Starting iterations...\n",
      "Run: 1, iteration: 1/100, moves: 2185, ncost: 34643.76126119293\n",
      "Run: 1, iteration: 2/100, moves: 718, ncost: 34422.40371086918\n",
      "Run: 1, iteration: 3/100, moves: 317, ncost: 34369.05513975809\n",
      "Run: 1, iteration: 4/100, moves: 269, ncost: 34320.43540537699\n",
      "Run: 1, iteration: 5/100, moves: 219, ncost: 34289.015030588205\n",
      "Run: 1, iteration: 6/100, moves: 126, ncost: 34277.38028456746\n",
      "Run: 1, iteration: 7/100, moves: 111, ncost: 34269.665796468355\n",
      "Run: 1, iteration: 8/100, moves: 75, ncost: 34265.13219860117\n",
      "Run: 1, iteration: 9/100, moves: 59, ncost: 34261.91889835803\n",
      "Run: 1, iteration: 10/100, moves: 67, ncost: 34258.533070856356\n",
      "Run: 1, iteration: 11/100, moves: 39, ncost: 34257.02655498044\n",
      "Run: 1, iteration: 12/100, moves: 47, ncost: 34254.81407802083\n",
      "Run: 1, iteration: 13/100, moves: 48, ncost: 34252.45254117931\n",
      "Run: 1, iteration: 14/100, moves: 33, ncost: 34251.827602657475\n",
      "Run: 1, iteration: 15/100, moves: 25, ncost: 34251.45106854296\n",
      "Run: 1, iteration: 16/100, moves: 23, ncost: 34250.779001587405\n",
      "Run: 1, iteration: 17/100, moves: 26, ncost: 34250.15868887166\n",
      "Run: 1, iteration: 18/100, moves: 27, ncost: 34249.455882854956\n",
      "Run: 1, iteration: 19/100, moves: 26, ncost: 34248.788930060866\n",
      "Run: 1, iteration: 20/100, moves: 46, ncost: 34246.804610621715\n",
      "Run: 1, iteration: 21/100, moves: 53, ncost: 34244.16187987975\n",
      "Run: 1, iteration: 22/100, moves: 89, ncost: 34238.148970942624\n",
      "Run: 1, iteration: 23/100, moves: 102, ncost: 34226.23121082275\n",
      "Run: 1, iteration: 24/100, moves: 188, ncost: 34183.97327133329\n",
      "Run: 1, iteration: 25/100, moves: 250, ncost: 34061.678915097735\n",
      "Run: 1, iteration: 26/100, moves: 230, ncost: 33943.060881710386\n",
      "Run: 1, iteration: 27/100, moves: 187, ncost: 33852.08802153385\n",
      "Run: 1, iteration: 28/100, moves: 123, ncost: 33831.51378009662\n",
      "Run: 1, iteration: 29/100, moves: 76, ncost: 33825.45447510808\n",
      "Run: 1, iteration: 30/100, moves: 78, ncost: 33819.41439329455\n",
      "Run: 1, iteration: 31/100, moves: 70, ncost: 33811.28073006677\n",
      "Run: 1, iteration: 32/100, moves: 116, ncost: 33793.552190547096\n",
      "Run: 1, iteration: 33/100, moves: 189, ncost: 33740.00059261625\n",
      "Run: 1, iteration: 34/100, moves: 383, ncost: 33558.73527897602\n",
      "Run: 1, iteration: 35/100, moves: 529, ncost: 33157.81480350844\n",
      "Run: 1, iteration: 36/100, moves: 463, ncost: 32993.93238188237\n",
      "Run: 1, iteration: 37/100, moves: 266, ncost: 32867.96410398327\n",
      "Run: 1, iteration: 38/100, moves: 146, ncost: 32832.52505152029\n",
      "Run: 1, iteration: 39/100, moves: 55, ncost: 32824.324972951596\n",
      "Run: 1, iteration: 40/100, moves: 34, ncost: 32822.077807321715\n",
      "Run: 1, iteration: 41/100, moves: 21, ncost: 32820.97225822112\n",
      "Run: 1, iteration: 42/100, moves: 8, ncost: 32820.803721520606\n",
      "Run: 1, iteration: 43/100, moves: 4, ncost: 32820.786140079115\n",
      "Run: 1, iteration: 44/100, moves: 0, ncost: 32820.786140079115\n"
     ]
    }
   ],
   "source": [
    "model5 = KPrototypes(n_clusters=5, init='Huang', n_init=1, verbose=2)\n",
    "model_fit5 = model5.fit(X, categorical = indCatColumns)\n",
    "clusassign5= model_fit5.predict(X, categorical = indCatColumns)\n",
    "listings['Cluster5'] = model_fit5.labels_"
   ]
  },
  {
   "cell_type": "code",
   "execution_count": 24,
   "metadata": {},
   "outputs": [
    {
     "data": {
      "image/png": "[encoded data removed]",
      "text/plain": [
       "<matplotlib.figure.Figure at 0x7f1c2aede2b0>"
      ]
     },
     "metadata": {},
     "output_type": "display_data"
    }
   ],
   "source": [
    "plt.scatter(listings['latitude'], listings['longitude'], c = model_fit5.labels_.astype(np.float))\n",
    "plt.show()"
   ]
  },
  {
   "cell_type": "code",
   "execution_count": 25,
   "metadata": {},
   "outputs": [
    {
     "name": "stdout",
     "output_type": "stream",
     "text": [
      "Init: initializing centroids\n",
      "Init: initializing clusters\n",
      "Starting iterations...\n",
      "Run: 1, iteration: 1/100, moves: 3136, ncost: 27758.985227577938\n",
      "Run: 1, iteration: 2/100, moves: 1047, ncost: 26770.23462161185\n",
      "Run: 1, iteration: 3/100, moves: 633, ncost: 26183.401012044164\n",
      "Run: 1, iteration: 4/100, moves: 276, ncost: 26076.097710323025\n",
      "Run: 1, iteration: 5/100, moves: 119, ncost: 26032.767863381432\n",
      "Run: 1, iteration: 6/100, moves: 81, ncost: 26007.483348516158\n",
      "Run: 1, iteration: 7/100, moves: 38, ncost: 26000.471804435372\n",
      "Run: 1, iteration: 8/100, moves: 14, ncost: 25999.435533878062\n",
      "Run: 1, iteration: 9/100, moves: 0, ncost: 25999.435533878062\n"
     ]
    }
   ],
   "source": [
    "model8 = KPrototypes(n_clusters=8, init='Huang', n_init=1, verbose=2)\n",
    "model_fit8 = model8.fit(X, categorical = indCatColumns)\n",
    "clusassign8= model_fit8.predict(X, categorical = indCatColumns)\n",
    "listings['Cluster8'] = model_fit8.labels_"
   ]
  },
  {
   "cell_type": "code",
   "execution_count": 26,
   "metadata": {},
   "outputs": [
    {
     "data": {
      "image/png": "[encoded data removed]",
      "text/plain": [
       "<matplotlib.figure.Figure at 0x7f1c2adb2860>"
      ]
     },
     "metadata": {},
     "output_type": "display_data"
    }
   ],
   "source": [
    "plt.scatter(listings['latitude'], listings['longitude'], c = model_fit8.labels_.astype(np.float))\n",
    "plt.show()"
   ]
  },
  {
   "cell_type": "code",
   "execution_count": 27,
   "metadata": {},
   "outputs": [
    {
     "name": "stdout",
     "output_type": "stream",
     "text": [
      "0.27817359317123935\n"
     ]
    }
   ],
   "source": [
    "labels = model_fit3.labels_\n",
    "gamma = model_fit3.gamma\n",
    "Silhoutte3 = silhouette_score(X, labels, metric= lambda X,Y: distance_dissim(X,Y,gamma = gamma,categorical = indCatColumns))\n",
    "print(Silhoutte3)"
   ]
  },
  {
   "cell_type": "code",
   "execution_count": 28,
   "metadata": {},
   "outputs": [
    {
     "name": "stdout",
     "output_type": "stream",
     "text": [
      "0.21581008536369814\n"
     ]
    }
   ],
   "source": [
    "labels = model_fit5.labels_\n",
    "gamma = model_fit5.gamma\n",
    "Silhoutte5 = silhouette_score(X, labels, metric= lambda X,Y: distance_dissim(X,Y,gamma = gamma,categorical = indCatColumns))\n",
    "print(Silhoutte5)"
   ]
  },
  {
   "cell_type": "code",
   "execution_count": 29,
   "metadata": {},
   "outputs": [
    {
     "ename": "NameError",
     "evalue": "name 'Silhoutte8' is not defined",
     "output_type": "error",
     "traceback": [
      "\u001b[0;31m---------------------------------------------------------------------------\u001b[0m",
      "\u001b[0;31mNameError\u001b[0m                                 Traceback (most recent call last)",
      "\u001b[0;32m<ipython-input-29-1bbca168787e>\u001b[0m in \u001b[0;36m<module>\u001b[0;34m()\u001b[0m\n\u001b[1;32m      2\u001b[0m \u001b[0mgamma\u001b[0m \u001b[0;34m=\u001b[0m \u001b[0mmodel_fit8\u001b[0m\u001b[0;34m.\u001b[0m\u001b[0mgamma\u001b[0m\u001b[0;34m\u001b[0m\u001b[0m\n\u001b[1;32m      3\u001b[0m \u001b[0mSilhoutte5\u001b[0m \u001b[0;34m=\u001b[0m \u001b[0msilhouette_score\u001b[0m\u001b[0;34m(\u001b[0m\u001b[0mX\u001b[0m\u001b[0;34m,\u001b[0m \u001b[0mlabels\u001b[0m\u001b[0;34m,\u001b[0m \u001b[0mmetric\u001b[0m\u001b[0;34m=\u001b[0m \u001b[0;32mlambda\u001b[0m \u001b[0mX\u001b[0m\u001b[0;34m,\u001b[0m\u001b[0mY\u001b[0m\u001b[0;34m:\u001b[0m \u001b[0mdistance_dissim\u001b[0m\u001b[0;34m(\u001b[0m\u001b[0mX\u001b[0m\u001b[0;34m,\u001b[0m\u001b[0mY\u001b[0m\u001b[0;34m,\u001b[0m\u001b[0mgamma\u001b[0m \u001b[0;34m=\u001b[0m \u001b[0mgamma\u001b[0m\u001b[0;34m,\u001b[0m\u001b[0mcategorical\u001b[0m \u001b[0;34m=\u001b[0m \u001b[0mindCatColumns\u001b[0m\u001b[0;34m)\u001b[0m\u001b[0;34m)\u001b[0m\u001b[0;34m\u001b[0m\u001b[0m\n\u001b[0;32m----> 4\u001b[0;31m \u001b[0mprint\u001b[0m\u001b[0;34m(\u001b[0m\u001b[0mSilhoutte8\u001b[0m\u001b[0;34m)\u001b[0m\u001b[0;34m\u001b[0m\u001b[0m\n\u001b[0m",
      "\u001b[0;31mNameError\u001b[0m: name 'Silhoutte8' is not defined"
     ]
    }
   ],
   "source": [
    "labels = model_fit8.labels_\n",
    "gamma = model_fit8.gamma\n",
    "Silhoutte5 = silhouette_score(X, labels, metric= lambda X,Y: distance_dissim(X,Y,gamma = gamma,categorical = indCatColumns))\n",
    "print(Silhoutte8)"
   ]
  },
  {
   "cell_type": "code",
   "execution_count": null,
   "metadata": {},
   "outputs": [],
   "source": [
    "#The Silhoutte coefficient should be close to 1 if there is a good split between clusters, so it doesn't seem these are good clusters\n",
    "#Even though, we test the stability of the clusters recalculating them with K=3 (highest coefficient)"
   ]
  },
  {
   "cell_type": "code",
   "execution_count": null,
   "metadata": {},
   "outputs": [],
   "source": [
    "centroids = model_fit3.cluster_centroids_[0]\n",
    "centroids_PCA = PCA(n_components=2).fit_transform(centroids)"
   ]
  },
  {
   "cell_type": "code",
   "execution_count": null,
   "metadata": {},
   "outputs": [],
   "source": [
    "x_coord=list()\n",
    "y_coord=list()\n",
    "x_coord.append(list())\n",
    "y_coord.append(list())\n",
    "for i in range(0,3):\n",
    "    x_coord[0].append(centroids_PCA[i][0])\n",
    "    y_coord[0].append(centroids_PCA[i][1])"
   ]
  },
  {
   "cell_type": "code",
   "execution_count": null,
   "metadata": {},
   "outputs": [],
   "source": [
    "for k in range(1,10):\n",
    "    model = KPrototypes(n_clusters=3, init='Huang', n_init=1, verbose=False)\n",
    "    model_fit = model.fit(X, categorical = indCatColumns)\n",
    "    centroids = model_fit.cluster_centroids_[0]\n",
    "    centroids_PCA = PCA(n_components=2).fit_transform(centroids)\n",
    "    x_coord.append(list())\n",
    "    y_coord.append(list())\n",
    "    for i in range(0,3):\n",
    "        x_coord[k].append(centroids_PCA[i][0])\n",
    "        y_coord[k].append(centroids_PCA[i][1])"
   ]
  },
  {
   "cell_type": "code",
   "execution_count": null,
   "metadata": {
    "scrolled": true
   },
   "outputs": [],
   "source": [
    "plt.plot(x_coord[0],y_coord[0], 'ro',x_coord[1],y_coord[1], 'bo', x_coord[2],y_coord[2], 'yo', x_coord[3],y_coord[3], 'go', x_coord[4],y_coord[4], 'co', x_coord[5],y_coord[5], 'mo', x_coord[6],y_coord[6], 'ro', x_coord[7],y_coord[7], 'bo', x_coord[8],y_coord[8], 'go', x_coord[9],y_coord[9], 'go')\n",
    "plt.show()"
   ]
  },
  {
   "cell_type": "code",
   "execution_count": null,
   "metadata": {},
   "outputs": [],
   "source": [
    "x_coord"
   ]
  },
  {
   "cell_type": "code",
   "execution_count": null,
   "metadata": {},
   "outputs": [],
   "source": [
    "#We can see that although the Silhouette coefficient is not high, the cluster centroids are stable \n",
    "#(at lest on the numerical variables),as we get almost the same ones after running the algorithm multiple times"
   ]
  },
  {
   "cell_type": "code",
   "execution_count": null,
   "metadata": {},
   "outputs": [],
   "source": [
    "#We export them in order to study the clusters in other tool\n",
    "listings.to_csv('../Data/listings_cluster.csv', index=False)"
   ]
  }
 ],
 "metadata": {
  "kernelspec": {
   "display_name": "Python 3",
   "language": "python",
   "name": "python3"
  },
  "language_info": {
   "codemirror_mode": {
    "name": "ipython",
    "version": 3
   },
   "file_extension": ".py",
   "mimetype": "text/x-python",
   "name": "python",
   "nbconvert_exporter": "python",
   "pygments_lexer": "ipython3",
   "version": "3.5.4"
  }
 },
 "nbformat": 4,
 "nbformat_minor": 2
}
