{
 "cells": [
  {
   "cell_type": "code",
   "execution_count": 83,
   "metadata": {},
   "outputs": [],
   "source": [
    "%matplotlib inline\n",
    "import matplotlib.pyplot as plt\n",
    "import numpy as np\n",
    "import pandas as pd\n",
    "import io\n",
    "import os\n",
    "import math\n",
    "from sklearn.metrics import silhouette_samples,silhouette_score\n",
    "from sklearn import preprocessing\n",
    "from scipy.spatial import distance\n",
    "from scipy.spatial.distance import cdist\n",
    "from sklearn.decomposition import PCA\n",
    "import random \n",
    "random.seed(33)"
   ]
  },
  {
   "cell_type": "code",
   "execution_count": 84,
   "metadata": {},
   "outputs": [],
   "source": [
    "listings = pd.read_csv('../Data/listings_clean.csv', index_col=0)"
   ]
  },
  {
   "cell_type": "code",
   "execution_count": 85,
   "metadata": {},
   "outputs": [],
   "source": [
    "numerical_features = ['latitude', 'longitude', 'accommodates', 'bathrooms','bedrooms', 'beds']"
   ]
  },
  {
   "cell_type": "code",
   "execution_count": 86,
   "metadata": {},
   "outputs": [],
   "source": [
    "boolean_features = ['instant_bookable', 'is_business_travel_ready']"
   ]
  },
  {
   "cell_type": "code",
   "execution_count": 87,
   "metadata": {},
   "outputs": [],
   "source": [
    "categorical_features = ['neighbourhood_cleansed', 'property_type', 'bed_type']\n",
    "listings_categorical = pd.get_dummies(listings[categorical_features], columns=categorical_features, \n",
    "                            prefix=[\"Neigh\", \"Property\", \"Bed\"])"
   ]
  },
  {
   "cell_type": "code",
   "execution_count": 88,
   "metadata": {},
   "outputs": [],
   "source": [
    "listingsCluster = pd.concat([listings[numerical_features],listings[categorical_features],listings[boolean_features]], axis=1)"
   ]
  },
  {
   "cell_type": "code",
   "execution_count": 89,
   "metadata": {},
   "outputs": [
    {
     "data": {
      "text/html": [
       "<div>\n",
       "<style scoped>\n",
       "    .dataframe tbody tr th:only-of-type {\n",
       "        vertical-align: middle;\n",
       "    }\n",
       "\n",
       "    .dataframe tbody tr th {\n",
       "        vertical-align: top;\n",
       "    }\n",
       "\n",
       "    .dataframe thead th {\n",
       "        text-align: right;\n",
       "    }\n",
       "</style>\n",
       "<table border=\"1\" class=\"dataframe\">\n",
       "  <thead>\n",
       "    <tr style=\"text-align: right;\">\n",
       "      <th></th>\n",
       "      <th>latitude</th>\n",
       "      <th>longitude</th>\n",
       "      <th>accommodates</th>\n",
       "      <th>bathrooms</th>\n",
       "      <th>bedrooms</th>\n",
       "      <th>beds</th>\n",
       "      <th>neighbourhood_cleansed</th>\n",
       "      <th>property_type</th>\n",
       "      <th>bed_type</th>\n",
       "      <th>instant_bookable</th>\n",
       "      <th>is_business_travel_ready</th>\n",
       "    </tr>\n",
       "    <tr>\n",
       "      <th>id</th>\n",
       "      <th></th>\n",
       "      <th></th>\n",
       "      <th></th>\n",
       "      <th></th>\n",
       "      <th></th>\n",
       "      <th></th>\n",
       "      <th></th>\n",
       "      <th></th>\n",
       "      <th></th>\n",
       "      <th></th>\n",
       "      <th></th>\n",
       "    </tr>\n",
       "  </thead>\n",
       "  <tbody>\n",
       "    <tr>\n",
       "      <th>18628</th>\n",
       "      <td>40.424715</td>\n",
       "      <td>-3.698638</td>\n",
       "      <td>2</td>\n",
       "      <td>1.0</td>\n",
       "      <td>0.0</td>\n",
       "      <td>1.0</td>\n",
       "      <td>Justicia</td>\n",
       "      <td>Apartment</td>\n",
       "      <td>Pull-out Sofa</td>\n",
       "      <td>1</td>\n",
       "      <td>0</td>\n",
       "    </tr>\n",
       "    <tr>\n",
       "      <th>19864</th>\n",
       "      <td>40.413418</td>\n",
       "      <td>-3.706838</td>\n",
       "      <td>2</td>\n",
       "      <td>1.0</td>\n",
       "      <td>0.0</td>\n",
       "      <td>1.0</td>\n",
       "      <td>Embajadores</td>\n",
       "      <td>Apartment</td>\n",
       "      <td>Pull-out Sofa</td>\n",
       "      <td>1</td>\n",
       "      <td>0</td>\n",
       "    </tr>\n",
       "    <tr>\n",
       "      <th>21512</th>\n",
       "      <td>40.424920</td>\n",
       "      <td>-3.713446</td>\n",
       "      <td>2</td>\n",
       "      <td>1.0</td>\n",
       "      <td>0.0</td>\n",
       "      <td>1.0</td>\n",
       "      <td>Argüelles</td>\n",
       "      <td>Apartment</td>\n",
       "      <td>Pull-out Sofa</td>\n",
       "      <td>0</td>\n",
       "      <td>0</td>\n",
       "    </tr>\n",
       "    <tr>\n",
       "      <th>23021</th>\n",
       "      <td>40.423417</td>\n",
       "      <td>-3.712456</td>\n",
       "      <td>10</td>\n",
       "      <td>3.0</td>\n",
       "      <td>4.0</td>\n",
       "      <td>5.0</td>\n",
       "      <td>Argüelles</td>\n",
       "      <td>Apartment</td>\n",
       "      <td>Real Bed</td>\n",
       "      <td>0</td>\n",
       "      <td>0</td>\n",
       "    </tr>\n",
       "    <tr>\n",
       "      <th>24805</th>\n",
       "      <td>40.422022</td>\n",
       "      <td>-3.703954</td>\n",
       "      <td>3</td>\n",
       "      <td>1.0</td>\n",
       "      <td>0.0</td>\n",
       "      <td>2.0</td>\n",
       "      <td>Universidad</td>\n",
       "      <td>Apartment</td>\n",
       "      <td>Real Bed</td>\n",
       "      <td>0</td>\n",
       "      <td>0</td>\n",
       "    </tr>\n",
       "  </tbody>\n",
       "</table>\n",
       "</div>"
      ],
      "text/plain": [
       "        latitude  longitude  accommodates  bathrooms  bedrooms  beds  \\\n",
       "id                                                                     \n",
       "18628  40.424715  -3.698638             2        1.0       0.0   1.0   \n",
       "19864  40.413418  -3.706838             2        1.0       0.0   1.0   \n",
       "21512  40.424920  -3.713446             2        1.0       0.0   1.0   \n",
       "23021  40.423417  -3.712456            10        3.0       4.0   5.0   \n",
       "24805  40.422022  -3.703954             3        1.0       0.0   2.0   \n",
       "\n",
       "      neighbourhood_cleansed property_type       bed_type  instant_bookable  \\\n",
       "id                                                                            \n",
       "18628               Justicia     Apartment  Pull-out Sofa                 1   \n",
       "19864            Embajadores     Apartment  Pull-out Sofa                 1   \n",
       "21512              Argüelles     Apartment  Pull-out Sofa                 0   \n",
       "23021              Argüelles     Apartment       Real Bed                 0   \n",
       "24805            Universidad     Apartment       Real Bed                 0   \n",
       "\n",
       "       is_business_travel_ready  \n",
       "id                               \n",
       "18628                         0  \n",
       "19864                         0  \n",
       "21512                         0  \n",
       "23021                         0  \n",
       "24805                         0  "
      ]
     },
     "execution_count": 89,
     "metadata": {},
     "output_type": "execute_result"
    }
   ],
   "source": [
    "listingsCluster.head()"
   ]
  },
  {
   "cell_type": "code",
   "execution_count": 90,
   "metadata": {},
   "outputs": [
    {
     "data": {
      "text/plain": [
       "latitude                    0\n",
       "longitude                   0\n",
       "accommodates                0\n",
       "bathrooms                   0\n",
       "bedrooms                    0\n",
       "beds                        0\n",
       "neighbourhood_cleansed      0\n",
       "property_type               0\n",
       "bed_type                    0\n",
       "instant_bookable            0\n",
       "is_business_travel_ready    0\n",
       "dtype: int64"
      ]
     },
     "execution_count": 90,
     "metadata": {},
     "output_type": "execute_result"
    }
   ],
   "source": [
    "listingsCluster.isnull().sum()"
   ]
  },
  {
   "cell_type": "code",
   "execution_count": 91,
   "metadata": {},
   "outputs": [],
   "source": [
    "to_categorical = categorical_features + boolean_features\n",
    "indCatColumns = [listingsCluster.columns.get_loc(col) for col in to_categorical]"
   ]
  },
  {
   "cell_type": "code",
   "execution_count": 92,
   "metadata": {},
   "outputs": [],
   "source": [
    "from sklearn.preprocessing import RobustScaler\n",
    "RS = RobustScaler()"
   ]
  },
  {
   "cell_type": "code",
   "execution_count": 93,
   "metadata": {},
   "outputs": [],
   "source": [
    "listingsCluster[numerical_features] = RS.fit_transform(listingsCluster[numerical_features])"
   ]
  },
  {
   "cell_type": "code",
   "execution_count": 94,
   "metadata": {},
   "outputs": [
    {
     "data": {
      "text/html": [
       "<div>\n",
       "<style scoped>\n",
       "    .dataframe tbody tr th:only-of-type {\n",
       "        vertical-align: middle;\n",
       "    }\n",
       "\n",
       "    .dataframe tbody tr th {\n",
       "        vertical-align: top;\n",
       "    }\n",
       "\n",
       "    .dataframe thead th {\n",
       "        text-align: right;\n",
       "    }\n",
       "</style>\n",
       "<table border=\"1\" class=\"dataframe\">\n",
       "  <thead>\n",
       "    <tr style=\"text-align: right;\">\n",
       "      <th></th>\n",
       "      <th>latitude</th>\n",
       "      <th>longitude</th>\n",
       "      <th>accommodates</th>\n",
       "      <th>bathrooms</th>\n",
       "      <th>bedrooms</th>\n",
       "      <th>beds</th>\n",
       "      <th>instant_bookable</th>\n",
       "      <th>is_business_travel_ready</th>\n",
       "    </tr>\n",
       "  </thead>\n",
       "  <tbody>\n",
       "    <tr>\n",
       "      <th>count</th>\n",
       "      <td>8.586000e+03</td>\n",
       "      <td>8.586000e+03</td>\n",
       "      <td>8586.000000</td>\n",
       "      <td>8586.000000</td>\n",
       "      <td>8586.000000</td>\n",
       "      <td>8586.000000</td>\n",
       "      <td>8586.000000</td>\n",
       "      <td>8586.000000</td>\n",
       "    </tr>\n",
       "    <tr>\n",
       "      <th>mean</th>\n",
       "      <td>1.526813e-01</td>\n",
       "      <td>3.135931e-01</td>\n",
       "      <td>0.066562</td>\n",
       "      <td>0.248777</td>\n",
       "      <td>0.479385</td>\n",
       "      <td>0.201025</td>\n",
       "      <td>0.556138</td>\n",
       "      <td>0.063359</td>\n",
       "    </tr>\n",
       "    <tr>\n",
       "      <th>std</th>\n",
       "      <td>1.118500e+00</td>\n",
       "      <td>1.670191e+00</td>\n",
       "      <td>0.966366</td>\n",
       "      <td>0.512864</td>\n",
       "      <td>0.957383</td>\n",
       "      <td>0.766550</td>\n",
       "      <td>0.496867</td>\n",
       "      <td>0.243622</td>\n",
       "    </tr>\n",
       "    <tr>\n",
       "      <th>min</th>\n",
       "      <td>-5.753218e+00</td>\n",
       "      <td>-1.201677e+01</td>\n",
       "      <td>-1.500000</td>\n",
       "      <td>-1.000000</td>\n",
       "      <td>-1.000000</td>\n",
       "      <td>-0.500000</td>\n",
       "      <td>0.000000</td>\n",
       "      <td>0.000000</td>\n",
       "    </tr>\n",
       "    <tr>\n",
       "      <th>25%</th>\n",
       "      <td>-4.771182e-01</td>\n",
       "      <td>-4.703298e-01</td>\n",
       "      <td>-0.500000</td>\n",
       "      <td>0.000000</td>\n",
       "      <td>0.000000</td>\n",
       "      <td>-0.500000</td>\n",
       "      <td>0.000000</td>\n",
       "      <td>0.000000</td>\n",
       "    </tr>\n",
       "    <tr>\n",
       "      <th>50%</th>\n",
       "      <td>2.397762e-13</td>\n",
       "      <td>-1.997035e-14</td>\n",
       "      <td>0.000000</td>\n",
       "      <td>0.000000</td>\n",
       "      <td>0.000000</td>\n",
       "      <td>0.000000</td>\n",
       "      <td>1.000000</td>\n",
       "      <td>0.000000</td>\n",
       "    </tr>\n",
       "    <tr>\n",
       "      <th>75%</th>\n",
       "      <td>5.228818e-01</td>\n",
       "      <td>5.296702e-01</td>\n",
       "      <td>0.500000</td>\n",
       "      <td>0.000000</td>\n",
       "      <td>1.000000</td>\n",
       "      <td>0.500000</td>\n",
       "      <td>1.000000</td>\n",
       "      <td>0.000000</td>\n",
       "    </tr>\n",
       "    <tr>\n",
       "      <th>max</th>\n",
       "      <td>1.261458e+01</td>\n",
       "      <td>1.425931e+01</td>\n",
       "      <td>6.000000</td>\n",
       "      <td>5.000000</td>\n",
       "      <td>9.000000</td>\n",
       "      <td>7.500000</td>\n",
       "      <td>1.000000</td>\n",
       "      <td>1.000000</td>\n",
       "    </tr>\n",
       "  </tbody>\n",
       "</table>\n",
       "</div>"
      ],
      "text/plain": [
       "           latitude     longitude  accommodates    bathrooms     bedrooms  \\\n",
       "count  8.586000e+03  8.586000e+03   8586.000000  8586.000000  8586.000000   \n",
       "mean   1.526813e-01  3.135931e-01      0.066562     0.248777     0.479385   \n",
       "std    1.118500e+00  1.670191e+00      0.966366     0.512864     0.957383   \n",
       "min   -5.753218e+00 -1.201677e+01     -1.500000    -1.000000    -1.000000   \n",
       "25%   -4.771182e-01 -4.703298e-01     -0.500000     0.000000     0.000000   \n",
       "50%    2.397762e-13 -1.997035e-14      0.000000     0.000000     0.000000   \n",
       "75%    5.228818e-01  5.296702e-01      0.500000     0.000000     1.000000   \n",
       "max    1.261458e+01  1.425931e+01      6.000000     5.000000     9.000000   \n",
       "\n",
       "              beds  instant_bookable  is_business_travel_ready  \n",
       "count  8586.000000       8586.000000               8586.000000  \n",
       "mean      0.201025          0.556138                  0.063359  \n",
       "std       0.766550          0.496867                  0.243622  \n",
       "min      -0.500000          0.000000                  0.000000  \n",
       "25%      -0.500000          0.000000                  0.000000  \n",
       "50%       0.000000          1.000000                  0.000000  \n",
       "75%       0.500000          1.000000                  0.000000  \n",
       "max       7.500000          1.000000                  1.000000  "
      ]
     },
     "execution_count": 94,
     "metadata": {},
     "output_type": "execute_result"
    }
   ],
   "source": [
    "listingsCluster.describe()"
   ]
  },
  {
   "cell_type": "code",
   "execution_count": 73,
   "metadata": {},
   "outputs": [],
   "source": [
    "#In order to put more weight on these 2 variables\n",
    "listingsCluster['latitude'] = listingsCluster['latitude'] * 3\n",
    "listingsCluster['longitude'] = listingsCluster['latitude'] * 3"
   ]
  },
  {
   "cell_type": "code",
   "execution_count": 74,
   "metadata": {},
   "outputs": [
    {
     "data": {
      "text/html": [
       "<div>\n",
       "<style scoped>\n",
       "    .dataframe tbody tr th:only-of-type {\n",
       "        vertical-align: middle;\n",
       "    }\n",
       "\n",
       "    .dataframe tbody tr th {\n",
       "        vertical-align: top;\n",
       "    }\n",
       "\n",
       "    .dataframe thead th {\n",
       "        text-align: right;\n",
       "    }\n",
       "</style>\n",
       "<table border=\"1\" class=\"dataframe\">\n",
       "  <thead>\n",
       "    <tr style=\"text-align: right;\">\n",
       "      <th></th>\n",
       "      <th>latitude</th>\n",
       "      <th>longitude</th>\n",
       "      <th>accommodates</th>\n",
       "      <th>bathrooms</th>\n",
       "      <th>bedrooms</th>\n",
       "      <th>beds</th>\n",
       "      <th>instant_bookable</th>\n",
       "      <th>is_business_travel_ready</th>\n",
       "    </tr>\n",
       "  </thead>\n",
       "  <tbody>\n",
       "    <tr>\n",
       "      <th>count</th>\n",
       "      <td>8.586000e+03</td>\n",
       "      <td>8.586000e+03</td>\n",
       "      <td>8586.000000</td>\n",
       "      <td>8586.000000</td>\n",
       "      <td>8586.000000</td>\n",
       "      <td>8586.000000</td>\n",
       "      <td>8586.000000</td>\n",
       "      <td>8586.000000</td>\n",
       "    </tr>\n",
       "    <tr>\n",
       "      <th>mean</th>\n",
       "      <td>4.580440e-01</td>\n",
       "      <td>1.374132e+00</td>\n",
       "      <td>0.066562</td>\n",
       "      <td>0.248777</td>\n",
       "      <td>0.479385</td>\n",
       "      <td>0.201025</td>\n",
       "      <td>0.556138</td>\n",
       "      <td>0.063359</td>\n",
       "    </tr>\n",
       "    <tr>\n",
       "      <th>std</th>\n",
       "      <td>3.355500e+00</td>\n",
       "      <td>1.006650e+01</td>\n",
       "      <td>0.966366</td>\n",
       "      <td>0.512864</td>\n",
       "      <td>0.957383</td>\n",
       "      <td>0.766550</td>\n",
       "      <td>0.496867</td>\n",
       "      <td>0.243622</td>\n",
       "    </tr>\n",
       "    <tr>\n",
       "      <th>min</th>\n",
       "      <td>-1.725965e+01</td>\n",
       "      <td>-5.177896e+01</td>\n",
       "      <td>-1.500000</td>\n",
       "      <td>-1.000000</td>\n",
       "      <td>-1.000000</td>\n",
       "      <td>-0.500000</td>\n",
       "      <td>0.000000</td>\n",
       "      <td>0.000000</td>\n",
       "    </tr>\n",
       "    <tr>\n",
       "      <th>25%</th>\n",
       "      <td>-1.431354e+00</td>\n",
       "      <td>-4.294063e+00</td>\n",
       "      <td>-0.500000</td>\n",
       "      <td>0.000000</td>\n",
       "      <td>0.000000</td>\n",
       "      <td>-0.500000</td>\n",
       "      <td>0.000000</td>\n",
       "      <td>0.000000</td>\n",
       "    </tr>\n",
       "    <tr>\n",
       "      <th>50%</th>\n",
       "      <td>7.193286e-13</td>\n",
       "      <td>2.157986e-12</td>\n",
       "      <td>0.000000</td>\n",
       "      <td>0.000000</td>\n",
       "      <td>0.000000</td>\n",
       "      <td>0.000000</td>\n",
       "      <td>1.000000</td>\n",
       "      <td>0.000000</td>\n",
       "    </tr>\n",
       "    <tr>\n",
       "      <th>75%</th>\n",
       "      <td>1.568646e+00</td>\n",
       "      <td>4.705937e+00</td>\n",
       "      <td>0.500000</td>\n",
       "      <td>0.000000</td>\n",
       "      <td>1.000000</td>\n",
       "      <td>0.500000</td>\n",
       "      <td>1.000000</td>\n",
       "      <td>0.000000</td>\n",
       "    </tr>\n",
       "    <tr>\n",
       "      <th>max</th>\n",
       "      <td>3.784375e+01</td>\n",
       "      <td>1.135312e+02</td>\n",
       "      <td>6.000000</td>\n",
       "      <td>5.000000</td>\n",
       "      <td>9.000000</td>\n",
       "      <td>7.500000</td>\n",
       "      <td>1.000000</td>\n",
       "      <td>1.000000</td>\n",
       "    </tr>\n",
       "  </tbody>\n",
       "</table>\n",
       "</div>"
      ],
      "text/plain": [
       "           latitude     longitude  accommodates    bathrooms     bedrooms  \\\n",
       "count  8.586000e+03  8.586000e+03   8586.000000  8586.000000  8586.000000   \n",
       "mean   4.580440e-01  1.374132e+00      0.066562     0.248777     0.479385   \n",
       "std    3.355500e+00  1.006650e+01      0.966366     0.512864     0.957383   \n",
       "min   -1.725965e+01 -5.177896e+01     -1.500000    -1.000000    -1.000000   \n",
       "25%   -1.431354e+00 -4.294063e+00     -0.500000     0.000000     0.000000   \n",
       "50%    7.193286e-13  2.157986e-12      0.000000     0.000000     0.000000   \n",
       "75%    1.568646e+00  4.705937e+00      0.500000     0.000000     1.000000   \n",
       "max    3.784375e+01  1.135312e+02      6.000000     5.000000     9.000000   \n",
       "\n",
       "              beds  instant_bookable  is_business_travel_ready  \n",
       "count  8586.000000       8586.000000               8586.000000  \n",
       "mean      0.201025          0.556138                  0.063359  \n",
       "std       0.766550          0.496867                  0.243622  \n",
       "min      -0.500000          0.000000                  0.000000  \n",
       "25%      -0.500000          0.000000                  0.000000  \n",
       "50%       0.000000          1.000000                  0.000000  \n",
       "75%       0.500000          1.000000                  0.000000  \n",
       "max       7.500000          1.000000                  1.000000  "
      ]
     },
     "execution_count": 74,
     "metadata": {},
     "output_type": "execute_result"
    }
   ],
   "source": [
    "listingsCluster.describe()"
   ]
  },
  {
   "cell_type": "code",
   "execution_count": 15,
   "metadata": {},
   "outputs": [
    {
     "name": "stdout",
     "output_type": "stream",
     "text": [
      "Requirement already up-to-date: kmodes in /home/dsc/anaconda3/lib/python3.5/site-packages (0.9)\n",
      "Requirement not upgraded as not directly required: scipy>=0.13.3 in /home/dsc/anaconda3/lib/python3.5/site-packages (from kmodes) (1.0.1)\n",
      "Requirement not upgraded as not directly required: numpy>=1.10.4 in /home/dsc/anaconda3/lib/python3.5/site-packages (from kmodes) (1.14.3)\n",
      "Requirement not upgraded as not directly required: scikit-learn<0.20.0,>=0.19.0 in /home/dsc/anaconda3/lib/python3.5/site-packages (from kmodes) (0.19.1)\n"
     ]
    }
   ],
   "source": [
    "! pip install --upgrade kmodes"
   ]
  },
  {
   "cell_type": "code",
   "execution_count": 95,
   "metadata": {},
   "outputs": [],
   "source": [
    "from kmodes.kprototypes import KPrototypes"
   ]
  },
  {
   "cell_type": "code",
   "execution_count": 96,
   "metadata": {},
   "outputs": [],
   "source": [
    "for cat_col in categorical_features:\n",
    "    listingsCluster[cat_col] = preprocessing.LabelEncoder().fit_transform(listingsCluster[cat_col])"
   ]
  },
  {
   "cell_type": "code",
   "execution_count": 97,
   "metadata": {},
   "outputs": [],
   "source": [
    "X = listingsCluster.values"
   ]
  },
  {
   "cell_type": "code",
   "execution_count": 98,
   "metadata": {},
   "outputs": [],
   "source": [
    "def distance_dissim(X,Y,gamma,categorical):\n",
    "    no_categorical = [i for i in range(len(X)) if i not in categorical]\n",
    "    Xnum = np.asanyarray([X[ii] for ii in no_categorical]).astype(np.float64)\n",
    "    Ynum = np.asanyarray([Y[ii] for ii in no_categorical]).astype(np.float64)\n",
    "    Xcat = np.asanyarray([X[ii] for ii in categorical])\n",
    "    Ycat = np.asanyarray([Y[ii] for ii in categorical])\n",
    "    \n",
    "    distance_dissim = distance.euclidean(Xnum, Ynum) + gamma * np.sum(Xcat != Ycat)\n",
    "    \n",
    "    return distance_dissim"
   ]
  },
  {
   "cell_type": "code",
   "execution_count": 30,
   "metadata": {},
   "outputs": [
    {
     "name": "stdout",
     "output_type": "stream",
     "text": [
      "Init: initializing centroids\n",
      "Init: initializing clusters\n",
      "Starting iterations...\n",
      "Run: 1, iteration: 1/100, moves: 0, ncost: 353542.60816641717\n",
      "Init: initializing centroids\n",
      "Init: initializing clusters\n",
      "Starting iterations...\n",
      "Run: 1, iteration: 1/100, moves: 1952, ncost: 224548.72691717598\n",
      "Run: 1, iteration: 2/100, moves: 1740, ncost: 204668.62606888852\n",
      "Run: 1, iteration: 3/100, moves: 613, ncost: 201604.8496623783\n",
      "Run: 1, iteration: 4/100, moves: 619, ncost: 197865.94417373845\n",
      "Run: 1, iteration: 5/100, moves: 571, ncost: 193591.91802273958\n",
      "Run: 1, iteration: 6/100, moves: 571, ncost: 187732.60544611077\n",
      "Run: 1, iteration: 7/100, moves: 322, ncost: 185338.16999237044\n",
      "Run: 1, iteration: 8/100, moves: 123, ncost: 184872.17772687195\n",
      "Run: 1, iteration: 9/100, moves: 40, ncost: 184823.45177811285\n",
      "Run: 1, iteration: 10/100, moves: 17, ncost: 184814.09108913518\n",
      "Run: 1, iteration: 11/100, moves: 8, ncost: 184811.19167080882\n",
      "Run: 1, iteration: 12/100, moves: 3, ncost: 184810.69472453563\n",
      "Run: 1, iteration: 13/100, moves: 2, ncost: 184810.55904857066\n",
      "Run: 1, iteration: 14/100, moves: 0, ncost: 184810.55904857066\n",
      "Init: initializing centroids\n",
      "Init: initializing clusters\n",
      "Starting iterations...\n",
      "Run: 1, iteration: 1/100, moves: 994, ncost: 144443.5962374651\n",
      "Run: 1, iteration: 2/100, moves: 564, ncost: 138301.44973895428\n",
      "Run: 1, iteration: 3/100, moves: 251, ncost: 136994.7332993485\n",
      "Run: 1, iteration: 4/100, moves: 245, ncost: 136186.91665113514\n",
      "Run: 1, iteration: 5/100, moves: 587, ncost: 131138.82993587974\n",
      "Run: 1, iteration: 6/100, moves: 1250, ncost: 121143.18340251793\n",
      "Run: 1, iteration: 7/100, moves: 907, ncost: 116945.07052231008\n",
      "Run: 1, iteration: 8/100, moves: 470, ncost: 115826.95147592782\n",
      "Run: 1, iteration: 9/100, moves: 192, ncost: 115641.4459512764\n",
      "Run: 1, iteration: 10/100, moves: 98, ncost: 115599.97085646044\n",
      "Run: 1, iteration: 11/100, moves: 51, ncost: 115588.58648688711\n",
      "Run: 1, iteration: 12/100, moves: 8, ncost: 115588.20687615342\n",
      "Run: 1, iteration: 13/100, moves: 2, ncost: 115588.18631063293\n",
      "Run: 1, iteration: 14/100, moves: 0, ncost: 115588.18631063293\n",
      "Init: initializing centroids\n",
      "Init: initializing clusters\n",
      "Init: initializing centroids\n",
      "Init: initializing clusters\n",
      "Starting iterations...\n",
      "Run: 1, iteration: 1/100, moves: 2964, ncost: 102176.73784775789\n",
      "Run: 1, iteration: 2/100, moves: 1315, ncost: 90959.69724355853\n",
      "Run: 1, iteration: 3/100, moves: 427, ncost: 89263.43936989609\n",
      "Run: 1, iteration: 4/100, moves: 89, ncost: 89198.274042221\n",
      "Run: 1, iteration: 5/100, moves: 40, ncost: 89186.93484212703\n",
      "Run: 1, iteration: 6/100, moves: 15, ncost: 89185.5696761278\n",
      "Run: 1, iteration: 7/100, moves: 5, ncost: 89185.38698902917\n",
      "Run: 1, iteration: 8/100, moves: 0, ncost: 89185.38698902917\n",
      "Init: initializing centroids\n",
      "Init: initializing clusters\n",
      "Init: initializing centroids\n",
      "Init: initializing clusters\n",
      "Starting iterations...\n",
      "Run: 1, iteration: 1/100, moves: 3367, ncost: 91574.65029887328\n",
      "Run: 1, iteration: 2/100, moves: 1400, ncost: 80014.82844332368\n",
      "Run: 1, iteration: 3/100, moves: 805, ncost: 77886.89780663721\n",
      "Run: 1, iteration: 4/100, moves: 434, ncost: 77222.80223307031\n",
      "Run: 1, iteration: 5/100, moves: 456, ncost: 76253.13804943692\n",
      "Run: 1, iteration: 6/100, moves: 519, ncost: 75025.7256612438\n",
      "Run: 1, iteration: 7/100, moves: 333, ncost: 74556.39962479997\n",
      "Run: 1, iteration: 8/100, moves: 177, ncost: 74414.28554077206\n",
      "Run: 1, iteration: 9/100, moves: 101, ncost: 74370.61203906049\n",
      "Run: 1, iteration: 10/100, moves: 76, ncost: 74345.08138434746\n",
      "Run: 1, iteration: 11/100, moves: 67, ncost: 74326.58697424385\n",
      "Run: 1, iteration: 12/100, moves: 44, ncost: 74317.91204077272\n",
      "Run: 1, iteration: 13/100, moves: 40, ncost: 74309.76141485458\n",
      "Run: 1, iteration: 14/100, moves: 24, ncost: 74306.00443150316\n",
      "Run: 1, iteration: 15/100, moves: 12, ncost: 74304.85854611296\n",
      "Run: 1, iteration: 16/100, moves: 8, ncost: 74303.57812493687\n",
      "Run: 1, iteration: 17/100, moves: 9, ncost: 74302.13645418081\n",
      "Run: 1, iteration: 18/100, moves: 1, ncost: 74302.12383625381\n",
      "Run: 1, iteration: 19/100, moves: 0, ncost: 74302.12383625381\n",
      "Init: initializing centroids\n",
      "Init: initializing clusters\n",
      "Init: initializing centroids\n",
      "Init: initializing clusters\n",
      "Init: initializing centroids\n",
      "Init: initializing clusters\n",
      "Init: initializing centroids\n",
      "Init: initializing clusters\n",
      "Init: initializing centroids\n",
      "Init: initializing clusters\n",
      "Init: initializing centroids\n",
      "Init: initializing clusters\n",
      "Starting iterations...\n",
      "Run: 1, iteration: 1/100, moves: 1962, ncost: 75227.5246911757\n",
      "Run: 1, iteration: 2/100, moves: 1250, ncost: 68836.98284659054\n",
      "Run: 1, iteration: 3/100, moves: 602, ncost: 67297.50542699997\n",
      "Run: 1, iteration: 4/100, moves: 228, ncost: 67035.51290341806\n",
      "Run: 1, iteration: 5/100, moves: 101, ncost: 66985.2810978259\n",
      "Run: 1, iteration: 6/100, moves: 61, ncost: 66970.04643003069\n",
      "Run: 1, iteration: 7/100, moves: 35, ncost: 66963.90859194902\n",
      "Run: 1, iteration: 8/100, moves: 33, ncost: 66959.00432649047\n",
      "Run: 1, iteration: 9/100, moves: 18, ncost: 66957.68477471925\n",
      "Run: 1, iteration: 10/100, moves: 10, ncost: 66957.32644199663\n",
      "Run: 1, iteration: 11/100, moves: 7, ncost: 66955.69355055808\n",
      "Run: 1, iteration: 12/100, moves: 15, ncost: 66952.96782298971\n",
      "Run: 1, iteration: 13/100, moves: 15, ncost: 66951.05077138441\n",
      "Run: 1, iteration: 14/100, moves: 10, ncost: 66950.7267725165\n",
      "Run: 1, iteration: 15/100, moves: 0, ncost: 66950.7267725165\n",
      "Init: initializing centroids\n",
      "Init: initializing clusters\n",
      "Init: initializing centroids\n",
      "Init: initializing clusters\n",
      "Starting iterations...\n",
      "Run: 1, iteration: 1/100, moves: 2838, ncost: 64105.24364823699\n",
      "Run: 1, iteration: 2/100, moves: 1020, ncost: 62168.15376306969\n",
      "Run: 1, iteration: 3/100, moves: 749, ncost: 60703.39825774142\n",
      "Run: 1, iteration: 4/100, moves: 540, ncost: 59795.571488262976\n",
      "Run: 1, iteration: 5/100, moves: 486, ncost: 59137.71589676871\n",
      "Run: 1, iteration: 6/100, moves: 297, ncost: 58940.31411855444\n",
      "Run: 1, iteration: 7/100, moves: 115, ncost: 58910.04024975909\n",
      "Run: 1, iteration: 8/100, moves: 48, ncost: 58904.279372390934\n",
      "Run: 1, iteration: 9/100, moves: 25, ncost: 58901.9712858531\n",
      "Run: 1, iteration: 10/100, moves: 15, ncost: 58900.564786112205\n",
      "Run: 1, iteration: 11/100, moves: 11, ncost: 58900.11523713521\n",
      "Run: 1, iteration: 12/100, moves: 3, ncost: 58900.0879313294\n",
      "Run: 1, iteration: 13/100, moves: 0, ncost: 58900.0879313294\n",
      "Init: initializing centroids\n",
      "Init: initializing clusters\n",
      "Init: initializing centroids\n",
      "Init: initializing clusters\n",
      "Init: initializing centroids\n",
      "Init: initializing clusters\n",
      "Init: initializing centroids\n",
      "Init: initializing clusters\n",
      "Init: initializing centroids\n",
      "Init: initializing clusters\n",
      "Init: initializing centroids\n",
      "Init: initializing clusters\n",
      "Init: initializing centroids\n",
      "Init: initializing clusters\n",
      "Init: initializing centroids\n",
      "Init: initializing clusters\n",
      "Init: initializing centroids\n",
      "Init: initializing clusters\n",
      "Init: initializing centroids\n",
      "Init: initializing clusters\n",
      "Init: initializing centroids\n",
      "Init: initializing clusters\n",
      "Init: initializing centroids\n",
      "Init: initializing clusters\n",
      "Init: initializing centroids\n",
      "Init: initializing clusters\n",
      "Init: initializing centroids\n",
      "Init: initializing clusters\n",
      "Init: initializing centroids\n",
      "Init: initializing clusters\n",
      "Init: initializing centroids\n",
      "Init: initializing clusters\n",
      "Init: initializing centroids\n",
      "Init: initializing clusters\n",
      "Init: initializing centroids\n",
      "Init: initializing clusters\n",
      "Init: initializing centroids\n",
      "Init: initializing clusters\n",
      "Init: initializing centroids\n",
      "Init: initializing clusters\n",
      "Init: initializing centroids\n",
      "Init: initializing clusters\n",
      "Starting iterations...\n",
      "Run: 1, iteration: 1/100, moves: 2807, ncost: 71962.70718723885\n",
      "Run: 1, iteration: 2/100, moves: 1897, ncost: 62884.70062803569\n",
      "Run: 1, iteration: 3/100, moves: 1005, ncost: 59927.295079604344\n",
      "Run: 1, iteration: 4/100, moves: 427, ncost: 59263.43456395768\n",
      "Run: 1, iteration: 5/100, moves: 157, ncost: 59129.67313064615\n",
      "Run: 1, iteration: 6/100, moves: 88, ncost: 59068.11696154125\n",
      "Run: 1, iteration: 7/100, moves: 58, ncost: 59027.688685336696\n",
      "Run: 1, iteration: 8/100, moves: 39, ncost: 59017.12038324062\n",
      "Run: 1, iteration: 9/100, moves: 18, ncost: 59015.43897227421\n",
      "Run: 1, iteration: 10/100, moves: 3, ncost: 59015.34181607148\n",
      "Run: 1, iteration: 11/100, moves: 3, ncost: 59015.24988208017\n"
     ]
    },
    {
     "name": "stdout",
     "output_type": "stream",
     "text": [
      "Run: 1, iteration: 12/100, moves: 9, ncost: 59014.262096463346\n",
      "Run: 1, iteration: 13/100, moves: 17, ncost: 59012.496988467916\n",
      "Run: 1, iteration: 14/100, moves: 8, ncost: 59012.122974126745\n",
      "Run: 1, iteration: 15/100, moves: 9, ncost: 59011.231896157806\n",
      "Run: 1, iteration: 16/100, moves: 5, ncost: 59010.89820499589\n",
      "Run: 1, iteration: 17/100, moves: 4, ncost: 59010.81024659325\n",
      "Run: 1, iteration: 18/100, moves: 1, ncost: 59010.7986268883\n",
      "Run: 1, iteration: 19/100, moves: 0, ncost: 59010.7986268883\n",
      "Init: initializing centroids\n",
      "Init: initializing clusters\n",
      "Init: initializing centroids\n",
      "Init: initializing clusters\n",
      "Init: initializing centroids\n",
      "Init: initializing clusters\n",
      "Init: initializing centroids\n",
      "Init: initializing clusters\n",
      "Starting iterations...\n",
      "Run: 1, iteration: 1/100, moves: 2312, ncost: 62628.60160020175\n",
      "Run: 1, iteration: 2/100, moves: 1048, ncost: 59083.83757351287\n",
      "Run: 1, iteration: 3/100, moves: 956, ncost: 57275.22896783258\n",
      "Run: 1, iteration: 4/100, moves: 665, ncost: 56311.04515839424\n",
      "Run: 1, iteration: 5/100, moves: 449, ncost: 55572.15543310285\n",
      "Run: 1, iteration: 6/100, moves: 454, ncost: 54625.87995708888\n",
      "Run: 1, iteration: 7/100, moves: 428, ncost: 53871.76452190236\n",
      "Run: 1, iteration: 8/100, moves: 340, ncost: 53371.82482003118\n",
      "Run: 1, iteration: 9/100, moves: 333, ncost: 52670.95700500521\n",
      "Run: 1, iteration: 10/100, moves: 501, ncost: 50456.55446559956\n",
      "Run: 1, iteration: 11/100, moves: 483, ncost: 48920.82978147749\n",
      "Run: 1, iteration: 12/100, moves: 230, ncost: 48263.618565039986\n",
      "Run: 1, iteration: 13/100, moves: 133, ncost: 47789.470449269844\n",
      "Run: 1, iteration: 14/100, moves: 125, ncost: 47717.135021787995\n",
      "Run: 1, iteration: 15/100, moves: 64, ncost: 47681.4929767669\n",
      "Run: 1, iteration: 16/100, moves: 44, ncost: 47677.68188640215\n",
      "Run: 1, iteration: 17/100, moves: 21, ncost: 47676.673413681434\n",
      "Run: 1, iteration: 18/100, moves: 14, ncost: 47676.25305777629\n",
      "Run: 1, iteration: 19/100, moves: 10, ncost: 47675.75512086126\n",
      "Run: 1, iteration: 20/100, moves: 2, ncost: 47675.72208405789\n",
      "Run: 1, iteration: 21/100, moves: 2, ncost: 47675.708623887695\n",
      "Run: 1, iteration: 22/100, moves: 0, ncost: 47675.708623887695\n"
     ]
    }
   ],
   "source": [
    "meandist=[]\n",
    "clusters = range(1,10)\n",
    "\n",
    "for k in clusters:\n",
    "    model = KPrototypes(n_clusters=k, init='Huang', n_init=1, verbose=2)\n",
    "    model_fit = model.fit(X, categorical = indCatColumns)\n",
    "    clusassign= model_fit.predict(X, categorical = indCatColumns)\n",
    "    centroids = list()\n",
    "    for i in range(k):\n",
    "        centroids.append(list())\n",
    "        centroids[i] = np.append(model_fit.cluster_centroids_[0][i], model_fit.cluster_centroids_[1][i])\n",
    "    meandist.append(sum(np.min(cdist(X,centroids, metric=lambda X,Y: distance_dissim(X,Y,gamma = model_fit.gamma,categorical = indCatColumns)),axis=1))/listingsCluster.shape[0])"
   ]
  },
  {
   "cell_type": "code",
   "execution_count": 31,
   "metadata": {},
   "outputs": [
    {
     "data": {
      "image/png": "[encoded data removed]",
      "text/plain": [
       "<matplotlib.figure.Figure at 0x7fbb56274748>"
      ]
     },
     "metadata": {},
     "output_type": "display_data"
    }
   ],
   "source": [
    "plt.plot(clusters,meandist)\n",
    "plt.xlabel(\"Number of clusters\")\n",
    "plt.ylabel(\"Average distance\")\n",
    "plt.title(\"Selecting k with the Elbow method\")\n",
    "plt.show()"
   ]
  },
  {
   "cell_type": "code",
   "execution_count": 32,
   "metadata": {},
   "outputs": [],
   "source": [
    "#According to the Elbow method, we could consider 3 clusters and maybe 6 clusters"
   ]
  },
  {
   "cell_type": "code",
   "execution_count": 99,
   "metadata": {},
   "outputs": [
    {
     "name": "stdout",
     "output_type": "stream",
     "text": [
      "Init: initializing centroids\n",
      "Init: initializing clusters\n",
      "Starting iterations...\n",
      "Run: 1, iteration: 1/100, moves: 1982, ncost: 39821.58290888937\n",
      "Run: 1, iteration: 2/100, moves: 375, ncost: 39658.150024326154\n",
      "Run: 1, iteration: 3/100, moves: 48, ncost: 39653.97510473101\n",
      "Run: 1, iteration: 4/100, moves: 12, ncost: 39653.55410031829\n",
      "Run: 1, iteration: 5/100, moves: 33, ncost: 39651.41610264899\n",
      "Run: 1, iteration: 6/100, moves: 38, ncost: 39648.949798081296\n",
      "Run: 1, iteration: 7/100, moves: 29, ncost: 39647.83695152397\n",
      "Run: 1, iteration: 8/100, moves: 8, ncost: 39647.75179591094\n",
      "Run: 1, iteration: 9/100, moves: 1, ncost: 39647.749533925635\n",
      "Run: 1, iteration: 10/100, moves: 0, ncost: 39647.749533925635\n"
     ]
    }
   ],
   "source": [
    "model3 = KPrototypes(n_clusters=3, init='Huang', n_init=1, verbose=2)\n",
    "model_fit3 = model3.fit(X, categorical = indCatColumns)\n",
    "clusassign3= model_fit3.predict(X, categorical = indCatColumns)\n",
    "listings['Cluster3'] = model_fit3.labels_"
   ]
  },
  {
   "cell_type": "code",
   "execution_count": 100,
   "metadata": {},
   "outputs": [
    {
     "name": "stdout",
     "output_type": "stream",
     "text": [
      "Init: initializing centroids\n",
      "Init: initializing clusters\n",
      "Starting iterations...\n",
      "Run: 1, iteration: 1/100, moves: 2687, ncost: 32937.074516264365\n",
      "Run: 1, iteration: 2/100, moves: 1320, ncost: 31588.327330173477\n",
      "Run: 1, iteration: 3/100, moves: 1028, ncost: 30319.82580538274\n",
      "Run: 1, iteration: 4/100, moves: 652, ncost: 30018.682532991686\n",
      "Run: 1, iteration: 5/100, moves: 355, ncost: 29861.91272716813\n",
      "Run: 1, iteration: 6/100, moves: 361, ncost: 29577.164404599996\n",
      "Run: 1, iteration: 7/100, moves: 214, ncost: 29415.6227960417\n",
      "Run: 1, iteration: 8/100, moves: 109, ncost: 29376.411366951903\n",
      "Run: 1, iteration: 9/100, moves: 33, ncost: 29371.012102672492\n",
      "Run: 1, iteration: 10/100, moves: 7, ncost: 29370.83281631107\n",
      "Run: 1, iteration: 11/100, moves: 0, ncost: 29370.83281631107\n"
     ]
    }
   ],
   "source": [
    "model6 = KPrototypes(n_clusters=6, init='Huang', n_init=1, verbose=2)\n",
    "model_fit6 = model6.fit(X, categorical = indCatColumns)\n",
    "clusassign6= model_fit6.predict(X, categorical = indCatColumns)\n",
    "listings['Cluster6'] = model_fit6.labels_"
   ]
  },
  {
   "cell_type": "code",
   "execution_count": 35,
   "metadata": {},
   "outputs": [
    {
     "name": "stdout",
     "output_type": "stream",
     "text": [
      "0.35661259080709107\n"
     ]
    }
   ],
   "source": [
    "labels = model_fit3.labels_\n",
    "gamma = model_fit3.gamma\n",
    "Silhoutte3 = silhouette_score(X, labels, metric= lambda X,Y: distance_dissim(X,Y,gamma = gamma,categorical = indCatColumns))\n",
    "print(Silhoutte3)"
   ]
  },
  {
   "cell_type": "code",
   "execution_count": 36,
   "metadata": {},
   "outputs": [
    {
     "name": "stdout",
     "output_type": "stream",
     "text": [
      "0.2904819384248237\n"
     ]
    }
   ],
   "source": [
    "labels = model_fit6.labels_\n",
    "gamma = model_fit6.gamma\n",
    "Silhoutte6 = silhouette_score(X, labels, metric= lambda X,Y: distance_dissim(X,Y,gamma = gamma,categorical = indCatColumns))\n",
    "print(Silhoutte6)"
   ]
  },
  {
   "cell_type": "code",
   "execution_count": 19,
   "metadata": {},
   "outputs": [],
   "source": [
    "#The Silhoutte coefficient should be close to 1 if there is a good split between clusters, so it doesn't seem these are good cluster\n",
    "#Even though, we test the stability of the clusters recalculating them with K=3 (highest coefficient)"
   ]
  },
  {
   "cell_type": "code",
   "execution_count": 21,
   "metadata": {},
   "outputs": [],
   "source": [
    "centroids = model_fit3.cluster_centroids_[0]\n",
    "centroids_PCA = PCA(n_components=2).fit_transform(centroids)"
   ]
  },
  {
   "cell_type": "code",
   "execution_count": 22,
   "metadata": {},
   "outputs": [],
   "source": [
    "x_coord=list()\n",
    "y_coord=list()\n",
    "x_coord.append(list())\n",
    "y_coord.append(list())\n",
    "for i in range(0,3):\n",
    "    x_coord[0].append(centroids_PCA[i][0])\n",
    "    y_coord[0].append(centroids_PCA[i][1])"
   ]
  },
  {
   "cell_type": "code",
   "execution_count": 24,
   "metadata": {},
   "outputs": [],
   "source": [
    "for k in range(1,10):\n",
    "    model = KPrototypes(n_clusters=3, init='Huang', n_init=1, verbose=False)\n",
    "    model_fit = model.fit(X, categorical = indCatColumns)\n",
    "    centroids = model_fit.cluster_centroids_[0]\n",
    "    centroids_PCA = PCA(n_components=2).fit_transform(centroids)\n",
    "    x_coord.append(list())\n",
    "    y_coord.append(list())\n",
    "    for i in range(0,3):\n",
    "        x_coord[k].append(centroids_PCA[i][0])\n",
    "        y_coord[k].append(centroids_PCA[i][1])"
   ]
  },
  {
   "cell_type": "code",
   "execution_count": 43,
   "metadata": {
    "scrolled": true
   },
   "outputs": [
    {
     "data": {
      "image/png": "[encoded data removed]",
      "text/plain": [
       "<matplotlib.figure.Figure at 0x7f86edae1cf8>"
      ]
     },
     "metadata": {},
     "output_type": "display_data"
    }
   ],
   "source": [
    "plt.plot(x_coord[0],y_coord[0], 'ro',x_coord[1],y_coord[1], 'bo', x_coord[2],y_coord[2], 'yo', x_coord[3],y_coord[3], 'go', x_coord[4],y_coord[4], 'co', x_coord[5],y_coord[5], 'mo', x_coord[6],y_coord[6], 'ro', x_coord[7],y_coord[7], 'bo', x_coord[8],y_coord[8], 'go', x_coord[9],y_coord[9], 'go')\n",
    "plt.show()"
   ]
  },
  {
   "cell_type": "code",
   "execution_count": 25,
   "metadata": {},
   "outputs": [
    {
     "data": {
      "text/plain": [
       "[[18.774651686823727, -3.9548375392030937, -14.819814147620635],\n",
       " [-14.81981414762065, -3.9548375392031, 18.774651686823752],\n",
       " [-3.9548375392030852, -14.819814147620626, 18.774651686823724],\n",
       " [-3.9548375392030914, -14.81981414762063, 18.77465168682372],\n",
       " [-14.819814147620582, 18.774651686823603, -3.95483753920303],\n",
       " [18.774651686823724, -3.9548375392030897, -14.81981414762064],\n",
       " [18.77465168682372, -14.819814147620628, -3.9548375392030946],\n",
       " [-3.9548375392030866, 18.77465168682372, -14.819814147620637],\n",
       " [18.774651686823734, -3.954837539203088, -14.819814147620642],\n",
       " [-14.819814147620656, 18.774651686823738, -3.9548375392030963]]"
      ]
     },
     "execution_count": 25,
     "metadata": {},
     "output_type": "execute_result"
    }
   ],
   "source": [
    "x_coord"
   ]
  },
  {
   "cell_type": "code",
   "execution_count": null,
   "metadata": {},
   "outputs": [],
   "source": [
    "#We can see that although the Silhouette coefficient is not high, the cluster centroids are stable \n",
    "#(at lest on the numerical variables),as we get almost the same ones after running the algorithm multiple times"
   ]
  },
  {
   "cell_type": "code",
   "execution_count": 102,
   "metadata": {},
   "outputs": [
    {
     "data": {
      "image/png": "[encoded data removed]",
      "text/plain": [
       "<matplotlib.figure.Figure at 0x7f86e5d7c668>"
      ]
     },
     "metadata": {},
     "output_type": "display_data"
    }
   ],
   "source": [
    "plt.scatter(listings['latitude'], listings['longitude'], c = model_fit6.labels_.astype(np.float))\n",
    "plt.show()"
   ]
  },
  {
   "cell_type": "code",
   "execution_count": null,
   "metadata": {},
   "outputs": [],
   "source": []
  }
 ],
 "metadata": {
  "kernelspec": {
   "display_name": "Python 3",
   "language": "python",
   "name": "python3"
  },
  "language_info": {
   "codemirror_mode": {
    "name": "ipython",
    "version": 3
   },
   "file_extension": ".py",
   "mimetype": "text/x-python",
   "name": "python",
   "nbconvert_exporter": "python",
   "pygments_lexer": "ipython3",
   "version": "3.5.4"
  }
 },
 "nbformat": 4,
 "nbformat_minor": 2
}
