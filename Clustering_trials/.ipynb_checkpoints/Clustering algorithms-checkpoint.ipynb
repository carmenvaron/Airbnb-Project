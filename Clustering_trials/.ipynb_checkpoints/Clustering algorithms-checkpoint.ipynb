{
 "cells": [
  {
   "cell_type": "markdown",
   "metadata": {},
   "source": [
    "# Preparing data for clustering"
   ]
  },
  {
   "cell_type": "code",
   "execution_count": 3,
   "metadata": {},
   "outputs": [],
   "source": [
    "%matplotlib inline\n",
    "import matplotlib.pyplot as plt\n",
    "import numpy as np\n",
    "import pandas as pd\n",
    "import io\n",
    "import os\n",
    "import math\n",
    "from sklearn.metrics import silhouette_samples,silhouette_score\n",
    "from sklearn import preprocessing\n",
    "from scipy.spatial import distance\n",
    "from scipy.spatial.distance import cdist\n",
    "import random \n",
    "random.seed(33)"
   ]
  },
  {
   "cell_type": "code",
   "execution_count": 4,
   "metadata": {},
   "outputs": [],
   "source": [
    "listings = pd.read_csv('./Data/listings_clean.csv', index_col=0)"
   ]
  },
  {
   "cell_type": "code",
   "execution_count": 5,
   "metadata": {},
   "outputs": [],
   "source": [
    "numerical_features = ['latitude', 'longitude', 'accommodates', 'bathrooms','bedrooms', 'beds']"
   ]
  },
  {
   "cell_type": "code",
   "execution_count": 6,
   "metadata": {},
   "outputs": [],
   "source": [
    "reviewScoresColums = listings.filter(regex='review_scores.*').columns\n",
    "numerical_features.extend(reviewScoresColums)"
   ]
  },
  {
   "cell_type": "code",
   "execution_count": 7,
   "metadata": {},
   "outputs": [],
   "source": [
    "boolean_features = ['instant_bookable', 'is_business_travel_ready']"
   ]
  },
  {
   "cell_type": "code",
   "execution_count": 8,
   "metadata": {},
   "outputs": [],
   "source": [
    "AmenColums = listings.filter(regex='Amen_.*').columns\n",
    "boolean_features.extend(AmenColums)"
   ]
  },
  {
   "cell_type": "code",
   "execution_count": 9,
   "metadata": {},
   "outputs": [],
   "source": [
    "categorical_features = ['neighbourhood_cleansed', 'property_type', 'bed_type']\n",
    "listings_categorical = pd.get_dummies(listings[categorical_features], columns=categorical_features, \n",
    "                            prefix=[\"Neigh\", \"Property\", \"Bed\"])"
   ]
  },
  {
   "cell_type": "code",
   "execution_count": 10,
   "metadata": {},
   "outputs": [],
   "source": [
    "listingsCluster = pd.concat([listings[numerical_features],listings[categorical_features],listings[boolean_features]], axis=1)"
   ]
  },
  {
   "cell_type": "code",
   "execution_count": 11,
   "metadata": {},
   "outputs": [],
   "source": [
    "listingsCluster[boolean_features]=listingsCluster[boolean_features]"
   ]
  },
  {
   "cell_type": "code",
   "execution_count": 12,
   "metadata": {},
   "outputs": [],
   "source": [
    "to_categorical = categorical_features + boolean_features\n",
    "indCatColumns = [listingsCluster.columns.get_loc(col) for col in to_categorical]"
   ]
  },
  {
   "cell_type": "code",
   "execution_count": 13,
   "metadata": {},
   "outputs": [],
   "source": [
    "from sklearn.preprocessing import RobustScaler\n",
    "RS = RobustScaler()"
   ]
  },
  {
   "cell_type": "code",
   "execution_count": 14,
   "metadata": {},
   "outputs": [
    {
     "data": {
      "text/html": [
       "<div>\n",
       "<style scoped>\n",
       "    .dataframe tbody tr th:only-of-type {\n",
       "        vertical-align: middle;\n",
       "    }\n",
       "\n",
       "    .dataframe tbody tr th {\n",
       "        vertical-align: top;\n",
       "    }\n",
       "\n",
       "    .dataframe thead th {\n",
       "        text-align: right;\n",
       "    }\n",
       "</style>\n",
       "<table border=\"1\" class=\"dataframe\">\n",
       "  <thead>\n",
       "    <tr style=\"text-align: right;\">\n",
       "      <th></th>\n",
       "      <th>latitude</th>\n",
       "      <th>longitude</th>\n",
       "      <th>accommodates</th>\n",
       "      <th>bathrooms</th>\n",
       "      <th>bedrooms</th>\n",
       "      <th>beds</th>\n",
       "      <th>review_scores_rating</th>\n",
       "      <th>review_scores_accuracy</th>\n",
       "      <th>review_scores_cleanliness</th>\n",
       "      <th>review_scores_checkin</th>\n",
       "      <th>...</th>\n",
       "      <th>Amen_Waterfront</th>\n",
       "      <th>Amen_Well-lit path to entrance</th>\n",
       "      <th>Amen_Wheelchair accessible</th>\n",
       "      <th>Amen_Wide clearance to bed</th>\n",
       "      <th>Amen_Wide clearance to shower</th>\n",
       "      <th>Amen_Wide doorway</th>\n",
       "      <th>Amen_Wide entryway</th>\n",
       "      <th>Amen_Wide hallway clearance</th>\n",
       "      <th>Amen_Window guards</th>\n",
       "      <th>Amen_Wireless Internet</th>\n",
       "    </tr>\n",
       "    <tr>\n",
       "      <th>id</th>\n",
       "      <th></th>\n",
       "      <th></th>\n",
       "      <th></th>\n",
       "      <th></th>\n",
       "      <th></th>\n",
       "      <th></th>\n",
       "      <th></th>\n",
       "      <th></th>\n",
       "      <th></th>\n",
       "      <th></th>\n",
       "      <th></th>\n",
       "      <th></th>\n",
       "      <th></th>\n",
       "      <th></th>\n",
       "      <th></th>\n",
       "      <th></th>\n",
       "      <th></th>\n",
       "      <th></th>\n",
       "      <th></th>\n",
       "      <th></th>\n",
       "      <th></th>\n",
       "    </tr>\n",
       "  </thead>\n",
       "  <tbody>\n",
       "    <tr>\n",
       "      <th>18628</th>\n",
       "      <td>0.466350</td>\n",
       "      <td>0.293560</td>\n",
       "      <td>-1.0</td>\n",
       "      <td>0.0</td>\n",
       "      <td>-1.0</td>\n",
       "      <td>-0.5</td>\n",
       "      <td>-0.625</td>\n",
       "      <td>-1.0</td>\n",
       "      <td>-1.0</td>\n",
       "      <td>-1.0</td>\n",
       "      <td>...</td>\n",
       "      <td>0</td>\n",
       "      <td>1</td>\n",
       "      <td>0</td>\n",
       "      <td>0</td>\n",
       "      <td>0</td>\n",
       "      <td>0</td>\n",
       "      <td>0</td>\n",
       "      <td>0</td>\n",
       "      <td>0</td>\n",
       "      <td>1</td>\n",
       "    </tr>\n",
       "    <tr>\n",
       "      <th>19864</th>\n",
       "      <td>-0.297475</td>\n",
       "      <td>-0.445500</td>\n",
       "      <td>-1.0</td>\n",
       "      <td>0.0</td>\n",
       "      <td>-1.0</td>\n",
       "      <td>-0.5</td>\n",
       "      <td>-0.375</td>\n",
       "      <td>-1.0</td>\n",
       "      <td>-1.0</td>\n",
       "      <td>0.0</td>\n",
       "      <td>...</td>\n",
       "      <td>0</td>\n",
       "      <td>0</td>\n",
       "      <td>0</td>\n",
       "      <td>0</td>\n",
       "      <td>0</td>\n",
       "      <td>0</td>\n",
       "      <td>0</td>\n",
       "      <td>0</td>\n",
       "      <td>0</td>\n",
       "      <td>1</td>\n",
       "    </tr>\n",
       "    <tr>\n",
       "      <th>21512</th>\n",
       "      <td>0.480205</td>\n",
       "      <td>-1.041027</td>\n",
       "      <td>-1.0</td>\n",
       "      <td>0.0</td>\n",
       "      <td>-1.0</td>\n",
       "      <td>-0.5</td>\n",
       "      <td>-1.875</td>\n",
       "      <td>-1.0</td>\n",
       "      <td>-2.0</td>\n",
       "      <td>-1.0</td>\n",
       "      <td>...</td>\n",
       "      <td>0</td>\n",
       "      <td>0</td>\n",
       "      <td>1</td>\n",
       "      <td>0</td>\n",
       "      <td>0</td>\n",
       "      <td>0</td>\n",
       "      <td>0</td>\n",
       "      <td>0</td>\n",
       "      <td>0</td>\n",
       "      <td>1</td>\n",
       "    </tr>\n",
       "    <tr>\n",
       "      <th>23021</th>\n",
       "      <td>0.378545</td>\n",
       "      <td>-0.951813</td>\n",
       "      <td>3.0</td>\n",
       "      <td>2.0</td>\n",
       "      <td>3.0</td>\n",
       "      <td>1.5</td>\n",
       "      <td>-1.750</td>\n",
       "      <td>-2.0</td>\n",
       "      <td>-2.0</td>\n",
       "      <td>-1.0</td>\n",
       "      <td>...</td>\n",
       "      <td>0</td>\n",
       "      <td>0</td>\n",
       "      <td>1</td>\n",
       "      <td>0</td>\n",
       "      <td>0</td>\n",
       "      <td>0</td>\n",
       "      <td>0</td>\n",
       "      <td>0</td>\n",
       "      <td>0</td>\n",
       "      <td>1</td>\n",
       "    </tr>\n",
       "    <tr>\n",
       "      <th>24805</th>\n",
       "      <td>0.284240</td>\n",
       "      <td>-0.185544</td>\n",
       "      <td>-0.5</td>\n",
       "      <td>0.0</td>\n",
       "      <td>-1.0</td>\n",
       "      <td>0.0</td>\n",
       "      <td>0.750</td>\n",
       "      <td>-2.0</td>\n",
       "      <td>-2.0</td>\n",
       "      <td>0.0</td>\n",
       "      <td>...</td>\n",
       "      <td>0</td>\n",
       "      <td>0</td>\n",
       "      <td>0</td>\n",
       "      <td>0</td>\n",
       "      <td>0</td>\n",
       "      <td>0</td>\n",
       "      <td>0</td>\n",
       "      <td>0</td>\n",
       "      <td>0</td>\n",
       "      <td>1</td>\n",
       "    </tr>\n",
       "  </tbody>\n",
       "</table>\n",
       "<p>5 rows × 129 columns</p>\n",
       "</div>"
      ],
      "text/plain": [
       "       latitude  longitude  accommodates  bathrooms  bedrooms  beds  \\\n",
       "id                                                                    \n",
       "18628  0.466350   0.293560          -1.0        0.0      -1.0  -0.5   \n",
       "19864 -0.297475  -0.445500          -1.0        0.0      -1.0  -0.5   \n",
       "21512  0.480205  -1.041027          -1.0        0.0      -1.0  -0.5   \n",
       "23021  0.378545  -0.951813           3.0        2.0       3.0   1.5   \n",
       "24805  0.284240  -0.185544          -0.5        0.0      -1.0   0.0   \n",
       "\n",
       "       review_scores_rating  review_scores_accuracy  \\\n",
       "id                                                    \n",
       "18628                -0.625                    -1.0   \n",
       "19864                -0.375                    -1.0   \n",
       "21512                -1.875                    -1.0   \n",
       "23021                -1.750                    -2.0   \n",
       "24805                 0.750                    -2.0   \n",
       "\n",
       "       review_scores_cleanliness  review_scores_checkin  \\\n",
       "id                                                        \n",
       "18628                       -1.0                   -1.0   \n",
       "19864                       -1.0                    0.0   \n",
       "21512                       -2.0                   -1.0   \n",
       "23021                       -2.0                   -1.0   \n",
       "24805                       -2.0                    0.0   \n",
       "\n",
       "                ...            Amen_Waterfront  \\\n",
       "id              ...                              \n",
       "18628           ...                          0   \n",
       "19864           ...                          0   \n",
       "21512           ...                          0   \n",
       "23021           ...                          0   \n",
       "24805           ...                          0   \n",
       "\n",
       "       Amen_Well-lit path to entrance  Amen_Wheelchair accessible  \\\n",
       "id                                                                  \n",
       "18628                               1                           0   \n",
       "19864                               0                           0   \n",
       "21512                               0                           1   \n",
       "23021                               0                           1   \n",
       "24805                               0                           0   \n",
       "\n",
       "      Amen_Wide clearance to bed Amen_Wide clearance to shower  \\\n",
       "id                                                               \n",
       "18628                          0                             0   \n",
       "19864                          0                             0   \n",
       "21512                          0                             0   \n",
       "23021                          0                             0   \n",
       "24805                          0                             0   \n",
       "\n",
       "      Amen_Wide doorway  Amen_Wide entryway  Amen_Wide hallway clearance  \\\n",
       "id                                                                         \n",
       "18628                 0                   0                            0   \n",
       "19864                 0                   0                            0   \n",
       "21512                 0                   0                            0   \n",
       "23021                 0                   0                            0   \n",
       "24805                 0                   0                            0   \n",
       "\n",
       "       Amen_Window guards  Amen_Wireless Internet  \n",
       "id                                                 \n",
       "18628                   0                       1  \n",
       "19864                   0                       1  \n",
       "21512                   0                       1  \n",
       "23021                   0                       1  \n",
       "24805                   0                       1  \n",
       "\n",
       "[5 rows x 129 columns]"
      ]
     },
     "execution_count": 14,
     "metadata": {},
     "output_type": "execute_result"
    }
   ],
   "source": [
    "listingsCluster[numerical_features] = RS.fit_transform(listingsCluster[numerical_features])\n",
    "listingsCluster.head()"
   ]
  },
  {
   "cell_type": "code",
   "execution_count": 18,
   "metadata": {},
   "outputs": [
    {
     "name": "stdout",
     "output_type": "stream",
     "text": [
      "Requirement already up-to-date: kmodes in /home/dsc/anaconda3/lib/python3.5/site-packages\n",
      "Collecting numpy>=1.10.4 (from kmodes)\n",
      "  Downloading https://files.pythonhosted.org/packages/7b/61/11b05cc37ccdaabad89f04dbdc2a02905cf6de6f9b05816dba843beed328/numpy-1.14.3-cp35-cp35m-manylinux1_x86_64.whl (12.1MB)\n",
      "\u001b[K    100% |████████████████████████████████| 12.1MB 27kB/s  eta 0:00:01   62% |████████████████████            | 7.6MB 9.3MB/s eta 0:00:01\n",
      "\u001b[?25hRequirement already up-to-date: scikit-learn<0.20.0,>=0.19.0 in /home/dsc/anaconda3/lib/python3.5/site-packages (from kmodes)\n",
      "Collecting scipy>=0.13.3 (from kmodes)\n",
      "  Downloading https://files.pythonhosted.org/packages/51/3d/494e1a81121c12233cb2f511e31b0dae3944008c81bbfa0218ec2d0038a8/scipy-1.0.1-cp35-cp35m-manylinux1_x86_64.whl (49.6MB)\n",
      "\u001b[K    100% |████████████████████████████████| 49.7MB 5.7kB/s eta 0:00:01  5% |█▊                              | 2.6MB 9.2MB/s eta 0:00:06    35% |███████████▍                    | 17.6MB 19.6MB/s eta 0:00:02    49% |███████████████▉                | 24.6MB 11.2MB/s eta 0:00:03    60% |███████████████████▌            | 30.2MB 18.1MB/s eta 0:00:02    72% |███████████████████████         | 35.8MB 12.0MB/s eta 0:00:02\n",
      "\u001b[?25hInstalling collected packages: numpy, scipy\n",
      "  Found existing installation: numpy 1.14.0\n",
      "    Uninstalling numpy-1.14.0:\n",
      "      Successfully uninstalled numpy-1.14.0\n",
      "  Found existing installation: scipy 1.0.0\n",
      "    Uninstalling scipy-1.0.0:\n",
      "      Successfully uninstalled scipy-1.0.0\n",
      "Successfully installed numpy-1.14.3 scipy-1.0.1\n",
      "\u001b[33mYou are using pip version 9.0.2, however version 10.0.1 is available.\n",
      "You should consider upgrading via the 'pip install --upgrade pip' command.\u001b[0m\n"
     ]
    }
   ],
   "source": [
    "! pip install --upgrade kmodes"
   ]
  },
  {
   "cell_type": "code",
   "execution_count": 19,
   "metadata": {},
   "outputs": [
    {
     "name": "stdout",
     "output_type": "stream",
     "text": [
      "Collecting pip\n",
      "  Downloading https://files.pythonhosted.org/packages/0f/74/ecd13431bcc456ed390b44c8a6e917c1820365cbebcb6a8974d1cd045ab4/pip-10.0.1-py2.py3-none-any.whl (1.3MB)\n",
      "\u001b[K    100% |████████████████████████████████| 1.3MB 217kB/s ta 0:00:011\n",
      "\u001b[?25hInstalling collected packages: pip\n",
      "  Found existing installation: pip 9.0.2\n",
      "    Uninstalling pip-9.0.2:\n",
      "      Successfully uninstalled pip-9.0.2\n",
      "Successfully installed pip-10.0.1\n"
     ]
    }
   ],
   "source": [
    "! pip install --upgrade pip"
   ]
  },
  {
   "cell_type": "code",
   "execution_count": 15,
   "metadata": {},
   "outputs": [],
   "source": [
    "from kmodes.kprototypes import KPrototypes"
   ]
  },
  {
   "cell_type": "code",
   "execution_count": 16,
   "metadata": {},
   "outputs": [],
   "source": [
    "for cat_col in categorical_features:\n",
    "    listingsCluster[cat_col] = preprocessing.LabelEncoder().fit_transform(listingsCluster[cat_col])\n",
    "    \n",
    "X = listingsCluster.values"
   ]
  },
  {
   "cell_type": "code",
   "execution_count": 17,
   "metadata": {},
   "outputs": [],
   "source": [
    "def distance_dissim(X,Y,gamma,categorical):\n",
    "    no_categorical = [i for i in range(len(X)) if i not in categorical]\n",
    "    Xnum = np.asanyarray([X[ii] for ii in no_categorical]).astype(np.float64)\n",
    "    Ynum = np.asanyarray([Y[ii] for ii in no_categorical]).astype(np.float64)\n",
    "    Xcat = np.asanyarray([X[ii] for ii in categorical])\n",
    "    Ycat = np.asanyarray([Y[ii] for ii in categorical])\n",
    "    \n",
    "    distance_dissim = distance.euclidean(Xnum, Ynum) + gamma * np.sum(Xcat != Ycat)\n",
    "    \n",
    "    return distance_dissim"
   ]
  },
  {
   "cell_type": "code",
   "execution_count": 95,
   "metadata": {},
   "outputs": [
    {
     "name": "stdout",
     "output_type": "stream",
     "text": [
      "Init: initializing centroids\n",
      "Init: initializing clusters\n",
      "Starting iterations...\n",
      "Run: 1, iteration: 1/100, moves: 0, ncost: 156291.0399360084\n",
      "Init: initializing centroids\n",
      "Init: initializing clusters\n",
      "Starting iterations...\n",
      "Run: 1, iteration: 1/100, moves: 1221, ncost: 139925.29568103992\n",
      "Run: 1, iteration: 2/100, moves: 499, ncost: 139485.66612405892\n",
      "Run: 1, iteration: 3/100, moves: 277, ncost: 139329.47548990216\n",
      "Run: 1, iteration: 4/100, moves: 149, ncost: 139222.676274198\n",
      "Run: 1, iteration: 5/100, moves: 106, ncost: 139185.54226310723\n",
      "Run: 1, iteration: 6/100, moves: 53, ncost: 139167.62525825828\n",
      "Run: 1, iteration: 7/100, moves: 45, ncost: 139153.93820449398\n",
      "Run: 1, iteration: 8/100, moves: 31, ncost: 139148.27410588006\n",
      "Run: 1, iteration: 9/100, moves: 18, ncost: 139145.21135670328\n",
      "Run: 1, iteration: 10/100, moves: 24, ncost: 139139.8941654597\n",
      "Run: 1, iteration: 11/100, moves: 26, ncost: 139131.55928837543\n",
      "Run: 1, iteration: 12/100, moves: 37, ncost: 139118.80045867912\n",
      "Run: 1, iteration: 13/100, moves: 32, ncost: 139107.46703652863\n",
      "Run: 1, iteration: 14/100, moves: 26, ncost: 139098.16089068181\n",
      "Run: 1, iteration: 15/100, moves: 34, ncost: 139077.77673076806\n",
      "Run: 1, iteration: 16/100, moves: 33, ncost: 139055.48850271563\n",
      "Run: 1, iteration: 17/100, moves: 38, ncost: 139042.72217944587\n",
      "Run: 1, iteration: 18/100, moves: 18, ncost: 139033.6574409812\n",
      "Run: 1, iteration: 19/100, moves: 59, ncost: 138978.93402871263\n",
      "Run: 1, iteration: 20/100, moves: 83, ncost: 138805.18698501764\n",
      "Run: 1, iteration: 21/100, moves: 72, ncost: 138678.05128328234\n",
      "Run: 1, iteration: 22/100, moves: 58, ncost: 138633.95509100473\n",
      "Run: 1, iteration: 23/100, moves: 34, ncost: 138623.36438107293\n",
      "Run: 1, iteration: 24/100, moves: 9, ncost: 138622.45371478426\n",
      "Run: 1, iteration: 25/100, moves: 4, ncost: 138622.2546549312\n",
      "Run: 1, iteration: 26/100, moves: 1, ncost: 138622.2322078882\n",
      "Run: 1, iteration: 27/100, moves: 0, ncost: 138622.2322078882\n",
      "Init: initializing centroids\n",
      "Init: initializing clusters\n",
      "Starting iterations...\n",
      "Run: 1, iteration: 1/100, moves: 1913, ncost: 125863.31823055139\n",
      "Run: 1, iteration: 2/100, moves: 536, ncost: 124898.05335074099\n",
      "Run: 1, iteration: 3/100, moves: 219, ncost: 124557.7734900061\n",
      "Run: 1, iteration: 4/100, moves: 111, ncost: 124456.46207943879\n",
      "Run: 1, iteration: 5/100, moves: 60, ncost: 124423.70410089652\n",
      "Run: 1, iteration: 6/100, moves: 42, ncost: 124405.3846320733\n",
      "Run: 1, iteration: 7/100, moves: 31, ncost: 124393.19557866392\n",
      "Run: 1, iteration: 8/100, moves: 16, ncost: 124389.00109191146\n",
      "Run: 1, iteration: 9/100, moves: 9, ncost: 124386.84681532254\n",
      "Run: 1, iteration: 10/100, moves: 10, ncost: 124384.69501940957\n",
      "Run: 1, iteration: 11/100, moves: 11, ncost: 124382.794587551\n",
      "Run: 1, iteration: 12/100, moves: 2, ncost: 124382.70577079762\n",
      "Run: 1, iteration: 13/100, moves: 0, ncost: 124382.70577079762\n",
      "Init: initializing centroids\n",
      "Init: initializing clusters\n",
      "Starting iterations...\n",
      "Run: 1, iteration: 1/100, moves: 3689, ncost: 117510.61294177453\n",
      "Run: 1, iteration: 2/100, moves: 1140, ncost: 115916.30524916308\n",
      "Run: 1, iteration: 3/100, moves: 504, ncost: 115226.78560233436\n",
      "Run: 1, iteration: 4/100, moves: 209, ncost: 115014.01002779162\n",
      "Run: 1, iteration: 5/100, moves: 118, ncost: 114908.69029030115\n",
      "Run: 1, iteration: 6/100, moves: 78, ncost: 114841.42312854502\n",
      "Run: 1, iteration: 7/100, moves: 34, ncost: 114826.55859560198\n",
      "Run: 1, iteration: 8/100, moves: 17, ncost: 114820.97085725419\n",
      "Run: 1, iteration: 9/100, moves: 8, ncost: 114819.76839705823\n",
      "Run: 1, iteration: 10/100, moves: 5, ncost: 114818.98663888706\n",
      "Run: 1, iteration: 11/100, moves: 3, ncost: 114818.55098220454\n",
      "Run: 1, iteration: 12/100, moves: 3, ncost: 114818.22698458674\n",
      "Run: 1, iteration: 13/100, moves: 1, ncost: 114818.17440390629\n",
      "Run: 1, iteration: 14/100, moves: 0, ncost: 114818.17440390629\n",
      "Init: initializing centroids\n",
      "Init: initializing clusters\n",
      "Starting iterations...\n",
      "Run: 1, iteration: 1/100, moves: 4211, ncost: 110390.42999100045\n",
      "Run: 1, iteration: 2/100, moves: 1006, ncost: 109050.54337223175\n",
      "Run: 1, iteration: 3/100, moves: 337, ncost: 108872.72895253824\n",
      "Run: 1, iteration: 4/100, moves: 116, ncost: 108847.61334938821\n",
      "Run: 1, iteration: 5/100, moves: 70, ncost: 108837.71553016613\n",
      "Run: 1, iteration: 6/100, moves: 55, ncost: 108831.50470362951\n",
      "Run: 1, iteration: 7/100, moves: 50, ncost: 108827.23400159772\n",
      "Run: 1, iteration: 8/100, moves: 41, ncost: 108824.21602913241\n",
      "Run: 1, iteration: 9/100, moves: 14, ncost: 108823.45582350525\n",
      "Run: 1, iteration: 10/100, moves: 13, ncost: 108823.15817011408\n",
      "Run: 1, iteration: 11/100, moves: 7, ncost: 108822.78499857707\n",
      "Run: 1, iteration: 12/100, moves: 7, ncost: 108821.31769400061\n",
      "Run: 1, iteration: 13/100, moves: 31, ncost: 108813.76550042747\n",
      "Run: 1, iteration: 14/100, moves: 185, ncost: 108715.74764710509\n",
      "Run: 1, iteration: 15/100, moves: 57, ncost: 108714.09209215312\n",
      "Run: 1, iteration: 16/100, moves: 12, ncost: 108713.92856001107\n",
      "Run: 1, iteration: 17/100, moves: 8, ncost: 108713.58466008025\n",
      "Run: 1, iteration: 18/100, moves: 3, ncost: 108713.55762087749\n",
      "Run: 1, iteration: 19/100, moves: 1, ncost: 108713.551693988\n",
      "Run: 1, iteration: 20/100, moves: 0, ncost: 108713.551693988\n",
      "Init: initializing centroids\n",
      "Init: initializing clusters\n",
      "Starting iterations...\n",
      "Run: 1, iteration: 1/100, moves: 1701, ncost: 110341.4070145572\n",
      "Run: 1, iteration: 2/100, moves: 647, ncost: 109183.89086620646\n",
      "Run: 1, iteration: 3/100, moves: 324, ncost: 108994.85015751637\n",
      "Run: 1, iteration: 4/100, moves: 264, ncost: 108694.76616788736\n",
      "Run: 1, iteration: 5/100, moves: 275, ncost: 108400.912548164\n",
      "Run: 1, iteration: 6/100, moves: 160, ncost: 108306.29072453115\n",
      "Run: 1, iteration: 7/100, moves: 72, ncost: 108277.24574780256\n",
      "Run: 1, iteration: 8/100, moves: 37, ncost: 108271.01987387029\n",
      "Run: 1, iteration: 9/100, moves: 23, ncost: 108269.1877918249\n",
      "Run: 1, iteration: 10/100, moves: 13, ncost: 108267.93225610387\n",
      "Run: 1, iteration: 11/100, moves: 4, ncost: 108267.80707807266\n",
      "Run: 1, iteration: 12/100, moves: 0, ncost: 108267.80707807266\n",
      "Init: initializing centroids\n",
      "Init: initializing clusters\n",
      "Starting iterations...\n",
      "Run: 1, iteration: 1/100, moves: 3499, ncost: 111658.56179329142\n",
      "Run: 1, iteration: 2/100, moves: 1693, ncost: 108288.39425139182\n",
      "Run: 1, iteration: 3/100, moves: 1110, ncost: 106753.72033337528\n",
      "Run: 1, iteration: 4/100, moves: 590, ncost: 106202.53855212349\n",
      "Run: 1, iteration: 5/100, moves: 328, ncost: 105929.79728714294\n",
      "Run: 1, iteration: 6/100, moves: 249, ncost: 105765.11363769922\n",
      "Run: 1, iteration: 7/100, moves: 241, ncost: 105550.31527419055\n",
      "Run: 1, iteration: 8/100, moves: 276, ncost: 105175.09719848356\n",
      "Run: 1, iteration: 9/100, moves: 203, ncost: 105012.35658775672\n",
      "Run: 1, iteration: 10/100, moves: 101, ncost: 104963.43143204405\n",
      "Run: 1, iteration: 11/100, moves: 56, ncost: 104948.80745780018\n",
      "Run: 1, iteration: 12/100, moves: 29, ncost: 104944.82160452014\n",
      "Run: 1, iteration: 13/100, moves: 15, ncost: 104943.96057396906\n",
      "Run: 1, iteration: 14/100, moves: 3, ncost: 104943.90265755341\n",
      "Run: 1, iteration: 15/100, moves: 0, ncost: 104943.90265755341\n",
      "Init: initializing centroids\n",
      "Init: initializing clusters\n",
      "Starting iterations...\n",
      "Run: 1, iteration: 1/100, moves: 4430, ncost: 104938.33698541186\n",
      "Run: 1, iteration: 2/100, moves: 1585, ncost: 101502.3783583067\n",
      "Run: 1, iteration: 3/100, moves: 676, ncost: 100481.97359124328\n",
      "Run: 1, iteration: 4/100, moves: 348, ncost: 100173.47653648222\n",
      "Run: 1, iteration: 5/100, moves: 175, ncost: 100104.57336194902\n",
      "Run: 1, iteration: 6/100, moves: 116, ncost: 100086.09117849862\n",
      "Run: 1, iteration: 7/100, moves: 63, ncost: 100074.50800721363\n",
      "Run: 1, iteration: 8/100, moves: 35, ncost: 100071.76935513323\n",
      "Run: 1, iteration: 9/100, moves: 14, ncost: 100071.38505729004\n",
      "Run: 1, iteration: 10/100, moves: 6, ncost: 100071.29950839715\n",
      "Run: 1, iteration: 11/100, moves: 12, ncost: 100070.881320219\n",
      "Run: 1, iteration: 12/100, moves: 8, ncost: 100070.79139469468\n",
      "Run: 1, iteration: 13/100, moves: 4, ncost: 100070.7696611069\n",
      "Run: 1, iteration: 14/100, moves: 2, ncost: 100070.76223605205\n",
      "Run: 1, iteration: 15/100, moves: 0, ncost: 100070.76223605205\n",
      "Init: initializing centroids\n",
      "Init: initializing clusters\n",
      "Starting iterations...\n",
      "Run: 1, iteration: 1/100, moves: 3950, ncost: 103083.38103520611\n"
     ]
    },
    {
     "name": "stdout",
     "output_type": "stream",
     "text": [
      "Run: 1, iteration: 2/100, moves: 1683, ncost: 100596.87453925617\n",
      "Run: 1, iteration: 3/100, moves: 505, ncost: 100010.03823966916\n",
      "Run: 1, iteration: 4/100, moves: 240, ncost: 99763.51646286533\n",
      "Run: 1, iteration: 5/100, moves: 187, ncost: 99705.10667500862\n",
      "Run: 1, iteration: 6/100, moves: 70, ncost: 99677.21367098746\n",
      "Run: 1, iteration: 7/100, moves: 87, ncost: 99649.21976370878\n",
      "Run: 1, iteration: 8/100, moves: 96, ncost: 99622.14516086581\n",
      "Run: 1, iteration: 9/100, moves: 115, ncost: 99586.66108507392\n",
      "Run: 1, iteration: 10/100, moves: 84, ncost: 99561.16939415444\n",
      "Run: 1, iteration: 11/100, moves: 93, ncost: 99530.67343614106\n",
      "Run: 1, iteration: 12/100, moves: 58, ncost: 99508.49509327557\n",
      "Run: 1, iteration: 13/100, moves: 90, ncost: 99442.05452337663\n",
      "Run: 1, iteration: 14/100, moves: 267, ncost: 98282.71077219375\n",
      "Run: 1, iteration: 15/100, moves: 803, ncost: 95749.73765980656\n",
      "Run: 1, iteration: 16/100, moves: 534, ncost: 95403.25194719208\n",
      "Run: 1, iteration: 17/100, moves: 171, ncost: 95372.23743308613\n",
      "Run: 1, iteration: 18/100, moves: 80, ncost: 95362.31741110388\n",
      "Run: 1, iteration: 19/100, moves: 83, ncost: 95347.30581243697\n",
      "Run: 1, iteration: 20/100, moves: 43, ncost: 95343.76275101432\n",
      "Run: 1, iteration: 21/100, moves: 16, ncost: 95343.1454890006\n",
      "Run: 1, iteration: 22/100, moves: 8, ncost: 95342.93285712524\n",
      "Run: 1, iteration: 23/100, moves: 2, ncost: 95342.91886375488\n",
      "Run: 1, iteration: 24/100, moves: 0, ncost: 95342.91886375488\n"
     ]
    }
   ],
   "source": [
    "meandist=[]\n",
    "clusters = range(1,10)\n",
    "\n",
    "for k in clusters:\n",
    "    model = KPrototypes(n_clusters=k, init='Huang', n_init=1, verbose=2)\n",
    "    model_fit = model.fit(X, categorical = indCatColumns)\n",
    "    clusassign= model_fit.predict(X, categorical = indCatColumns)\n",
    "    centroids = list()\n",
    "    for i in range(k):\n",
    "        centroids.append(list())\n",
    "        centroids[i] = np.append(model_fit.cluster_centroids_[0][i], model_fit.cluster_centroids_[1][i])\n",
    "    meandist.append(sum(np.min(cdist(X,centroids, metric=lambda X,Y: distance_dissim(X,Y,gamma = gamma,categorical = indCatColumns)),axis=1))/listingsCluster.shape[0])"
   ]
  },
  {
   "cell_type": "code",
   "execution_count": 96,
   "metadata": {},
   "outputs": [
    {
     "data": {
      "image/png": "[encoded data removed]",
      "text/plain": [
       "<matplotlib.figure.Figure at 0x7ff3c7e03f98>"
      ]
     },
     "metadata": {},
     "output_type": "display_data"
    }
   ],
   "source": [
    "plt.plot(clusters,meandist)\n",
    "plt.xlabel(\"Number of clusters\")\n",
    "plt.ylabel(\"Average distance\")\n",
    "plt.title(\"Selecting k with the Elbow method\")\n",
    "plt.show()"
   ]
  },
  {
   "cell_type": "code",
   "execution_count": null,
   "metadata": {},
   "outputs": [],
   "source": [
    "#According to the Elbow method, we could consider 5 clusters and maybe 9 clusters"
   ]
  },
  {
   "cell_type": "code",
   "execution_count": 102,
   "metadata": {},
   "outputs": [],
   "source": [
    "listings['Cluster9'] = model_fit.labels_"
   ]
  },
  {
   "cell_type": "code",
   "execution_count": 18,
   "metadata": {},
   "outputs": [
    {
     "name": "stdout",
     "output_type": "stream",
     "text": [
      "Init: initializing centroids\n",
      "Init: initializing clusters\n",
      "Starting iterations...\n",
      "Run: 1, iteration: 1/100, moves: 2017, ncost: 111693.33415873126\n",
      "Run: 1, iteration: 2/100, moves: 1480, ncost: 109485.1562259818\n",
      "Run: 1, iteration: 3/100, moves: 720, ncost: 108971.92134480539\n",
      "Run: 1, iteration: 4/100, moves: 429, ncost: 108784.7774215418\n",
      "Run: 1, iteration: 5/100, moves: 228, ncost: 108730.45510934215\n",
      "Run: 1, iteration: 6/100, moves: 113, ncost: 108719.73918550617\n",
      "Run: 1, iteration: 7/100, moves: 64, ncost: 108716.00918472542\n",
      "Run: 1, iteration: 8/100, moves: 20, ncost: 108714.1876668095\n",
      "Run: 1, iteration: 9/100, moves: 9, ncost: 108712.06272762883\n",
      "Run: 1, iteration: 10/100, moves: 3, ncost: 108711.8888854139\n",
      "Run: 1, iteration: 11/100, moves: 3, ncost: 108711.86580891862\n",
      "Run: 1, iteration: 12/100, moves: 1, ncost: 108711.86272164901\n",
      "Run: 1, iteration: 13/100, moves: 0, ncost: 108711.86272164901\n"
     ]
    }
   ],
   "source": [
    "model5 = KPrototypes(n_clusters=5, init='Huang', n_init=1, verbose=2)\n",
    "model_fit5 = model5.fit(X, categorical = indCatColumns)\n",
    "clusassign5= model_fit5.predict(X, categorical = indCatColumns)\n",
    "listings['Cluster5'] = model_fit5.labels_"
   ]
  },
  {
   "cell_type": "code",
   "execution_count": 19,
   "metadata": {},
   "outputs": [
    {
     "name": "stdout",
     "output_type": "stream",
     "text": [
      "Init: initializing centroids\n",
      "Init: initializing clusters\n",
      "Starting iterations...\n",
      "Run: 1, iteration: 1/100, moves: 3977, ncost: 103566.71535170995\n",
      "Run: 1, iteration: 2/100, moves: 1457, ncost: 100918.93382495378\n",
      "Run: 1, iteration: 3/100, moves: 817, ncost: 100028.0165577798\n",
      "Run: 1, iteration: 4/100, moves: 709, ncost: 99266.46747208296\n",
      "Run: 1, iteration: 5/100, moves: 755, ncost: 98445.2080154068\n",
      "Run: 1, iteration: 6/100, moves: 568, ncost: 98201.38860420325\n",
      "Run: 1, iteration: 7/100, moves: 463, ncost: 98043.60409650899\n",
      "Run: 1, iteration: 8/100, moves: 539, ncost: 97817.5500741896\n",
      "Run: 1, iteration: 9/100, moves: 495, ncost: 97643.8057829585\n",
      "Run: 1, iteration: 10/100, moves: 433, ncost: 97453.67325187751\n",
      "Run: 1, iteration: 11/100, moves: 308, ncost: 97381.32041617998\n",
      "Run: 1, iteration: 12/100, moves: 234, ncost: 97313.10168570028\n",
      "Run: 1, iteration: 13/100, moves: 173, ncost: 97248.01920294411\n",
      "Run: 1, iteration: 14/100, moves: 167, ncost: 97211.93651496574\n",
      "Run: 1, iteration: 15/100, moves: 154, ncost: 97168.51978472613\n",
      "Run: 1, iteration: 16/100, moves: 111, ncost: 97144.73393454253\n",
      "Run: 1, iteration: 17/100, moves: 98, ncost: 97130.01498624981\n",
      "Run: 1, iteration: 18/100, moves: 74, ncost: 97120.78994237237\n",
      "Run: 1, iteration: 19/100, moves: 63, ncost: 97114.01882755308\n",
      "Run: 1, iteration: 20/100, moves: 58, ncost: 97107.98586632161\n",
      "Run: 1, iteration: 21/100, moves: 42, ncost: 97105.53963233458\n",
      "Run: 1, iteration: 22/100, moves: 43, ncost: 97102.45963158898\n",
      "Run: 1, iteration: 23/100, moves: 36, ncost: 97101.09275031723\n",
      "Run: 1, iteration: 24/100, moves: 9, ncost: 97100.85380967638\n",
      "Run: 1, iteration: 25/100, moves: 5, ncost: 97100.7787258786\n",
      "Run: 1, iteration: 26/100, moves: 1, ncost: 97100.7761258826\n",
      "Run: 1, iteration: 27/100, moves: 0, ncost: 97100.7761258826\n"
     ]
    }
   ],
   "source": [
    "model9 = KPrototypes(n_clusters=9, init='Huang', n_init=1, verbose=2)\n",
    "model_fit9 = model9.fit(X, categorical = indCatColumns)\n",
    "clusassign9= model_fit9.predict(X, categorical = indCatColumns)\n",
    "listings['Cluster9'] = model_fit9.labels_"
   ]
  },
  {
   "cell_type": "code",
   "execution_count": 20,
   "metadata": {},
   "outputs": [],
   "source": [
    "listings.to_csv('./Data/listingsCluster.csv', index=True)"
   ]
  },
  {
   "cell_type": "code",
   "execution_count": 21,
   "metadata": {},
   "outputs": [],
   "source": [
    "#Testing clustering with Silhoutte"
   ]
  },
  {
   "cell_type": "code",
   "execution_count": 22,
   "metadata": {},
   "outputs": [
    {
     "name": "stdout",
     "output_type": "stream",
     "text": [
      "0.03627972766611436\n"
     ]
    }
   ],
   "source": [
    "labels = model_fit9.labels_\n",
    "gamma = model_fit9.gamma\n",
    "Silhoutte9 = silhouette_score(X, labels, metric= lambda X,Y: distance_dissim(X,Y,gamma = gamma,categorical = indCatColumns))\n",
    "print(Silhoutte9)"
   ]
  },
  {
   "cell_type": "code",
   "execution_count": 23,
   "metadata": {},
   "outputs": [
    {
     "name": "stdout",
     "output_type": "stream",
     "text": [
      "0.05639430798505945\n"
     ]
    }
   ],
   "source": [
    "labels = model_fit5.labels_\n",
    "gamma = model_fit5.gamma\n",
    "Silhoutte5 = silhouette_score(X, labels, metric= lambda X,Y: distance_dissim(X,Y,gamma = gamma,categorical = indCatColumns))\n",
    "print(Silhoutte5)"
   ]
  },
  {
   "cell_type": "code",
   "execution_count": null,
   "metadata": {},
   "outputs": [],
   "source": []
  }
 ],
 "metadata": {
  "kernelspec": {
   "display_name": "Python 3",
   "language": "python",
   "name": "python3"
  },
  "language_info": {
   "codemirror_mode": {
    "name": "ipython",
    "version": 3
   },
   "file_extension": ".py",
   "mimetype": "text/x-python",
   "name": "python",
   "nbconvert_exporter": "python",
   "pygments_lexer": "ipython3",
   "version": "3.5.4"
  }
 },
 "nbformat": 4,
 "nbformat_minor": 2
}
