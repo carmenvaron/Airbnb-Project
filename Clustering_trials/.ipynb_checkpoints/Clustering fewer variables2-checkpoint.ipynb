{
 "cells": [
  {
   "cell_type": "code",
   "execution_count": 1,
   "metadata": {},
   "outputs": [],
   "source": [
    "%matplotlib inline\n",
    "import matplotlib.pyplot as plt\n",
    "import numpy as np\n",
    "import pandas as pd\n",
    "import io\n",
    "import os\n",
    "import math\n",
    "from sklearn.metrics import silhouette_samples,silhouette_score\n",
    "from sklearn import preprocessing\n",
    "from scipy.spatial import distance\n",
    "from scipy.spatial.distance import cdist\n",
    "from sklearn.decomposition import PCA\n",
    "import random \n",
    "random.seed(33)"
   ]
  },
  {
   "cell_type": "code",
   "execution_count": 2,
   "metadata": {},
   "outputs": [],
   "source": [
    "listings = pd.read_csv('../Data/listings_clean.csv')"
   ]
  },
  {
   "cell_type": "code",
   "execution_count": 3,
   "metadata": {},
   "outputs": [],
   "source": [
    "numerical_features = ['latitude', 'longitude', 'accommodates', 'bathrooms','bedrooms', 'beds']"
   ]
  },
  {
   "cell_type": "code",
   "execution_count": 4,
   "metadata": {},
   "outputs": [],
   "source": [
    "boolean_features = ['instant_bookable', 'is_business_travel_ready']"
   ]
  },
  {
   "cell_type": "code",
   "execution_count": 5,
   "metadata": {},
   "outputs": [],
   "source": [
    "categorical_features = ['neighbourhood_cleansed', 'property_type', 'bed_type']\n",
    "listings_categorical = pd.get_dummies(listings[categorical_features], columns=categorical_features, \n",
    "                            prefix=[\"Neigh\", \"Property\", \"Bed\"])"
   ]
  },
  {
   "cell_type": "code",
   "execution_count": 6,
   "metadata": {},
   "outputs": [],
   "source": [
    "listingsCluster = pd.concat([listings[numerical_features],listings[categorical_features],listings[boolean_features]], axis=1)"
   ]
  },
  {
   "cell_type": "code",
   "execution_count": 7,
   "metadata": {},
   "outputs": [
    {
     "data": {
      "text/html": [
       "<div>\n",
       "<style scoped>\n",
       "    .dataframe tbody tr th:only-of-type {\n",
       "        vertical-align: middle;\n",
       "    }\n",
       "\n",
       "    .dataframe tbody tr th {\n",
       "        vertical-align: top;\n",
       "    }\n",
       "\n",
       "    .dataframe thead th {\n",
       "        text-align: right;\n",
       "    }\n",
       "</style>\n",
       "<table border=\"1\" class=\"dataframe\">\n",
       "  <thead>\n",
       "    <tr style=\"text-align: right;\">\n",
       "      <th></th>\n",
       "      <th>latitude</th>\n",
       "      <th>longitude</th>\n",
       "      <th>accommodates</th>\n",
       "      <th>bathrooms</th>\n",
       "      <th>bedrooms</th>\n",
       "      <th>beds</th>\n",
       "      <th>neighbourhood_cleansed</th>\n",
       "      <th>property_type</th>\n",
       "      <th>bed_type</th>\n",
       "      <th>instant_bookable</th>\n",
       "      <th>is_business_travel_ready</th>\n",
       "    </tr>\n",
       "  </thead>\n",
       "  <tbody>\n",
       "    <tr>\n",
       "      <th>0</th>\n",
       "      <td>40.424715</td>\n",
       "      <td>-3.698638</td>\n",
       "      <td>2</td>\n",
       "      <td>1.0</td>\n",
       "      <td>0.0</td>\n",
       "      <td>1.0</td>\n",
       "      <td>Justicia</td>\n",
       "      <td>Apartment</td>\n",
       "      <td>Pull-out Sofa</td>\n",
       "      <td>1</td>\n",
       "      <td>0</td>\n",
       "    </tr>\n",
       "    <tr>\n",
       "      <th>1</th>\n",
       "      <td>40.413418</td>\n",
       "      <td>-3.706838</td>\n",
       "      <td>2</td>\n",
       "      <td>1.0</td>\n",
       "      <td>0.0</td>\n",
       "      <td>1.0</td>\n",
       "      <td>Embajadores</td>\n",
       "      <td>Apartment</td>\n",
       "      <td>Pull-out Sofa</td>\n",
       "      <td>1</td>\n",
       "      <td>0</td>\n",
       "    </tr>\n",
       "    <tr>\n",
       "      <th>2</th>\n",
       "      <td>40.424920</td>\n",
       "      <td>-3.713446</td>\n",
       "      <td>2</td>\n",
       "      <td>1.0</td>\n",
       "      <td>0.0</td>\n",
       "      <td>1.0</td>\n",
       "      <td>Argüelles</td>\n",
       "      <td>Apartment</td>\n",
       "      <td>Pull-out Sofa</td>\n",
       "      <td>0</td>\n",
       "      <td>0</td>\n",
       "    </tr>\n",
       "    <tr>\n",
       "      <th>3</th>\n",
       "      <td>40.423417</td>\n",
       "      <td>-3.712456</td>\n",
       "      <td>10</td>\n",
       "      <td>3.0</td>\n",
       "      <td>4.0</td>\n",
       "      <td>5.0</td>\n",
       "      <td>Argüelles</td>\n",
       "      <td>Apartment</td>\n",
       "      <td>Real Bed</td>\n",
       "      <td>0</td>\n",
       "      <td>0</td>\n",
       "    </tr>\n",
       "    <tr>\n",
       "      <th>4</th>\n",
       "      <td>40.422022</td>\n",
       "      <td>-3.703954</td>\n",
       "      <td>3</td>\n",
       "      <td>1.0</td>\n",
       "      <td>0.0</td>\n",
       "      <td>2.0</td>\n",
       "      <td>Universidad</td>\n",
       "      <td>Apartment</td>\n",
       "      <td>Real Bed</td>\n",
       "      <td>0</td>\n",
       "      <td>0</td>\n",
       "    </tr>\n",
       "  </tbody>\n",
       "</table>\n",
       "</div>"
      ],
      "text/plain": [
       "    latitude  longitude  accommodates  bathrooms  bedrooms  beds  \\\n",
       "0  40.424715  -3.698638             2        1.0       0.0   1.0   \n",
       "1  40.413418  -3.706838             2        1.0       0.0   1.0   \n",
       "2  40.424920  -3.713446             2        1.0       0.0   1.0   \n",
       "3  40.423417  -3.712456            10        3.0       4.0   5.0   \n",
       "4  40.422022  -3.703954             3        1.0       0.0   2.0   \n",
       "\n",
       "  neighbourhood_cleansed property_type       bed_type  instant_bookable  \\\n",
       "0               Justicia     Apartment  Pull-out Sofa                 1   \n",
       "1            Embajadores     Apartment  Pull-out Sofa                 1   \n",
       "2              Argüelles     Apartment  Pull-out Sofa                 0   \n",
       "3              Argüelles     Apartment       Real Bed                 0   \n",
       "4            Universidad     Apartment       Real Bed                 0   \n",
       "\n",
       "   is_business_travel_ready  \n",
       "0                         0  \n",
       "1                         0  \n",
       "2                         0  \n",
       "3                         0  \n",
       "4                         0  "
      ]
     },
     "execution_count": 7,
     "metadata": {},
     "output_type": "execute_result"
    }
   ],
   "source": [
    "listingsCluster.head()"
   ]
  },
  {
   "cell_type": "code",
   "execution_count": 8,
   "metadata": {},
   "outputs": [
    {
     "data": {
      "text/plain": [
       "latitude                    0\n",
       "longitude                   0\n",
       "accommodates                0\n",
       "bathrooms                   0\n",
       "bedrooms                    0\n",
       "beds                        0\n",
       "neighbourhood_cleansed      0\n",
       "property_type               0\n",
       "bed_type                    0\n",
       "instant_bookable            0\n",
       "is_business_travel_ready    0\n",
       "dtype: int64"
      ]
     },
     "execution_count": 8,
     "metadata": {},
     "output_type": "execute_result"
    }
   ],
   "source": [
    "listingsCluster.isnull().sum()"
   ]
  },
  {
   "cell_type": "code",
   "execution_count": 9,
   "metadata": {},
   "outputs": [],
   "source": [
    "to_categorical = categorical_features + boolean_features\n",
    "indCatColumns = [listingsCluster.columns.get_loc(col) for col in to_categorical]"
   ]
  },
  {
   "cell_type": "code",
   "execution_count": 10,
   "metadata": {},
   "outputs": [],
   "source": [
    "from sklearn.preprocessing import RobustScaler\n",
    "RS = RobustScaler()"
   ]
  },
  {
   "cell_type": "code",
   "execution_count": 11,
   "metadata": {},
   "outputs": [],
   "source": [
    "listingsCluster[numerical_features] = RS.fit_transform(listingsCluster[numerical_features])"
   ]
  },
  {
   "cell_type": "code",
   "execution_count": 12,
   "metadata": {},
   "outputs": [
    {
     "data": {
      "text/html": [
       "<div>\n",
       "<style scoped>\n",
       "    .dataframe tbody tr th:only-of-type {\n",
       "        vertical-align: middle;\n",
       "    }\n",
       "\n",
       "    .dataframe tbody tr th {\n",
       "        vertical-align: top;\n",
       "    }\n",
       "\n",
       "    .dataframe thead th {\n",
       "        text-align: right;\n",
       "    }\n",
       "</style>\n",
       "<table border=\"1\" class=\"dataframe\">\n",
       "  <thead>\n",
       "    <tr style=\"text-align: right;\">\n",
       "      <th></th>\n",
       "      <th>latitude</th>\n",
       "      <th>longitude</th>\n",
       "      <th>accommodates</th>\n",
       "      <th>bathrooms</th>\n",
       "      <th>bedrooms</th>\n",
       "      <th>beds</th>\n",
       "      <th>instant_bookable</th>\n",
       "      <th>is_business_travel_ready</th>\n",
       "    </tr>\n",
       "  </thead>\n",
       "  <tbody>\n",
       "    <tr>\n",
       "      <th>count</th>\n",
       "      <td>8.586000e+03</td>\n",
       "      <td>8.586000e+03</td>\n",
       "      <td>8586.000000</td>\n",
       "      <td>8586.000000</td>\n",
       "      <td>8586.000000</td>\n",
       "      <td>8586.000000</td>\n",
       "      <td>8586.000000</td>\n",
       "      <td>8586.000000</td>\n",
       "    </tr>\n",
       "    <tr>\n",
       "      <th>mean</th>\n",
       "      <td>1.526813e-01</td>\n",
       "      <td>3.135931e-01</td>\n",
       "      <td>0.066562</td>\n",
       "      <td>0.248777</td>\n",
       "      <td>0.479385</td>\n",
       "      <td>0.201025</td>\n",
       "      <td>0.556138</td>\n",
       "      <td>0.063359</td>\n",
       "    </tr>\n",
       "    <tr>\n",
       "      <th>std</th>\n",
       "      <td>1.118500e+00</td>\n",
       "      <td>1.670191e+00</td>\n",
       "      <td>0.966366</td>\n",
       "      <td>0.512864</td>\n",
       "      <td>0.957383</td>\n",
       "      <td>0.766550</td>\n",
       "      <td>0.496867</td>\n",
       "      <td>0.243622</td>\n",
       "    </tr>\n",
       "    <tr>\n",
       "      <th>min</th>\n",
       "      <td>-5.753218e+00</td>\n",
       "      <td>-1.201677e+01</td>\n",
       "      <td>-1.500000</td>\n",
       "      <td>-1.000000</td>\n",
       "      <td>-1.000000</td>\n",
       "      <td>-0.500000</td>\n",
       "      <td>0.000000</td>\n",
       "      <td>0.000000</td>\n",
       "    </tr>\n",
       "    <tr>\n",
       "      <th>25%</th>\n",
       "      <td>-4.771182e-01</td>\n",
       "      <td>-4.703298e-01</td>\n",
       "      <td>-0.500000</td>\n",
       "      <td>0.000000</td>\n",
       "      <td>0.000000</td>\n",
       "      <td>-0.500000</td>\n",
       "      <td>0.000000</td>\n",
       "      <td>0.000000</td>\n",
       "    </tr>\n",
       "    <tr>\n",
       "      <th>50%</th>\n",
       "      <td>2.397762e-13</td>\n",
       "      <td>-1.997035e-14</td>\n",
       "      <td>0.000000</td>\n",
       "      <td>0.000000</td>\n",
       "      <td>0.000000</td>\n",
       "      <td>0.000000</td>\n",
       "      <td>1.000000</td>\n",
       "      <td>0.000000</td>\n",
       "    </tr>\n",
       "    <tr>\n",
       "      <th>75%</th>\n",
       "      <td>5.228818e-01</td>\n",
       "      <td>5.296702e-01</td>\n",
       "      <td>0.500000</td>\n",
       "      <td>0.000000</td>\n",
       "      <td>1.000000</td>\n",
       "      <td>0.500000</td>\n",
       "      <td>1.000000</td>\n",
       "      <td>0.000000</td>\n",
       "    </tr>\n",
       "    <tr>\n",
       "      <th>max</th>\n",
       "      <td>1.261458e+01</td>\n",
       "      <td>1.425931e+01</td>\n",
       "      <td>6.000000</td>\n",
       "      <td>5.000000</td>\n",
       "      <td>9.000000</td>\n",
       "      <td>7.500000</td>\n",
       "      <td>1.000000</td>\n",
       "      <td>1.000000</td>\n",
       "    </tr>\n",
       "  </tbody>\n",
       "</table>\n",
       "</div>"
      ],
      "text/plain": [
       "           latitude     longitude  accommodates    bathrooms     bedrooms  \\\n",
       "count  8.586000e+03  8.586000e+03   8586.000000  8586.000000  8586.000000   \n",
       "mean   1.526813e-01  3.135931e-01      0.066562     0.248777     0.479385   \n",
       "std    1.118500e+00  1.670191e+00      0.966366     0.512864     0.957383   \n",
       "min   -5.753218e+00 -1.201677e+01     -1.500000    -1.000000    -1.000000   \n",
       "25%   -4.771182e-01 -4.703298e-01     -0.500000     0.000000     0.000000   \n",
       "50%    2.397762e-13 -1.997035e-14      0.000000     0.000000     0.000000   \n",
       "75%    5.228818e-01  5.296702e-01      0.500000     0.000000     1.000000   \n",
       "max    1.261458e+01  1.425931e+01      6.000000     5.000000     9.000000   \n",
       "\n",
       "              beds  instant_bookable  is_business_travel_ready  \n",
       "count  8586.000000       8586.000000               8586.000000  \n",
       "mean      0.201025          0.556138                  0.063359  \n",
       "std       0.766550          0.496867                  0.243622  \n",
       "min      -0.500000          0.000000                  0.000000  \n",
       "25%      -0.500000          0.000000                  0.000000  \n",
       "50%       0.000000          1.000000                  0.000000  \n",
       "75%       0.500000          1.000000                  0.000000  \n",
       "max       7.500000          1.000000                  1.000000  "
      ]
     },
     "execution_count": 12,
     "metadata": {},
     "output_type": "execute_result"
    }
   ],
   "source": [
    "listingsCluster.describe()"
   ]
  },
  {
   "cell_type": "code",
   "execution_count": 13,
   "metadata": {},
   "outputs": [
    {
     "name": "stdout",
     "output_type": "stream",
     "text": [
      "Requirement already up-to-date: kmodes in /home/dsc/anaconda3/lib/python3.5/site-packages (0.9)\n",
      "Requirement not upgraded as not directly required: scipy>=0.13.3 in /home/dsc/anaconda3/lib/python3.5/site-packages (from kmodes) (1.0.1)\n",
      "Requirement not upgraded as not directly required: numpy>=1.10.4 in /home/dsc/anaconda3/lib/python3.5/site-packages (from kmodes) (1.14.3)\n",
      "Requirement not upgraded as not directly required: scikit-learn<0.20.0,>=0.19.0 in /home/dsc/anaconda3/lib/python3.5/site-packages (from kmodes) (0.19.1)\n"
     ]
    }
   ],
   "source": [
    "! pip install --upgrade kmodes"
   ]
  },
  {
   "cell_type": "code",
   "execution_count": 14,
   "metadata": {},
   "outputs": [],
   "source": [
    "from kmodes.kprototypes import KPrototypes"
   ]
  },
  {
   "cell_type": "code",
   "execution_count": 15,
   "metadata": {},
   "outputs": [],
   "source": [
    "for cat_col in categorical_features:\n",
    "    listingsCluster[cat_col] = preprocessing.LabelEncoder().fit_transform(listingsCluster[cat_col])"
   ]
  },
  {
   "cell_type": "code",
   "execution_count": 16,
   "metadata": {},
   "outputs": [],
   "source": [
    "X = listingsCluster.values"
   ]
  },
  {
   "cell_type": "code",
   "execution_count": 17,
   "metadata": {},
   "outputs": [],
   "source": [
    "def distance_dissim(X,Y,gamma,categorical):\n",
    "    no_categorical = [i for i in range(len(X)) if i not in categorical]\n",
    "    Xnum = np.asanyarray([X[ii] for ii in no_categorical]).astype(np.float64)\n",
    "    Ynum = np.asanyarray([Y[ii] for ii in no_categorical]).astype(np.float64)\n",
    "    Xcat = np.asanyarray([X[ii] for ii in categorical])\n",
    "    Ycat = np.asanyarray([Y[ii] for ii in categorical])\n",
    "    \n",
    "    distance_dissim = distance.euclidean(Xnum, Ynum) + gamma * np.sum(Xcat != Ycat)\n",
    "    \n",
    "    return distance_dissim"
   ]
  },
  {
   "cell_type": "code",
   "execution_count": 18,
   "metadata": {},
   "outputs": [
    {
     "name": "stdout",
     "output_type": "stream",
     "text": [
      "Init: initializing centroids\n",
      "Init: initializing clusters\n",
      "Starting iterations...\n",
      "Run: 1, iteration: 1/100, moves: 0, ncost: 64617.31337055105\n",
      "Init: initializing centroids\n",
      "Init: initializing clusters\n",
      "Starting iterations...\n",
      "Run: 1, iteration: 1/100, moves: 699, ncost: 50944.90928473061\n",
      "Run: 1, iteration: 2/100, moves: 345, ncost: 50634.476075384475\n",
      "Run: 1, iteration: 3/100, moves: 263, ncost: 50332.43533432491\n",
      "Run: 1, iteration: 4/100, moves: 219, ncost: 50005.58038436123\n",
      "Run: 1, iteration: 5/100, moves: 138, ncost: 49792.049015464734\n",
      "Run: 1, iteration: 6/100, moves: 77, ncost: 49722.1029087929\n",
      "Run: 1, iteration: 7/100, moves: 31, ncost: 49710.15755629834\n",
      "Run: 1, iteration: 8/100, moves: 3, ncost: 49710.04154726069\n",
      "Run: 1, iteration: 9/100, moves: 0, ncost: 49710.04154726069\n",
      "Init: initializing centroids\n",
      "Init: initializing clusters\n",
      "Starting iterations...\n",
      "Run: 1, iteration: 1/100, moves: 2188, ncost: 39825.80954729527\n",
      "Run: 1, iteration: 2/100, moves: 374, ncost: 39662.097246759615\n",
      "Run: 1, iteration: 3/100, moves: 92, ncost: 39649.57360472768\n",
      "Run: 1, iteration: 4/100, moves: 35, ncost: 39647.9469995204\n",
      "Run: 1, iteration: 5/100, moves: 12, ncost: 39647.75708614922\n",
      "Run: 1, iteration: 6/100, moves: 2, ncost: 39647.74953392563\n",
      "Run: 1, iteration: 7/100, moves: 0, ncost: 39647.74953392563\n",
      "Init: initializing centroids\n",
      "Init: initializing clusters\n",
      "Starting iterations...\n",
      "Run: 1, iteration: 1/100, moves: 2727, ncost: 39751.65421073615\n",
      "Run: 1, iteration: 2/100, moves: 1793, ncost: 37216.11020964726\n",
      "Run: 1, iteration: 3/100, moves: 892, ncost: 36424.480862335884\n",
      "Run: 1, iteration: 4/100, moves: 321, ncost: 36285.30600620764\n",
      "Run: 1, iteration: 5/100, moves: 88, ncost: 36272.65377780891\n",
      "Run: 1, iteration: 6/100, moves: 35, ncost: 36268.928197539964\n",
      "Run: 1, iteration: 7/100, moves: 20, ncost: 36266.45372098033\n",
      "Run: 1, iteration: 8/100, moves: 15, ncost: 36265.25955567875\n",
      "Run: 1, iteration: 9/100, moves: 18, ncost: 36263.13729804506\n",
      "Run: 1, iteration: 10/100, moves: 15, ncost: 36261.57278527163\n",
      "Run: 1, iteration: 11/100, moves: 15, ncost: 36259.62333881437\n",
      "Run: 1, iteration: 12/100, moves: 20, ncost: 36256.27697375021\n",
      "Run: 1, iteration: 13/100, moves: 31, ncost: 36249.21910765326\n",
      "Run: 1, iteration: 14/100, moves: 36, ncost: 36231.536196943765\n",
      "Run: 1, iteration: 15/100, moves: 91, ncost: 36089.85733172685\n",
      "Run: 1, iteration: 16/100, moves: 105, ncost: 36000.116921562796\n",
      "Run: 1, iteration: 17/100, moves: 87, ncost: 35959.46919655503\n",
      "Run: 1, iteration: 18/100, moves: 119, ncost: 35924.702341628305\n",
      "Run: 1, iteration: 19/100, moves: 77, ncost: 35906.3627711489\n",
      "Run: 1, iteration: 20/100, moves: 43, ncost: 35894.04463520734\n",
      "Run: 1, iteration: 21/100, moves: 28, ncost: 35887.23905565855\n",
      "Run: 1, iteration: 22/100, moves: 7, ncost: 35886.53516459543\n",
      "Run: 1, iteration: 23/100, moves: 0, ncost: 35886.53516459543\n",
      "Init: initializing centroids\n",
      "Init: initializing clusters\n",
      "Starting iterations...\n",
      "Run: 1, iteration: 1/100, moves: 1497, ncost: 35312.33628873783\n",
      "Run: 1, iteration: 2/100, moves: 547, ncost: 35041.527775119546\n",
      "Run: 1, iteration: 3/100, moves: 165, ncost: 34973.370222482816\n",
      "Run: 1, iteration: 4/100, moves: 183, ncost: 34781.087627172594\n",
      "Run: 1, iteration: 5/100, moves: 218, ncost: 34628.268798435296\n",
      "Run: 1, iteration: 6/100, moves: 208, ncost: 34501.82836684519\n",
      "Run: 1, iteration: 7/100, moves: 122, ncost: 34443.7647725561\n",
      "Run: 1, iteration: 8/100, moves: 101, ncost: 34332.32071685811\n",
      "Run: 1, iteration: 9/100, moves: 151, ncost: 33810.2566938498\n",
      "Run: 1, iteration: 10/100, moves: 189, ncost: 33492.08767857564\n",
      "Run: 1, iteration: 11/100, moves: 141, ncost: 33404.436050412165\n",
      "Run: 1, iteration: 12/100, moves: 61, ncost: 33395.18908691602\n",
      "Run: 1, iteration: 13/100, moves: 14, ncost: 33394.767288151\n",
      "Run: 1, iteration: 14/100, moves: 1, ncost: 33394.75544355869\n",
      "Run: 1, iteration: 15/100, moves: 0, ncost: 33394.75544355869\n",
      "Init: initializing centroids\n",
      "Init: initializing clusters\n",
      "Starting iterations...\n",
      "Run: 1, iteration: 1/100, moves: 2107, ncost: 32518.241475987328\n",
      "Run: 1, iteration: 2/100, moves: 693, ncost: 32196.988015314015\n",
      "Run: 1, iteration: 3/100, moves: 370, ncost: 31952.017128953048\n",
      "Run: 1, iteration: 4/100, moves: 247, ncost: 31796.923419851828\n",
      "Run: 1, iteration: 5/100, moves: 202, ncost: 31656.1775968253\n",
      "Run: 1, iteration: 6/100, moves: 169, ncost: 31574.044391753167\n",
      "Run: 1, iteration: 7/100, moves: 100, ncost: 31537.686689078706\n",
      "Run: 1, iteration: 8/100, moves: 59, ncost: 31527.53452086341\n",
      "Run: 1, iteration: 9/100, moves: 27, ncost: 31525.829192538105\n",
      "Run: 1, iteration: 10/100, moves: 13, ncost: 31524.881864291277\n",
      "Run: 1, iteration: 11/100, moves: 3, ncost: 31524.770875868122\n",
      "Run: 1, iteration: 12/100, moves: 1, ncost: 31524.763382443274\n",
      "Run: 1, iteration: 13/100, moves: 0, ncost: 31524.763382443274\n",
      "Init: initializing centroids\n",
      "Init: initializing clusters\n",
      "Starting iterations...\n",
      "Run: 1, iteration: 1/100, moves: 3000, ncost: 30643.236593042882\n",
      "Run: 1, iteration: 2/100, moves: 1326, ncost: 30031.46770154593\n",
      "Run: 1, iteration: 3/100, moves: 718, ncost: 29562.792216302307\n",
      "Run: 1, iteration: 4/100, moves: 599, ncost: 29078.665007452648\n",
      "Run: 1, iteration: 5/100, moves: 337, ncost: 28951.35686174322\n",
      "Run: 1, iteration: 6/100, moves: 179, ncost: 28929.621668996515\n",
      "Run: 1, iteration: 7/100, moves: 97, ncost: 28925.414572874324\n",
      "Run: 1, iteration: 8/100, moves: 42, ncost: 28924.43203100444\n",
      "Run: 1, iteration: 9/100, moves: 17, ncost: 28924.261638356562\n",
      "Run: 1, iteration: 10/100, moves: 9, ncost: 28924.163255138315\n",
      "Run: 1, iteration: 11/100, moves: 7, ncost: 28924.07528862412\n",
      "Run: 1, iteration: 12/100, moves: 7, ncost: 28924.041342770393\n",
      "Run: 1, iteration: 13/100, moves: 2, ncost: 28924.03487535241\n",
      "Run: 1, iteration: 14/100, moves: 1, ncost: 28924.033719674047\n",
      "Run: 1, iteration: 15/100, moves: 0, ncost: 28924.033719674047\n",
      "Init: initializing centroids\n",
      "Init: initializing clusters\n",
      "Starting iterations...\n",
      "Run: 1, iteration: 1/100, moves: 2523, ncost: 29747.549507729324\n",
      "Run: 1, iteration: 2/100, moves: 798, ncost: 29246.45705948548\n",
      "Run: 1, iteration: 3/100, moves: 779, ncost: 28117.902793771384\n",
      "Run: 1, iteration: 4/100, moves: 791, ncost: 27135.60106825873\n",
      "Run: 1, iteration: 5/100, moves: 421, ncost: 26950.09449733622\n",
      "Run: 1, iteration: 6/100, moves: 468, ncost: 26512.86670801235\n",
      "Run: 1, iteration: 7/100, moves: 932, ncost: 25989.267954996674\n",
      "Run: 1, iteration: 8/100, moves: 809, ncost: 25697.06499686724\n",
      "Run: 1, iteration: 9/100, moves: 524, ncost: 25553.807512837175\n",
      "Run: 1, iteration: 10/100, moves: 298, ncost: 25498.610862835427\n",
      "Run: 1, iteration: 11/100, moves: 128, ncost: 25488.540176719413\n",
      "Run: 1, iteration: 12/100, moves: 74, ncost: 25486.00179138201\n",
      "Run: 1, iteration: 13/100, moves: 29, ncost: 25485.441737571593\n",
      "Run: 1, iteration: 14/100, moves: 13, ncost: 25485.367025877676\n",
      "Run: 1, iteration: 15/100, moves: 3, ncost: 25485.358674612038\n",
      "Run: 1, iteration: 16/100, moves: 0, ncost: 25485.358674612038\n",
      "Init: initializing centroids\n",
      "Init: initializing clusters\n",
      "Starting iterations...\n",
      "Run: 1, iteration: 1/100, moves: 2268, ncost: 25677.600295608445\n",
      "Run: 1, iteration: 2/100, moves: 682, ncost: 25384.005840001188\n",
      "Run: 1, iteration: 3/100, moves: 192, ncost: 25315.341725756454\n",
      "Run: 1, iteration: 4/100, moves: 116, ncost: 25291.185718959085\n",
      "Run: 1, iteration: 5/100, moves: 76, ncost: 25276.87985226545\n",
      "Run: 1, iteration: 6/100, moves: 82, ncost: 25262.433851197125\n",
      "Run: 1, iteration: 7/100, moves: 75, ncost: 25247.011449864367\n",
      "Run: 1, iteration: 8/100, moves: 74, ncost: 25227.220612812136\n",
      "Run: 1, iteration: 9/100, moves: 103, ncost: 25185.302162278622\n",
      "Run: 1, iteration: 10/100, moves: 115, ncost: 25144.98784104752\n",
      "Run: 1, iteration: 11/100, moves: 68, ncost: 25131.647480733063\n",
      "Run: 1, iteration: 12/100, moves: 41, ncost: 25124.05575111652\n",
      "Run: 1, iteration: 13/100, moves: 62, ncost: 25111.154270429182\n",
      "Run: 1, iteration: 14/100, moves: 30, ncost: 25108.350126007113\n",
      "Run: 1, iteration: 15/100, moves: 31, ncost: 25104.053314024957\n",
      "Run: 1, iteration: 16/100, moves: 32, ncost: 25098.01507836364\n",
      "Run: 1, iteration: 17/100, moves: 29, ncost: 25091.88307817539\n",
      "Run: 1, iteration: 18/100, moves: 30, ncost: 25087.124349797443\n",
      "Run: 1, iteration: 19/100, moves: 36, ncost: 25074.62987870144\n",
      "Run: 1, iteration: 20/100, moves: 37, ncost: 25065.812570801765\n"
     ]
    },
    {
     "name": "stdout",
     "output_type": "stream",
     "text": [
      "Run: 1, iteration: 21/100, moves: 25, ncost: 25062.288613751876\n",
      "Run: 1, iteration: 22/100, moves: 14, ncost: 25060.418900036108\n",
      "Run: 1, iteration: 23/100, moves: 5, ncost: 25060.060891498\n",
      "Run: 1, iteration: 24/100, moves: 8, ncost: 25058.478932617345\n",
      "Run: 1, iteration: 25/100, moves: 18, ncost: 25055.688528334005\n",
      "Run: 1, iteration: 26/100, moves: 19, ncost: 25051.98031714603\n",
      "Run: 1, iteration: 27/100, moves: 25, ncost: 25049.721474042635\n",
      "Run: 1, iteration: 28/100, moves: 5, ncost: 25049.55608464471\n",
      "Run: 1, iteration: 29/100, moves: 8, ncost: 25046.42289164045\n",
      "Run: 1, iteration: 30/100, moves: 11, ncost: 25044.294188832344\n",
      "Run: 1, iteration: 31/100, moves: 4, ncost: 25044.140839973978\n",
      "Run: 1, iteration: 32/100, moves: 0, ncost: 25044.140839973978\n"
     ]
    }
   ],
   "source": [
    "meandist=[]\n",
    "clusters = range(1,10)\n",
    "\n",
    "for k in clusters:\n",
    "    model = KPrototypes(n_clusters=k, init='Huang', n_init=1, verbose=2)\n",
    "    model_fit = model.fit(X, categorical = indCatColumns)\n",
    "    clusassign= model_fit.predict(X, categorical = indCatColumns)\n",
    "    centroids = list()\n",
    "    for i in range(k):\n",
    "        centroids.append(list())\n",
    "        centroids[i] = np.append(model_fit.cluster_centroids_[0][i], model_fit.cluster_centroids_[1][i])\n",
    "    meandist.append(sum(np.min(cdist(X,centroids, metric=lambda X,Y: distance_dissim(X,Y,gamma = model_fit.gamma,categorical = indCatColumns)),axis=1))/listingsCluster.shape[0])"
   ]
  },
  {
   "cell_type": "code",
   "execution_count": 19,
   "metadata": {},
   "outputs": [
    {
     "data": {
      "image/png": "[encoded data removed]",
      "text/plain": [
       "<matplotlib.figure.Figure at 0x7f1c2b1bd710>"
      ]
     },
     "metadata": {},
     "output_type": "display_data"
    }
   ],
   "source": [
    "plt.plot(clusters,meandist)\n",
    "plt.xlabel(\"Number of clusters\")\n",
    "plt.ylabel(\"Average distance\")\n",
    "plt.title(\"Selecting k with the Elbow method\")\n",
    "plt.show()"
   ]
  },
  {
   "cell_type": "code",
   "execution_count": 20,
   "metadata": {},
   "outputs": [],
   "source": [
    "#According to the Elbow method, we could consider 3 clusters and maybe 5 and 8 clusters"
   ]
  },
  {
   "cell_type": "code",
   "execution_count": 21,
   "metadata": {},
   "outputs": [
    {
     "name": "stdout",
     "output_type": "stream",
     "text": [
      "Init: initializing centroids\n",
      "Init: initializing clusters\n",
      "Starting iterations...\n",
      "Run: 1, iteration: 1/100, moves: 2112, ncost: 40119.81988912289\n",
      "Run: 1, iteration: 2/100, moves: 620, ncost: 39745.71468734567\n",
      "Run: 1, iteration: 3/100, moves: 264, ncost: 39656.641396045336\n",
      "Run: 1, iteration: 4/100, moves: 47, ncost: 39653.56680366666\n",
      "Run: 1, iteration: 5/100, moves: 33, ncost: 39651.480590355044\n",
      "Run: 1, iteration: 6/100, moves: 39, ncost: 39648.9497980813\n",
      "Run: 1, iteration: 7/100, moves: 29, ncost: 39647.83695152397\n",
      "Run: 1, iteration: 8/100, moves: 8, ncost: 39647.75179591094\n",
      "Run: 1, iteration: 9/100, moves: 1, ncost: 39647.74953392563\n",
      "Run: 1, iteration: 10/100, moves: 0, ncost: 39647.74953392563\n"
     ]
    }
   ],
   "source": [
    "model3 = KPrototypes(n_clusters=3, init='Huang', n_init=1, verbose=2)\n",
    "model_fit3 = model3.fit(X, categorical = indCatColumns)\n",
    "clusassign3= model_fit3.predict(X, categorical = indCatColumns)\n",
    "listings['Cluster3'] = model_fit3.labels_"
   ]
  },
  {
   "cell_type": "code",
   "execution_count": 22,
   "metadata": {
    "scrolled": true
   },
   "outputs": [
    {
     "data": {
      "image/png": "[encoded data removed]",
      "text/plain": [
       "<matplotlib.figure.Figure at 0x7f1c2adb2278>"
      ]
     },
     "metadata": {},
     "output_type": "display_data"
    }
   ],
   "source": [
    "plt.scatter(listings['latitude'], listings['longitude'], c = model_fit3.labels_.astype(np.float))\n",
    "plt.show()"
   ]
  },
  {
   "cell_type": "code",
   "execution_count": 22,
   "metadata": {
    "scrolled": true
   },
   "outputs": [
    {
     "name": "stdout",
     "output_type": "stream",
     "text": [
      "Init: initializing centroids\n",
      "Init: initializing clusters\n",
      "Starting iterations...\n",
      "Run: 1, iteration: 1/100, moves: 3478, ncost: 35484.21863634035\n",
      "Run: 1, iteration: 2/100, moves: 1368, ncost: 34589.65424165891\n",
      "Run: 1, iteration: 3/100, moves: 697, ncost: 34400.864255770764\n",
      "Run: 1, iteration: 4/100, moves: 494, ncost: 34231.195010365496\n",
      "Run: 1, iteration: 5/100, moves: 608, ncost: 33975.56504023998\n",
      "Run: 1, iteration: 6/100, moves: 653, ncost: 33678.00516923033\n",
      "Run: 1, iteration: 7/100, moves: 507, ncost: 33471.693591318086\n",
      "Run: 1, iteration: 8/100, moves: 392, ncost: 33407.4275438026\n",
      "Run: 1, iteration: 9/100, moves: 262, ncost: 33364.828841433795\n",
      "Run: 1, iteration: 10/100, moves: 188, ncost: 33338.54466431092\n",
      "Run: 1, iteration: 11/100, moves: 141, ncost: 33321.462196190274\n",
      "Run: 1, iteration: 12/100, moves: 123, ncost: 33304.72552667996\n",
      "Run: 1, iteration: 13/100, moves: 173, ncost: 33266.62421493494\n",
      "Run: 1, iteration: 14/100, moves: 281, ncost: 33085.74919399683\n",
      "Run: 1, iteration: 15/100, moves: 230, ncost: 32933.910179558115\n",
      "Run: 1, iteration: 16/100, moves: 160, ncost: 32835.456442394214\n",
      "Run: 1, iteration: 17/100, moves: 63, ncost: 32822.77564210621\n",
      "Run: 1, iteration: 18/100, moves: 18, ncost: 32821.760705775116\n",
      "Run: 1, iteration: 19/100, moves: 8, ncost: 32821.64601412359\n",
      "Run: 1, iteration: 20/100, moves: 1, ncost: 32821.63536966663\n",
      "Run: 1, iteration: 21/100, moves: 0, ncost: 32821.63536966663\n"
     ]
    }
   ],
   "source": [
    "model5 = KPrototypes(n_clusters=5, init='Huang', n_init=1, verbose=2)\n",
    "model_fit5 = model5.fit(X, categorical = indCatColumns)\n",
    "clusassign5= model_fit5.predict(X, categorical = indCatColumns)\n",
    "listings['Cluster5'] = model_fit5.labels_"
   ]
  },
  {
   "cell_type": "code",
   "execution_count": 24,
   "metadata": {},
   "outputs": [
    {
     "data": {
      "image/png": "[encoded data removed]",
      "text/plain": [
       "<matplotlib.figure.Figure at 0x7f1c2aede2b0>"
      ]
     },
     "metadata": {},
     "output_type": "display_data"
    }
   ],
   "source": [
    "plt.scatter(listings['latitude'], listings['longitude'], c = model_fit5.labels_.astype(np.float))\n",
    "plt.show()"
   ]
  },
  {
   "cell_type": "code",
   "execution_count": 18,
   "metadata": {},
   "outputs": [
    {
     "name": "stdout",
     "output_type": "stream",
     "text": [
      "Init: initializing centroids\n",
      "Init: initializing clusters\n",
      "Starting iterations...\n",
      "Run: 1, iteration: 1/100, moves: 2897, ncost: 29003.008210504348\n",
      "Run: 1, iteration: 2/100, moves: 1247, ncost: 28155.73703141436\n",
      "Run: 1, iteration: 3/100, moves: 660, ncost: 27876.608590443928\n",
      "Run: 1, iteration: 4/100, moves: 477, ncost: 27636.34671650777\n",
      "Run: 1, iteration: 5/100, moves: 487, ncost: 27257.013076409356\n",
      "Run: 1, iteration: 6/100, moves: 505, ncost: 27009.06087816009\n",
      "Run: 1, iteration: 7/100, moves: 521, ncost: 26784.109890677028\n",
      "Run: 1, iteration: 8/100, moves: 528, ncost: 26475.97558257463\n",
      "Run: 1, iteration: 9/100, moves: 598, ncost: 26145.641713453588\n",
      "Run: 1, iteration: 10/100, moves: 436, ncost: 25889.353319756254\n",
      "Run: 1, iteration: 11/100, moves: 318, ncost: 25592.591243401715\n",
      "Run: 1, iteration: 12/100, moves: 154, ncost: 25486.651365681337\n",
      "Run: 1, iteration: 13/100, moves: 41, ncost: 25479.170404605466\n",
      "Run: 1, iteration: 14/100, moves: 9, ncost: 25478.647766395956\n",
      "Run: 1, iteration: 15/100, moves: 0, ncost: 25478.647766395956\n"
     ]
    }
   ],
   "source": [
    "model8 = KPrototypes(n_clusters=8, init='Huang', n_init=1, verbose=2)\n",
    "model_fit8 = model8.fit(X, categorical = indCatColumns)\n",
    "clusassign8= model_fit8.predict(X, categorical = indCatColumns)\n",
    "listings['Cluster8'] = model_fit8.labels_"
   ]
  },
  {
   "cell_type": "code",
   "execution_count": 19,
   "metadata": {},
   "outputs": [
    {
     "data": {
      "image/png": "[encoded data removed]",
      "text/plain": [
       "<matplotlib.figure.Figure at 0x7f07cc7cc6d8>"
      ]
     },
     "metadata": {},
     "output_type": "display_data"
    }
   ],
   "source": [
    "plt.scatter(listings['latitude'], listings['longitude'], c = model_fit8.labels_.astype(np.float))\n",
    "plt.show()"
   ]
  },
  {
   "cell_type": "code",
   "execution_count": 27,
   "metadata": {},
   "outputs": [
    {
     "name": "stdout",
     "output_type": "stream",
     "text": [
      "0.27817359317123935\n"
     ]
    }
   ],
   "source": [
    "labels = model_fit3.labels_\n",
    "gamma = model_fit3.gamma\n",
    "Silhoutte3 = silhouette_score(X, labels, metric= lambda X,Y: distance_dissim(X,Y,gamma = gamma,categorical = indCatColumns))\n",
    "print(Silhoutte3)"
   ]
  },
  {
   "cell_type": "code",
   "execution_count": 28,
   "metadata": {},
   "outputs": [
    {
     "name": "stdout",
     "output_type": "stream",
     "text": [
      "0.21581008536369814\n"
     ]
    }
   ],
   "source": [
    "labels = model_fit5.labels_\n",
    "gamma = model_fit5.gamma\n",
    "Silhoutte5 = silhouette_score(X, labels, metric= lambda X,Y: distance_dissim(X,Y,gamma = gamma,categorical = indCatColumns))\n",
    "print(Silhoutte5)"
   ]
  },
  {
   "cell_type": "code",
   "execution_count": 20,
   "metadata": {},
   "outputs": [
    {
     "name": "stdout",
     "output_type": "stream",
     "text": [
      "0.16040507306636573\n"
     ]
    }
   ],
   "source": [
    "labels = model_fit8.labels_\n",
    "gamma = model_fit8.gamma\n",
    "Silhoutte8 = silhouette_score(X, labels, metric= lambda X,Y: distance_dissim(X,Y,gamma = gamma,categorical = indCatColumns))\n",
    "print(Silhoutte8)"
   ]
  },
  {
   "cell_type": "code",
   "execution_count": 31,
   "metadata": {},
   "outputs": [],
   "source": [
    "#The Silhoutte coefficient should be close to 1 if there is a good split between clusters, so it doesn't seem these are good clusters\n",
    "#Even though, we test the stability of the clusters recalculating them with K=3 (highest coefficient)"
   ]
  },
  {
   "cell_type": "code",
   "execution_count": 23,
   "metadata": {},
   "outputs": [],
   "source": [
    "centroids = model_fit3.cluster_centroids_[0]\n",
    "centroids_PCA = PCA(n_components=2).fit_transform(centroids)"
   ]
  },
  {
   "cell_type": "code",
   "execution_count": 24,
   "metadata": {},
   "outputs": [],
   "source": [
    "x_coord=list()\n",
    "y_coord=list()\n",
    "x_coord.append(list())\n",
    "y_coord.append(list())\n",
    "for i in range(0,3):\n",
    "    x_coord[0].append(centroids_PCA[i][0])\n",
    "    y_coord[0].append(centroids_PCA[i][1])"
   ]
  },
  {
   "cell_type": "code",
   "execution_count": 25,
   "metadata": {},
   "outputs": [],
   "source": [
    "for k in range(1,10):\n",
    "    model = KPrototypes(n_clusters=3, init='Huang', n_init=1, verbose=False)\n",
    "    model_fit = model.fit(X, categorical = indCatColumns)\n",
    "    centroids = model_fit.cluster_centroids_[0]\n",
    "    centroids_PCA = PCA(n_components=2).fit_transform(centroids)\n",
    "    x_coord.append(list())\n",
    "    y_coord.append(list())\n",
    "    for i in range(0,3):\n",
    "        x_coord[k].append(centroids_PCA[i][0])\n",
    "        y_coord[k].append(centroids_PCA[i][1])"
   ]
  },
  {
   "cell_type": "code",
   "execution_count": 26,
   "metadata": {
    "scrolled": true
   },
   "outputs": [
    {
     "data": {
      "image/png": "[encoded data removed]",
      "text/plain": [
       "<matplotlib.figure.Figure at 0x7f07cc7cc438>"
      ]
     },
     "metadata": {},
     "output_type": "display_data"
    }
   ],
   "source": [
    "plt.plot(x_coord[0],y_coord[0], 'ro',x_coord[1],y_coord[1], 'bo', x_coord[2],y_coord[2], 'yo', x_coord[3],y_coord[3], 'go', x_coord[4],y_coord[4], 'co', x_coord[5],y_coord[5], 'mo', x_coord[6],y_coord[6], 'ro', x_coord[7],y_coord[7], 'bo', x_coord[8],y_coord[8], 'go', x_coord[9],y_coord[9], 'go')\n",
    "plt.show()"
   ]
  },
  {
   "cell_type": "code",
   "execution_count": 27,
   "metadata": {},
   "outputs": [
    {
     "data": {
      "text/plain": [
       "[[-1.6310643150021324, -0.8487676522385178, 2.479831967240651],\n",
       " [-1.6310643150021302, -0.8487676522385192, 2.4798319672406506],\n",
       " [-1.6319866378503087, -0.8479060178485572, 2.4798926556988654],\n",
       " [-1.6310643150021324, 2.4798319672406515, -0.8487676522385192],\n",
       " [-1.6310643150021313, 2.4798319672406466, -0.8487676522385145],\n",
       " [-1.6319866378503092, -0.8479060178485585, 2.479892655698868],\n",
       " [-0.8487676522385175, -1.6310643150021304, 2.4798319672406484],\n",
       " [-0.8487953094967219, -1.6309709730388515, 2.4797662825355746],\n",
       " [2.479831967240651, -1.6310643150021304, -0.8487676522385202],\n",
       " [-1.63106431500213, -0.8487676522385144, 2.479831967240644]]"
      ]
     },
     "execution_count": 27,
     "metadata": {},
     "output_type": "execute_result"
    }
   ],
   "source": [
    "x_coord"
   ]
  },
  {
   "cell_type": "code",
   "execution_count": 28,
   "metadata": {},
   "outputs": [],
   "source": [
    "#We can see that although the Silhouette coefficient is not high, the cluster centroids are stable \n",
    "#(at lest on the numerical variables),as we get almost the same ones after running the algorithm multiple times"
   ]
  },
  {
   "cell_type": "code",
   "execution_count": 29,
   "metadata": {},
   "outputs": [],
   "source": [
    "#We export them in order to study the clusters in other tool\n",
    "listings.to_csv('../Data/listings_cluster.csv', index=False)"
   ]
  }
 ],
 "metadata": {
  "kernelspec": {
   "display_name": "Python 3",
   "language": "python",
   "name": "python3"
  },
  "language_info": {
   "codemirror_mode": {
    "name": "ipython",
    "version": 3
   },
   "file_extension": ".py",
   "mimetype": "text/x-python",
   "name": "python",
   "nbconvert_exporter": "python",
   "pygments_lexer": "ipython3",
   "version": "3.5.4"
  }
 },
 "nbformat": 4,
 "nbformat_minor": 2
}
