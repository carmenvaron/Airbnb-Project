{
 "cells": [
  {
   "cell_type": "code",
   "execution_count": 1,
   "metadata": {},
   "outputs": [],
   "source": [
    "%matplotlib inline\n",
    "import matplotlib.pyplot as plt\n",
    "import numpy as np\n",
    "import pandas as pd\n",
    "import io\n",
    "import os\n",
    "import math\n",
    "from sklearn.metrics import silhouette_samples,silhouette_score\n",
    "from sklearn import preprocessing\n",
    "from scipy.spatial import distance\n",
    "from scipy.spatial.distance import cdist\n",
    "from sklearn.decomposition import PCA\n",
    "import random \n",
    "random.seed(33)"
   ]
  },
  {
   "cell_type": "code",
   "execution_count": 2,
   "metadata": {},
   "outputs": [],
   "source": [
    "listings = pd.read_csv('../Data/listings_clean.csv', index_col=0)"
   ]
  },
  {
   "cell_type": "code",
   "execution_count": 3,
   "metadata": {},
   "outputs": [],
   "source": [
    "numerical_features = ['latitude', 'longitude', 'accommodates', 'bathrooms','bedrooms', 'beds']"
   ]
  },
  {
   "cell_type": "code",
   "execution_count": 4,
   "metadata": {},
   "outputs": [],
   "source": [
    "boolean_features = ['instant_bookable', 'is_business_travel_ready']"
   ]
  },
  {
   "cell_type": "code",
   "execution_count": 5,
   "metadata": {},
   "outputs": [],
   "source": [
    "categorical_features = ['neighbourhood_cleansed', 'property_type', 'bed_type']\n",
    "listings_categorical = pd.get_dummies(listings[categorical_features], columns=categorical_features, \n",
    "                            prefix=[\"Neigh\", \"Property\", \"Bed\"])"
   ]
  },
  {
   "cell_type": "code",
   "execution_count": 6,
   "metadata": {},
   "outputs": [],
   "source": [
    "listingsCluster = pd.concat([listings[numerical_features],listings[categorical_features],listings[boolean_features]], axis=1)"
   ]
  },
  {
   "cell_type": "code",
   "execution_count": 7,
   "metadata": {},
   "outputs": [
    {
     "data": {
      "text/html": [
       "<div>\n",
       "<style scoped>\n",
       "    .dataframe tbody tr th:only-of-type {\n",
       "        vertical-align: middle;\n",
       "    }\n",
       "\n",
       "    .dataframe tbody tr th {\n",
       "        vertical-align: top;\n",
       "    }\n",
       "\n",
       "    .dataframe thead th {\n",
       "        text-align: right;\n",
       "    }\n",
       "</style>\n",
       "<table border=\"1\" class=\"dataframe\">\n",
       "  <thead>\n",
       "    <tr style=\"text-align: right;\">\n",
       "      <th></th>\n",
       "      <th>latitude</th>\n",
       "      <th>longitude</th>\n",
       "      <th>accommodates</th>\n",
       "      <th>bathrooms</th>\n",
       "      <th>bedrooms</th>\n",
       "      <th>beds</th>\n",
       "      <th>neighbourhood_cleansed</th>\n",
       "      <th>property_type</th>\n",
       "      <th>bed_type</th>\n",
       "      <th>instant_bookable</th>\n",
       "      <th>is_business_travel_ready</th>\n",
       "    </tr>\n",
       "    <tr>\n",
       "      <th>id</th>\n",
       "      <th></th>\n",
       "      <th></th>\n",
       "      <th></th>\n",
       "      <th></th>\n",
       "      <th></th>\n",
       "      <th></th>\n",
       "      <th></th>\n",
       "      <th></th>\n",
       "      <th></th>\n",
       "      <th></th>\n",
       "      <th></th>\n",
       "    </tr>\n",
       "  </thead>\n",
       "  <tbody>\n",
       "    <tr>\n",
       "      <th>18628</th>\n",
       "      <td>40.424715</td>\n",
       "      <td>-3.698638</td>\n",
       "      <td>2</td>\n",
       "      <td>1.0</td>\n",
       "      <td>0.0</td>\n",
       "      <td>1.0</td>\n",
       "      <td>Justicia</td>\n",
       "      <td>Apartment</td>\n",
       "      <td>Pull-out Sofa</td>\n",
       "      <td>1</td>\n",
       "      <td>0</td>\n",
       "    </tr>\n",
       "    <tr>\n",
       "      <th>19864</th>\n",
       "      <td>40.413418</td>\n",
       "      <td>-3.706838</td>\n",
       "      <td>2</td>\n",
       "      <td>1.0</td>\n",
       "      <td>0.0</td>\n",
       "      <td>1.0</td>\n",
       "      <td>Embajadores</td>\n",
       "      <td>Apartment</td>\n",
       "      <td>Pull-out Sofa</td>\n",
       "      <td>1</td>\n",
       "      <td>0</td>\n",
       "    </tr>\n",
       "    <tr>\n",
       "      <th>21512</th>\n",
       "      <td>40.424920</td>\n",
       "      <td>-3.713446</td>\n",
       "      <td>2</td>\n",
       "      <td>1.0</td>\n",
       "      <td>0.0</td>\n",
       "      <td>1.0</td>\n",
       "      <td>Argüelles</td>\n",
       "      <td>Apartment</td>\n",
       "      <td>Pull-out Sofa</td>\n",
       "      <td>0</td>\n",
       "      <td>0</td>\n",
       "    </tr>\n",
       "    <tr>\n",
       "      <th>23021</th>\n",
       "      <td>40.423417</td>\n",
       "      <td>-3.712456</td>\n",
       "      <td>10</td>\n",
       "      <td>3.0</td>\n",
       "      <td>4.0</td>\n",
       "      <td>5.0</td>\n",
       "      <td>Argüelles</td>\n",
       "      <td>Apartment</td>\n",
       "      <td>Real Bed</td>\n",
       "      <td>0</td>\n",
       "      <td>0</td>\n",
       "    </tr>\n",
       "    <tr>\n",
       "      <th>24805</th>\n",
       "      <td>40.422022</td>\n",
       "      <td>-3.703954</td>\n",
       "      <td>3</td>\n",
       "      <td>1.0</td>\n",
       "      <td>0.0</td>\n",
       "      <td>2.0</td>\n",
       "      <td>Universidad</td>\n",
       "      <td>Apartment</td>\n",
       "      <td>Real Bed</td>\n",
       "      <td>0</td>\n",
       "      <td>0</td>\n",
       "    </tr>\n",
       "  </tbody>\n",
       "</table>\n",
       "</div>"
      ],
      "text/plain": [
       "        latitude  longitude  accommodates  bathrooms  bedrooms  beds  \\\n",
       "id                                                                     \n",
       "18628  40.424715  -3.698638             2        1.0       0.0   1.0   \n",
       "19864  40.413418  -3.706838             2        1.0       0.0   1.0   \n",
       "21512  40.424920  -3.713446             2        1.0       0.0   1.0   \n",
       "23021  40.423417  -3.712456            10        3.0       4.0   5.0   \n",
       "24805  40.422022  -3.703954             3        1.0       0.0   2.0   \n",
       "\n",
       "      neighbourhood_cleansed property_type       bed_type  instant_bookable  \\\n",
       "id                                                                            \n",
       "18628               Justicia     Apartment  Pull-out Sofa                 1   \n",
       "19864            Embajadores     Apartment  Pull-out Sofa                 1   \n",
       "21512              Argüelles     Apartment  Pull-out Sofa                 0   \n",
       "23021              Argüelles     Apartment       Real Bed                 0   \n",
       "24805            Universidad     Apartment       Real Bed                 0   \n",
       "\n",
       "       is_business_travel_ready  \n",
       "id                               \n",
       "18628                         0  \n",
       "19864                         0  \n",
       "21512                         0  \n",
       "23021                         0  \n",
       "24805                         0  "
      ]
     },
     "execution_count": 7,
     "metadata": {},
     "output_type": "execute_result"
    }
   ],
   "source": [
    "listingsCluster.head()"
   ]
  },
  {
   "cell_type": "code",
   "execution_count": 8,
   "metadata": {},
   "outputs": [
    {
     "data": {
      "text/plain": [
       "latitude                    0\n",
       "longitude                   0\n",
       "accommodates                0\n",
       "bathrooms                   0\n",
       "bedrooms                    0\n",
       "beds                        0\n",
       "neighbourhood_cleansed      0\n",
       "property_type               0\n",
       "bed_type                    0\n",
       "instant_bookable            0\n",
       "is_business_travel_ready    0\n",
       "dtype: int64"
      ]
     },
     "execution_count": 8,
     "metadata": {},
     "output_type": "execute_result"
    }
   ],
   "source": [
    "listingsCluster.isnull().sum()"
   ]
  },
  {
   "cell_type": "code",
   "execution_count": 9,
   "metadata": {},
   "outputs": [],
   "source": [
    "to_categorical = categorical_features + boolean_features\n",
    "indCatColumns = [listingsCluster.columns.get_loc(col) for col in to_categorical]"
   ]
  },
  {
   "cell_type": "code",
   "execution_count": 10,
   "metadata": {},
   "outputs": [],
   "source": [
    "from sklearn.preprocessing import RobustScaler\n",
    "RS = RobustScaler()"
   ]
  },
  {
   "cell_type": "code",
   "execution_count": 11,
   "metadata": {},
   "outputs": [],
   "source": [
    "listingsCluster[numerical_features] = RS.fit_transform(listingsCluster[numerical_features])"
   ]
  },
  {
   "cell_type": "code",
   "execution_count": null,
   "metadata": {},
   "outputs": [
    {
     "data": {
      "text/html": [
       "<div>\n",
       "<style scoped>\n",
       "    .dataframe tbody tr th:only-of-type {\n",
       "        vertical-align: middle;\n",
       "    }\n",
       "\n",
       "    .dataframe tbody tr th {\n",
       "        vertical-align: top;\n",
       "    }\n",
       "\n",
       "    .dataframe thead th {\n",
       "        text-align: right;\n",
       "    }\n",
       "</style>\n",
       "<table border=\"1\" class=\"dataframe\">\n",
       "  <thead>\n",
       "    <tr style=\"text-align: right;\">\n",
       "      <th></th>\n",
       "      <th>latitude</th>\n",
       "      <th>longitude</th>\n",
       "      <th>accommodates</th>\n",
       "      <th>bathrooms</th>\n",
       "      <th>bedrooms</th>\n",
       "      <th>beds</th>\n",
       "      <th>instant_bookable</th>\n",
       "      <th>is_business_travel_ready</th>\n",
       "    </tr>\n",
       "  </thead>\n",
       "  <tbody>\n",
       "    <tr>\n",
       "      <th>count</th>\n",
       "      <td>8.586000e+03</td>\n",
       "      <td>8.586000e+03</td>\n",
       "      <td>8586.000000</td>\n",
       "      <td>8586.000000</td>\n",
       "      <td>8586.000000</td>\n",
       "      <td>8586.000000</td>\n",
       "      <td>8586.000000</td>\n",
       "      <td>8586.000000</td>\n",
       "    </tr>\n",
       "    <tr>\n",
       "      <th>mean</th>\n",
       "      <td>1.526813e-01</td>\n",
       "      <td>3.135931e-01</td>\n",
       "      <td>0.066562</td>\n",
       "      <td>0.248777</td>\n",
       "      <td>0.479385</td>\n",
       "      <td>0.201025</td>\n",
       "      <td>0.556138</td>\n",
       "      <td>0.063359</td>\n",
       "    </tr>\n",
       "    <tr>\n",
       "      <th>std</th>\n",
       "      <td>1.118500e+00</td>\n",
       "      <td>1.670191e+00</td>\n",
       "      <td>0.966366</td>\n",
       "      <td>0.512864</td>\n",
       "      <td>0.957383</td>\n",
       "      <td>0.766550</td>\n",
       "      <td>0.496867</td>\n",
       "      <td>0.243622</td>\n",
       "    </tr>\n",
       "    <tr>\n",
       "      <th>min</th>\n",
       "      <td>-5.753218e+00</td>\n",
       "      <td>-1.201677e+01</td>\n",
       "      <td>-1.500000</td>\n",
       "      <td>-1.000000</td>\n",
       "      <td>-1.000000</td>\n",
       "      <td>-0.500000</td>\n",
       "      <td>0.000000</td>\n",
       "      <td>0.000000</td>\n",
       "    </tr>\n",
       "    <tr>\n",
       "      <th>25%</th>\n",
       "      <td>-4.771182e-01</td>\n",
       "      <td>-4.703298e-01</td>\n",
       "      <td>-0.500000</td>\n",
       "      <td>0.000000</td>\n",
       "      <td>0.000000</td>\n",
       "      <td>-0.500000</td>\n",
       "      <td>0.000000</td>\n",
       "      <td>0.000000</td>\n",
       "    </tr>\n",
       "    <tr>\n",
       "      <th>50%</th>\n",
       "      <td>2.397762e-13</td>\n",
       "      <td>-1.997035e-14</td>\n",
       "      <td>0.000000</td>\n",
       "      <td>0.000000</td>\n",
       "      <td>0.000000</td>\n",
       "      <td>0.000000</td>\n",
       "      <td>1.000000</td>\n",
       "      <td>0.000000</td>\n",
       "    </tr>\n",
       "    <tr>\n",
       "      <th>75%</th>\n",
       "      <td>5.228818e-01</td>\n",
       "      <td>5.296702e-01</td>\n",
       "      <td>0.500000</td>\n",
       "      <td>0.000000</td>\n",
       "      <td>1.000000</td>\n",
       "      <td>0.500000</td>\n",
       "      <td>1.000000</td>\n",
       "      <td>0.000000</td>\n",
       "    </tr>\n",
       "    <tr>\n",
       "      <th>max</th>\n",
       "      <td>1.261458e+01</td>\n",
       "      <td>1.425931e+01</td>\n",
       "      <td>6.000000</td>\n",
       "      <td>5.000000</td>\n",
       "      <td>9.000000</td>\n",
       "      <td>7.500000</td>\n",
       "      <td>1.000000</td>\n",
       "      <td>1.000000</td>\n",
       "    </tr>\n",
       "  </tbody>\n",
       "</table>\n",
       "</div>"
      ],
      "text/plain": [
       "           latitude     longitude  accommodates    bathrooms     bedrooms  \\\n",
       "count  8.586000e+03  8.586000e+03   8586.000000  8586.000000  8586.000000   \n",
       "mean   1.526813e-01  3.135931e-01      0.066562     0.248777     0.479385   \n",
       "std    1.118500e+00  1.670191e+00      0.966366     0.512864     0.957383   \n",
       "min   -5.753218e+00 -1.201677e+01     -1.500000    -1.000000    -1.000000   \n",
       "25%   -4.771182e-01 -4.703298e-01     -0.500000     0.000000     0.000000   \n",
       "50%    2.397762e-13 -1.997035e-14      0.000000     0.000000     0.000000   \n",
       "75%    5.228818e-01  5.296702e-01      0.500000     0.000000     1.000000   \n",
       "max    1.261458e+01  1.425931e+01      6.000000     5.000000     9.000000   \n",
       "\n",
       "              beds  instant_bookable  is_business_travel_ready  \n",
       "count  8586.000000       8586.000000               8586.000000  \n",
       "mean      0.201025          0.556138                  0.063359  \n",
       "std       0.766550          0.496867                  0.243622  \n",
       "min      -0.500000          0.000000                  0.000000  \n",
       "25%      -0.500000          0.000000                  0.000000  \n",
       "50%       0.000000          1.000000                  0.000000  \n",
       "75%       0.500000          1.000000                  0.000000  \n",
       "max       7.500000          1.000000                  1.000000  "
      ]
     },
     "execution_count": 12,
     "metadata": {},
     "output_type": "execute_result"
    }
   ],
   "source": [
    "listingsCluster.describe()"
   ]
  },
  {
   "cell_type": "code",
   "execution_count": null,
   "metadata": {},
   "outputs": [],
   "source": [
    "! pip install --upgrade kmodes"
   ]
  },
  {
   "cell_type": "code",
   "execution_count": null,
   "metadata": {},
   "outputs": [],
   "source": [
    "from kmodes.kprototypes import KPrototypes"
   ]
  },
  {
   "cell_type": "code",
   "execution_count": null,
   "metadata": {},
   "outputs": [],
   "source": [
    "for cat_col in categorical_features:\n",
    "    listingsCluster[cat_col] = preprocessing.LabelEncoder().fit_transform(listingsCluster[cat_col])"
   ]
  },
  {
   "cell_type": "code",
   "execution_count": null,
   "metadata": {},
   "outputs": [],
   "source": [
    "X = listingsCluster.values"
   ]
  },
  {
   "cell_type": "code",
   "execution_count": null,
   "metadata": {},
   "outputs": [],
   "source": [
    "def distance_dissim(X,Y,gamma,categorical):\n",
    "    no_categorical = [i for i in range(len(X)) if i not in categorical]\n",
    "    Xnum = np.asanyarray([X[ii] for ii in no_categorical]).astype(np.float64)\n",
    "    Ynum = np.asanyarray([Y[ii] for ii in no_categorical]).astype(np.float64)\n",
    "    Xcat = np.asanyarray([X[ii] for ii in categorical])\n",
    "    Ycat = np.asanyarray([Y[ii] for ii in categorical])\n",
    "    \n",
    "    distance_dissim = distance.euclidean(Xnum, Ynum) + gamma * np.sum(Xcat != Ycat)\n",
    "    \n",
    "    return distance_dissim"
   ]
  },
  {
   "cell_type": "code",
   "execution_count": null,
   "metadata": {},
   "outputs": [],
   "source": [
    "meandist=[]\n",
    "clusters = range(1,10)\n",
    "\n",
    "for k in clusters:\n",
    "    model = KPrototypes(n_clusters=k, init='Huang', n_init=1, verbose=2)\n",
    "    model_fit = model.fit(X, categorical = indCatColumns)\n",
    "    clusassign= model_fit.predict(X, categorical = indCatColumns)\n",
    "    centroids = list()\n",
    "    for i in range(k):\n",
    "        centroids.append(list())\n",
    "        centroids[i] = np.append(model_fit.cluster_centroids_[0][i], model_fit.cluster_centroids_[1][i])\n",
    "    meandist.append(sum(np.min(cdist(X,centroids, metric=lambda X,Y: distance_dissim(X,Y,gamma = model_fit.gamma,categorical = indCatColumns)),axis=1))/listingsCluster.shape[0])"
   ]
  },
  {
   "cell_type": "code",
   "execution_count": null,
   "metadata": {},
   "outputs": [],
   "source": [
    "plt.plot(clusters,meandist)\n",
    "plt.xlabel(\"Number of clusters\")\n",
    "plt.ylabel(\"Average distance\")\n",
    "plt.title(\"Selecting k with the Elbow method\")\n",
    "plt.show()"
   ]
  },
  {
   "cell_type": "code",
   "execution_count": null,
   "metadata": {},
   "outputs": [],
   "source": [
    "#According to the Elbow method, we could consider 3 clusters and maybe 5 and 8 clusters"
   ]
  },
  {
   "cell_type": "code",
   "execution_count": null,
   "metadata": {},
   "outputs": [],
   "source": [
    "model3 = KPrototypes(n_clusters=3, init='Huang', n_init=1, verbose=2)\n",
    "model_fit3 = model3.fit(X, categorical = indCatColumns)\n",
    "clusassign3= model_fit3.predict(X, categorical = indCatColumns)\n",
    "listings['Cluster3'] = model_fit3.labels_"
   ]
  },
  {
   "cell_type": "code",
   "execution_count": null,
   "metadata": {
    "scrolled": true
   },
   "outputs": [],
   "source": [
    "plt.scatter(listings['latitude'], listings['longitude'], c = model_fit3.labels_.astype(np.float))\n",
    "plt.show()"
   ]
  },
  {
   "cell_type": "code",
   "execution_count": null,
   "metadata": {
    "scrolled": true
   },
   "outputs": [],
   "source": [
    "model5 = KPrototypes(n_clusters=5, init='Huang', n_init=1, verbose=2)\n",
    "model_fit5 = model5.fit(X, categorical = indCatColumns)\n",
    "clusassign5= model_fit5.predict(X, categorical = indCatColumns)\n",
    "listings['Cluster5'] = model_fit5.labels_"
   ]
  },
  {
   "cell_type": "code",
   "execution_count": null,
   "metadata": {},
   "outputs": [],
   "source": [
    "plt.scatter(listings['latitude'], listings['longitude'], c = model_fit5.labels_.astype(np.float))\n",
    "plt.show()"
   ]
  },
  {
   "cell_type": "code",
   "execution_count": null,
   "metadata": {},
   "outputs": [],
   "source": [
    "model8 = KPrototypes(n_clusters=8, init='Huang', n_init=1, verbose=2)\n",
    "model_fit8 = model8.fit(X, categorical = indCatColumns)\n",
    "clusassign8= model_fit8.predict(X, categorical = indCatColumns)\n",
    "listings['Cluster8'] = model_fit8.labels_"
   ]
  },
  {
   "cell_type": "code",
   "execution_count": null,
   "metadata": {},
   "outputs": [],
   "source": [
    "plt.scatter(listings['latitude'], listings['longitude'], c = model_fit8.labels_.astype(np.float))\n",
    "plt.show()"
   ]
  },
  {
   "cell_type": "code",
   "execution_count": null,
   "metadata": {},
   "outputs": [],
   "source": [
    "labels = model_fit3.labels_\n",
    "gamma = model_fit3.gamma\n",
    "Silhoutte3 = silhouette_score(X, labels, metric= lambda X,Y: distance_dissim(X,Y,gamma = gamma,categorical = indCatColumns))\n",
    "print(Silhoutte3)"
   ]
  },
  {
   "cell_type": "code",
   "execution_count": null,
   "metadata": {},
   "outputs": [],
   "source": [
    "labels = model_fit5.labels_\n",
    "gamma = model_fit5.gamma\n",
    "Silhoutte5 = silhouette_score(X, labels, metric= lambda X,Y: distance_dissim(X,Y,gamma = gamma,categorical = indCatColumns))\n",
    "print(Silhoutte5)"
   ]
  },
  {
   "cell_type": "code",
   "execution_count": null,
   "metadata": {},
   "outputs": [],
   "source": [
    "labels = model_fit8.labels_\n",
    "gamma = model_fit8.gamma\n",
    "Silhoutte5 = silhouette_score(X, labels, metric= lambda X,Y: distance_dissim(X,Y,gamma = gamma,categorical = indCatColumns))\n",
    "print(Silhoutte8)"
   ]
  },
  {
   "cell_type": "code",
   "execution_count": null,
   "metadata": {},
   "outputs": [],
   "source": [
    "#The Silhoutte coefficient should be close to 1 if there is a good split between clusters, so it doesn't seem these are good clusters\n",
    "#Even though, we test the stability of the clusters recalculating them with K=3 (highest coefficient)"
   ]
  },
  {
   "cell_type": "code",
   "execution_count": null,
   "metadata": {},
   "outputs": [],
   "source": [
    "centroids = model_fit3.cluster_centroids_[0]\n",
    "centroids_PCA = PCA(n_components=2).fit_transform(centroids)"
   ]
  },
  {
   "cell_type": "code",
   "execution_count": null,
   "metadata": {},
   "outputs": [],
   "source": [
    "x_coord=list()\n",
    "y_coord=list()\n",
    "x_coord.append(list())\n",
    "y_coord.append(list())\n",
    "for i in range(0,3):\n",
    "    x_coord[0].append(centroids_PCA[i][0])\n",
    "    y_coord[0].append(centroids_PCA[i][1])"
   ]
  },
  {
   "cell_type": "code",
   "execution_count": null,
   "metadata": {},
   "outputs": [],
   "source": [
    "for k in range(1,10):\n",
    "    model = KPrototypes(n_clusters=3, init='Huang', n_init=1, verbose=False)\n",
    "    model_fit = model.fit(X, categorical = indCatColumns)\n",
    "    centroids = model_fit.cluster_centroids_[0]\n",
    "    centroids_PCA = PCA(n_components=2).fit_transform(centroids)\n",
    "    x_coord.append(list())\n",
    "    y_coord.append(list())\n",
    "    for i in range(0,3):\n",
    "        x_coord[k].append(centroids_PCA[i][0])\n",
    "        y_coord[k].append(centroids_PCA[i][1])"
   ]
  },
  {
   "cell_type": "code",
   "execution_count": null,
   "metadata": {
    "scrolled": true
   },
   "outputs": [],
   "source": [
    "plt.plot(x_coord[0],y_coord[0], 'ro',x_coord[1],y_coord[1], 'bo', x_coord[2],y_coord[2], 'yo', x_coord[3],y_coord[3], 'go', x_coord[4],y_coord[4], 'co', x_coord[5],y_coord[5], 'mo', x_coord[6],y_coord[6], 'ro', x_coord[7],y_coord[7], 'bo', x_coord[8],y_coord[8], 'go', x_coord[9],y_coord[9], 'go')\n",
    "plt.show()"
   ]
  },
  {
   "cell_type": "code",
   "execution_count": null,
   "metadata": {},
   "outputs": [],
   "source": [
    "x_coord"
   ]
  },
  {
   "cell_type": "code",
   "execution_count": null,
   "metadata": {},
   "outputs": [],
   "source": [
    "#We can see that although the Silhouette coefficient is not high, the cluster centroids are stable \n",
    "#(at lest on the numerical variables),as we get almost the same ones after running the algorithm multiple times"
   ]
  },
  {
   "cell_type": "code",
   "execution_count": null,
   "metadata": {},
   "outputs": [],
   "source": [
    "#We export them in order to study the clusters in other tool\n",
    "listings.to_csv('../Data/listings_cluster.csv', index=False)"
   ]
  }
 ],
 "metadata": {
  "kernelspec": {
   "display_name": "Python 3",
   "language": "python",
   "name": "python3"
  },
  "language_info": {
   "codemirror_mode": {
    "name": "ipython",
    "version": 3
   },
   "file_extension": ".py",
   "mimetype": "text/x-python",
   "name": "python",
   "nbconvert_exporter": "python",
   "pygments_lexer": "ipython3",
   "version": "3.5.4"
  }
 },
 "nbformat": 4,
 "nbformat_minor": 2
}
