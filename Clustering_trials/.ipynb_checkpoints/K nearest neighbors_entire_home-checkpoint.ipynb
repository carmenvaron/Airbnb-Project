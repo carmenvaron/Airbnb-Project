{
 "cells": [
  {
   "cell_type": "code",
   "execution_count": 1,
   "metadata": {},
   "outputs": [],
   "source": [
    "import pandas as pd\n",
    "import numpy as np\n",
    "from sklearn import preprocessing\n",
    "from scipy.spatial import distance\n",
    "from sklearn.neighbors import NearestNeighbors\n",
    "from sklearn.preprocessing import RobustScaler"
   ]
  },
  {
   "cell_type": "code",
   "execution_count": 2,
   "metadata": {},
   "outputs": [],
   "source": [
    "listings = pd.read_csv('../Data/listings_cleanTotal.csv')"
   ]
  },
  {
   "cell_type": "code",
   "execution_count": 35,
   "metadata": {},
   "outputs": [],
   "source": [
    "numerical_features = ['latitude', 'longitude', 'accommodates', 'bathrooms','bedrooms', 'minimum_nights']\n",
    "boolean_features = ['instant_bookable', 'is_business_travel_ready', 'Parking', 'Wifi']\n",
    "categorical_features = ['neighbourhood_cleansed', 'property_type', 'cancellation_policy']\n",
    "listings_categorical = pd.get_dummies(listings[categorical_features], columns=categorical_features, \n",
    "                            prefix=[\"Neigh\", \"Property\", \"CancPol\"])\n",
    "listingsCluster = pd.concat([listings['id'], listings['room_type'],listings[numerical_features],listings[categorical_features],listings[boolean_features]], axis=1)"
   ]
  },
  {
   "cell_type": "code",
   "execution_count": 36,
   "metadata": {},
   "outputs": [],
   "source": [
    "listingsHome = listingsCluster[listingsCluster['room_type']=='Entire home/apt'].drop(['room_type'],axis=1)\n",
    "listingsRoom = listingsCluster[listingsCluster['room_type']=='Private room'].drop(['room_type'],axis=1)\n",
    "listingsSharedRoom = listingsCluster[listingsCluster['room_type']=='Shared room'].drop(['room_type'],axis=1)"
   ]
  },
  {
   "cell_type": "code",
   "execution_count": 37,
   "metadata": {
    "scrolled": true
   },
   "outputs": [],
   "source": [
    "listingsHome = listingsHome.reset_index(drop=True)\n",
    "listingsRoom = listingsRoom.reset_index(drop=True)\n",
    "listingsSharedRoom = listingsSharedRoom.reset_index(drop=True)"
   ]
  },
  {
   "cell_type": "code",
   "execution_count": 87,
   "metadata": {},
   "outputs": [],
   "source": [
    "to_categorical = categorical_features + boolean_features\n",
    "indCatColumns = [listingsCluster.iloc[:,2:].columns.get_loc(col) for col in to_categorical]\n",
    "no_categorical = [i for i in range(listingsCluster.iloc[:,2:].shape[1]) if i not in indCatColumns]"
   ]
  },
  {
   "cell_type": "markdown",
   "metadata": {},
   "source": [
    "K neighbors for full house"
   ]
  },
  {
   "cell_type": "code",
   "execution_count": 88,
   "metadata": {},
   "outputs": [],
   "source": [
    "RS = RobustScaler()\n",
    "listingsHome[numerical_features] = RS.fit_transform(listingsHome[numerical_features])"
   ]
  },
  {
   "cell_type": "code",
   "execution_count": 89,
   "metadata": {},
   "outputs": [
    {
     "data": {
      "text/html": [
       "<div>\n",
       "<style scoped>\n",
       "    .dataframe tbody tr th:only-of-type {\n",
       "        vertical-align: middle;\n",
       "    }\n",
       "\n",
       "    .dataframe tbody tr th {\n",
       "        vertical-align: top;\n",
       "    }\n",
       "\n",
       "    .dataframe thead th {\n",
       "        text-align: right;\n",
       "    }\n",
       "</style>\n",
       "<table border=\"1\" class=\"dataframe\">\n",
       "  <thead>\n",
       "    <tr style=\"text-align: right;\">\n",
       "      <th></th>\n",
       "      <th>id</th>\n",
       "      <th>latitude</th>\n",
       "      <th>longitude</th>\n",
       "      <th>accommodates</th>\n",
       "      <th>bathrooms</th>\n",
       "      <th>bedrooms</th>\n",
       "      <th>minimum_nights</th>\n",
       "      <th>neighbourhood_cleansed</th>\n",
       "      <th>property_type</th>\n",
       "      <th>cancellation_policy</th>\n",
       "      <th>instant_bookable</th>\n",
       "      <th>is_business_travel_ready</th>\n",
       "      <th>Parking</th>\n",
       "      <th>Wifi</th>\n",
       "    </tr>\n",
       "  </thead>\n",
       "  <tbody>\n",
       "    <tr>\n",
       "      <th>0</th>\n",
       "      <td>18628</td>\n",
       "      <td>0.464673</td>\n",
       "      <td>0.292232</td>\n",
       "      <td>-1.0</td>\n",
       "      <td>0.0</td>\n",
       "      <td>-1.0</td>\n",
       "      <td>26.0</td>\n",
       "      <td>61</td>\n",
       "      <td>0</td>\n",
       "      <td>2</td>\n",
       "      <td>1</td>\n",
       "      <td>0</td>\n",
       "      <td>0</td>\n",
       "      <td>1</td>\n",
       "    </tr>\n",
       "    <tr>\n",
       "      <th>1</th>\n",
       "      <td>19864</td>\n",
       "      <td>-0.297783</td>\n",
       "      <td>-0.445287</td>\n",
       "      <td>-1.0</td>\n",
       "      <td>0.0</td>\n",
       "      <td>-1.0</td>\n",
       "      <td>0.0</td>\n",
       "      <td>48</td>\n",
       "      <td>0</td>\n",
       "      <td>2</td>\n",
       "      <td>1</td>\n",
       "      <td>0</td>\n",
       "      <td>0</td>\n",
       "      <td>1</td>\n",
       "    </tr>\n",
       "    <tr>\n",
       "      <th>2</th>\n",
       "      <td>21512</td>\n",
       "      <td>0.478503</td>\n",
       "      <td>-1.039572</td>\n",
       "      <td>-1.0</td>\n",
       "      <td>0.0</td>\n",
       "      <td>-1.0</td>\n",
       "      <td>0.0</td>\n",
       "      <td>16</td>\n",
       "      <td>0</td>\n",
       "      <td>0</td>\n",
       "      <td>0</td>\n",
       "      <td>0</td>\n",
       "      <td>0</td>\n",
       "      <td>1</td>\n",
       "    </tr>\n",
       "    <tr>\n",
       "      <th>3</th>\n",
       "      <td>23021</td>\n",
       "      <td>0.377025</td>\n",
       "      <td>-0.950544</td>\n",
       "      <td>3.0</td>\n",
       "      <td>2.0</td>\n",
       "      <td>3.0</td>\n",
       "      <td>0.0</td>\n",
       "      <td>16</td>\n",
       "      <td>0</td>\n",
       "      <td>1</td>\n",
       "      <td>0</td>\n",
       "      <td>0</td>\n",
       "      <td>0</td>\n",
       "      <td>1</td>\n",
       "    </tr>\n",
       "    <tr>\n",
       "      <th>4</th>\n",
       "      <td>24805</td>\n",
       "      <td>0.282889</td>\n",
       "      <td>-0.185874</td>\n",
       "      <td>-0.5</td>\n",
       "      <td>0.0</td>\n",
       "      <td>-1.0</td>\n",
       "      <td>1.0</td>\n",
       "      <td>109</td>\n",
       "      <td>0</td>\n",
       "      <td>2</td>\n",
       "      <td>0</td>\n",
       "      <td>0</td>\n",
       "      <td>0</td>\n",
       "      <td>1</td>\n",
       "    </tr>\n",
       "  </tbody>\n",
       "</table>\n",
       "</div>"
      ],
      "text/plain": [
       "      id  latitude  longitude  accommodates  bathrooms  bedrooms  \\\n",
       "0  18628  0.464673   0.292232          -1.0        0.0      -1.0   \n",
       "1  19864 -0.297783  -0.445287          -1.0        0.0      -1.0   \n",
       "2  21512  0.478503  -1.039572          -1.0        0.0      -1.0   \n",
       "3  23021  0.377025  -0.950544           3.0        2.0       3.0   \n",
       "4  24805  0.282889  -0.185874          -0.5        0.0      -1.0   \n",
       "\n",
       "   minimum_nights  neighbourhood_cleansed  property_type  cancellation_policy  \\\n",
       "0            26.0                      61              0                    2   \n",
       "1             0.0                      48              0                    2   \n",
       "2             0.0                      16              0                    0   \n",
       "3             0.0                      16              0                    1   \n",
       "4             1.0                     109              0                    2   \n",
       "\n",
       "   instant_bookable  is_business_travel_ready  Parking  Wifi  \n",
       "0                 1                         0        0     1  \n",
       "1                 1                         0        0     1  \n",
       "2                 0                         0        0     1  \n",
       "3                 0                         0        0     1  \n",
       "4                 0                         0        0     1  "
      ]
     },
     "execution_count": 89,
     "metadata": {},
     "output_type": "execute_result"
    }
   ],
   "source": [
    "listingsHome.head()"
   ]
  },
  {
   "cell_type": "code",
   "execution_count": 90,
   "metadata": {},
   "outputs": [],
   "source": [
    "for cat_col in categorical_features:\n",
    "    listingsHome[cat_col] = preprocessing.LabelEncoder().fit_transform(listingsHome[cat_col])"
   ]
  },
  {
   "cell_type": "code",
   "execution_count": 114,
   "metadata": {},
   "outputs": [],
   "source": [
    "X = listingsHome.loc[:,listingsHome.columns != 'id'].values"
   ]
  },
  {
   "cell_type": "code",
   "execution_count": 92,
   "metadata": {},
   "outputs": [],
   "source": [
    "Xnum = X[:,no_categorical]\n",
    "gamma =  0.5 * Xnum.std()"
   ]
  },
  {
   "cell_type": "code",
   "execution_count": 93,
   "metadata": {},
   "outputs": [],
   "source": [
    "def distance_dissim(X,Y,gamma,categorical):\n",
    "    no_categorical = [i for i in range(len(X)) if i not in categorical]\n",
    "    Xnum = X[no_categorical]\n",
    "    Ynum = Y[no_categorical]\n",
    "    Xcat = X[categorical]\n",
    "    Ycat = Y[categorical]\n",
    "    \n",
    "    distance_dissim = distance.euclidean(Xnum, Ynum) + gamma * np.sum(Xcat != Ycat)\n",
    "    \n",
    "    return distance_dissim"
   ]
  },
  {
   "cell_type": "code",
   "execution_count": 94,
   "metadata": {},
   "outputs": [],
   "source": [
    "neigh = NearestNeighbors(n_neighbors=11, metric=lambda X,Y: distance_dissim(X,Y,gamma = gamma,categorical = indCatColumns))"
   ]
  },
  {
   "cell_type": "code",
   "execution_count": 98,
   "metadata": {},
   "outputs": [],
   "source": [
    "neigh_fit = neigh.fit(X)"
   ]
  },
  {
   "cell_type": "code",
   "execution_count": 99,
   "metadata": {},
   "outputs": [],
   "source": [
    "vecinos = neigh.kneighbors(X,11, return_distance=False)"
   ]
  },
  {
   "cell_type": "code",
   "execution_count": 111,
   "metadata": {},
   "outputs": [],
   "source": [
    "vecinos_id_home=np.empty(shape=(0,3)).astype(int)\n",
    "\n",
    "for house in vecinos:\n",
    "    position = 0\n",
    "    for element in house:\n",
    "        listWithNeighbors=[listingsHome.loc[house[0]]['id']] + [listingsHome.loc[element]['id']] + [position]\n",
    "        vecinos_id_home = np.vstack([vecinos_id_home,listWithNeighbors])\n",
    "        position +=1"
   ]
  },
  {
   "cell_type": "markdown",
   "metadata": {},
   "source": [
    "K neighbors for Private room"
   ]
  },
  {
   "cell_type": "code",
   "execution_count": 15,
   "metadata": {},
   "outputs": [],
   "source": [
    "RS = RobustScaler()\n",
    "listingsRoom[numerical_features] = RS.fit_transform(listingsRoom[numerical_features])"
   ]
  },
  {
   "cell_type": "code",
   "execution_count": 16,
   "metadata": {},
   "outputs": [],
   "source": [
    "for cat_col in categorical_features:\n",
    "    listingsRoom[cat_col] = preprocessing.LabelEncoder().fit_transform(listingsRoom[cat_col])"
   ]
  },
  {
   "cell_type": "code",
   "execution_count": 17,
   "metadata": {},
   "outputs": [],
   "source": [
    "X = listingsRoom.loc[:,listingsRoom.columns != 'id'].values"
   ]
  },
  {
   "cell_type": "code",
   "execution_count": 18,
   "metadata": {},
   "outputs": [],
   "source": [
    "Xnum = X[:,no_categorical]\n",
    "gamma =  0.5 * Xnum.std()"
   ]
  },
  {
   "cell_type": "code",
   "execution_count": 19,
   "metadata": {},
   "outputs": [],
   "source": [
    "neigh = NearestNeighbors(n_neighbors=11, metric=lambda X,Y: distance_dissim(X,Y,gamma = gamma,categorical = indCatColumns))"
   ]
  },
  {
   "cell_type": "code",
   "execution_count": 20,
   "metadata": {},
   "outputs": [],
   "source": [
    "neigh_fit = neigh.fit(X)"
   ]
  },
  {
   "cell_type": "code",
   "execution_count": 21,
   "metadata": {},
   "outputs": [],
   "source": [
    "vecinos = neigh.kneighbors(X,11, return_distance=False)"
   ]
  },
  {
   "cell_type": "code",
   "execution_count": 22,
   "metadata": {},
   "outputs": [],
   "source": [
    "vecinos_id_room=np.empty(shape=(0,3)).astype(int)\n",
    "\n",
    "for house in vecinos:\n",
    "    position = 0\n",
    "    for element in house:\n",
    "        listWithNeighbors=[listingsRoom.loc[house[0]]['id']] + [listingsRoom.loc[element]['id']] + [position]\n",
    "        vecinos_id_room = np.vstack([vecinos_id_room,listWithNeighbors])\n",
    "        position +=1"
   ]
  },
  {
   "cell_type": "markdown",
   "metadata": {},
   "source": [
    "K neighbors for Shared room"
   ]
  },
  {
   "cell_type": "code",
   "execution_count": 23,
   "metadata": {},
   "outputs": [],
   "source": [
    "RS = RobustScaler()\n",
    "listingsSharedRoom[numerical_features] = RS.fit_transform(listingsSharedRoom[numerical_features])"
   ]
  },
  {
   "cell_type": "code",
   "execution_count": 24,
   "metadata": {},
   "outputs": [],
   "source": [
    "for cat_col in categorical_features:\n",
    "    listingsSharedRoom[cat_col] = preprocessing.LabelEncoder().fit_transform(listingsSharedRoom[cat_col])"
   ]
  },
  {
   "cell_type": "code",
   "execution_count": 25,
   "metadata": {},
   "outputs": [],
   "source": [
    "X = listingsSharedRoom.loc[:,listingsSharedRoom.columns != 'id'].values"
   ]
  },
  {
   "cell_type": "code",
   "execution_count": 26,
   "metadata": {},
   "outputs": [],
   "source": [
    "Xnum = X[:,no_categorical]\n",
    "gamma =  0.5 * Xnum.std()"
   ]
  },
  {
   "cell_type": "code",
   "execution_count": 27,
   "metadata": {},
   "outputs": [],
   "source": [
    "neigh = NearestNeighbors(n_neighbors=11, metric=lambda X,Y: distance_dissim(X,Y,gamma = gamma,categorical = indCatColumns))"
   ]
  },
  {
   "cell_type": "code",
   "execution_count": 28,
   "metadata": {},
   "outputs": [],
   "source": [
    "neigh_fit = neigh.fit(X)"
   ]
  },
  {
   "cell_type": "code",
   "execution_count": 29,
   "metadata": {},
   "outputs": [],
   "source": [
    "vecinos = neigh.kneighbors(X,11, return_distance=False)"
   ]
  },
  {
   "cell_type": "code",
   "execution_count": 30,
   "metadata": {},
   "outputs": [],
   "source": [
    "vecinos_id_shared=np.empty(shape=(0,3)).astype(int)\n",
    "\n",
    "for house in vecinos:\n",
    "    position = 0\n",
    "    for element in house:\n",
    "        listWithNeighbors=[listingsSharedRoom.loc[house[0]]['id']] + [listingsSharedRoom.loc[element]['id']] + [position]\n",
    "        vecinos_id_shared = np.vstack([vecinos_id_shared,listWithNeighbors])\n",
    "        position +=1"
   ]
  },
  {
   "cell_type": "code",
   "execution_count": 31,
   "metadata": {},
   "outputs": [],
   "source": [
    "vecinos_id = np.vstack([vecinos_id_home,vecinos_id_room,vecinos_id_shared])"
   ]
  },
  {
   "cell_type": "code",
   "execution_count": 43,
   "metadata": {},
   "outputs": [
    {
     "data": {
      "text/plain": [
       "(190521, 3)"
      ]
     },
     "execution_count": 43,
     "metadata": {},
     "output_type": "execute_result"
    }
   ],
   "source": [
    "vecinos_id.shape"
   ]
  },
  {
   "cell_type": "code",
   "execution_count": 41,
   "metadata": {},
   "outputs": [],
   "source": [
    "header_n =['idNeighbourSelection','id','NeighbourNum']\n",
    "pd.DataFrame(data=vecinos_id).to_csv('../Data/kneighbors_file2.csv', header=header_n)"
   ]
  }
 ],
 "metadata": {
  "kernelspec": {
   "display_name": "Python 3",
   "language": "python",
   "name": "python3"
  },
  "language_info": {
   "codemirror_mode": {
    "name": "ipython",
    "version": 3
   },
   "file_extension": ".py",
   "mimetype": "text/x-python",
   "name": "python",
   "nbconvert_exporter": "python",
   "pygments_lexer": "ipython3",
   "version": "3.5.4"
  }
 },
 "nbformat": 4,
 "nbformat_minor": 2
}
