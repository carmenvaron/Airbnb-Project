{
 "cells": [
  {
   "cell_type": "code",
   "execution_count": 151,
   "metadata": {},
   "outputs": [],
   "source": [
    "import pandas as pd\n",
    "import numpy as np\n",
    "from sklearn import preprocessing\n",
    "from scipy.spatial import distance"
   ]
  },
  {
   "cell_type": "code",
   "execution_count": 152,
   "metadata": {},
   "outputs": [],
   "source": [
    "listings = pd.read_csv('../Data/listings_clean.csv')"
   ]
  },
  {
   "cell_type": "code",
   "execution_count": 153,
   "metadata": {},
   "outputs": [],
   "source": [
    "numerical_features = ['latitude', 'longitude', 'accommodates', 'bathrooms','bedrooms', 'beds']\n",
    "boolean_features = ['instant_bookable', 'is_business_travel_ready']\n",
    "categorical_features = ['neighbourhood_cleansed', 'property_type', 'bed_type']\n",
    "listings_categorical = pd.get_dummies(listings[categorical_features], columns=categorical_features, \n",
    "                            prefix=[\"Neigh\", \"Property\", \"Bed\"])\n",
    "listingsCluster = pd.concat([listings[numerical_features],listings[categorical_features],listings[boolean_features]], axis=1)"
   ]
  },
  {
   "cell_type": "code",
   "execution_count": 154,
   "metadata": {},
   "outputs": [],
   "source": [
    "to_categorical = categorical_features + boolean_features\n",
    "indCatColumns = [listingsCluster.columns.get_loc(col) for col in to_categorical]"
   ]
  },
  {
   "cell_type": "code",
   "execution_count": 155,
   "metadata": {},
   "outputs": [],
   "source": [
    "from sklearn.preprocessing import RobustScaler\n",
    "RS = RobustScaler()\n",
    "listingsCluster[numerical_features] = RS.fit_transform(listingsCluster[numerical_features])\n",
    "#In order to put more weight on these 2 variables\n",
    "#listingsCluster['latitude'] = listingsCluster['latitude'] * 3\n",
    "#listingsCluster['longitude'] = listingsCluster['latitude'] * 3"
   ]
  },
  {
   "cell_type": "code",
   "execution_count": 156,
   "metadata": {},
   "outputs": [],
   "source": [
    "for cat_col in categorical_features:\n",
    "    listingsCluster[cat_col] = preprocessing.LabelEncoder().fit_transform(listingsCluster[cat_col])"
   ]
  },
  {
   "cell_type": "code",
   "execution_count": 157,
   "metadata": {},
   "outputs": [],
   "source": [
    "X = listingsCluster.values"
   ]
  },
  {
   "cell_type": "code",
   "execution_count": 158,
   "metadata": {},
   "outputs": [],
   "source": [
    "from sklearn.neighbors import NearestNeighbors"
   ]
  },
  {
   "cell_type": "code",
   "execution_count": 159,
   "metadata": {},
   "outputs": [],
   "source": [
    "no_categorical = [i for i in range(len(X)) if i not in indCatColumns]\n",
    "Xnum = np.asanyarray([X[ii] for ii in no_categorical]).astype(np.float64)\n",
    "gamma =  0.5 * Xnum.std()"
   ]
  },
  {
   "cell_type": "code",
   "execution_count": 160,
   "metadata": {},
   "outputs": [],
   "source": [
    "def distance_dissim(X,Y,gamma,categorical):\n",
    "    no_categorical = [i for i in range(len(X)) if i not in categorical]\n",
    "    Xnum = np.asanyarray([X[ii] for ii in no_categorical]).astype(np.float64)\n",
    "    Ynum = np.asanyarray([Y[ii] for ii in no_categorical]).astype(np.float64)\n",
    "    Xcat = np.asanyarray([X[ii] for ii in categorical])\n",
    "    Ycat = np.asanyarray([Y[ii] for ii in categorical])\n",
    "    \n",
    "    distance_dissim = distance.euclidean(Xnum, Ynum) + gamma * np.sum(Xcat != Ycat)\n",
    "    \n",
    "    return distance_dissim"
   ]
  },
  {
   "cell_type": "code",
   "execution_count": 161,
   "metadata": {},
   "outputs": [],
   "source": [
    "neigh = NearestNeighbors(n_neighbors=11, metric=lambda X,Y: distance_dissim(X,Y,gamma = gamma,categorical = indCatColumns))"
   ]
  },
  {
   "cell_type": "code",
   "execution_count": 162,
   "metadata": {},
   "outputs": [],
   "source": [
    "neigh_fit = neigh.fit(X)"
   ]
  },
  {
   "cell_type": "code",
   "execution_count": null,
   "metadata": {},
   "outputs": [],
   "source": [
    "vecinos = neigh.kneighbors(X,11, return_distance=False)"
   ]
  },
  {
   "cell_type": "code",
   "execution_count": null,
   "metadata": {},
   "outputs": [],
   "source": [
    "vecinos_id = {}\n",
    "\n",
    "for house in vecinos:\n",
    "    id_house=listings.loc[house[0]]['id']\n",
    "    vecinos_id[id_house]=list()\n",
    "    for element in house[1:]:\n",
    "        vecinos_id[id_house].append(listings.loc[element]['id'])"
   ]
  },
  {
   "cell_type": "code",
   "execution_count": null,
   "metadata": {},
   "outputs": [],
   "source": [
    "vecinos_id"
   ]
  },
  {
   "cell_type": "code",
   "execution_count": null,
   "metadata": {},
   "outputs": [],
   "source": [
    "header_n =[\"Neighbor_\"+ str(i) for i in range(1,11)]\n",
    "(pd.DataFrame.from_dict(data=vecinos_id, orient='index').to_csv('dict_file.csv', header=header_n))"
   ]
  }
 ],
 "metadata": {
  "kernelspec": {
   "display_name": "Python 3",
   "language": "python",
   "name": "python3"
  },
  "language_info": {
   "codemirror_mode": {
    "name": "ipython",
    "version": 3
   },
   "file_extension": ".py",
   "mimetype": "text/x-python",
   "name": "python",
   "nbconvert_exporter": "python",
   "pygments_lexer": "ipython3",
   "version": "3.5.4"
  }
 },
 "nbformat": 4,
 "nbformat_minor": 2
}
